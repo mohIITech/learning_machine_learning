{
 "cells": [
  {
   "cell_type": "code",
   "execution_count": null,
   "id": "9fc20be9-2fd0-44cf-b780-6e89b5479395",
   "metadata": {},
   "outputs": [
    {
     "name": "stdout",
     "output_type": "stream",
     "text": [
      "Requirement already satisfied: ydata-profiling in /home/daddy/miniconda3/envs/ml_env/lib/python3.12/site-packages (4.16.1)\n",
      "Requirement already satisfied: scipy<1.16,>=1.4.1 in /home/daddy/miniconda3/envs/ml_env/lib/python3.12/site-packages (from ydata-profiling) (1.15.2)\n",
      "Requirement already satisfied: pandas!=1.4.0,<3.0,>1.1 in /home/daddy/miniconda3/envs/ml_env/lib/python3.12/site-packages (from ydata-profiling) (2.2.3)\n",
      "Requirement already satisfied: matplotlib<=3.10,>=3.5 in /home/daddy/miniconda3/envs/ml_env/lib/python3.12/site-packages (from ydata-profiling) (3.10.0)\n",
      "Requirement already satisfied: pydantic>=2 in /home/daddy/miniconda3/envs/ml_env/lib/python3.12/site-packages (from ydata-profiling) (2.11.1)\n",
      "Requirement already satisfied: PyYAML<6.1,>=5.0.0 in /home/daddy/miniconda3/envs/ml_env/lib/python3.12/site-packages (from ydata-profiling) (6.0.2)\n",
      "Requirement already satisfied: jinja2<3.2,>=2.11.1 in /home/daddy/miniconda3/envs/ml_env/lib/python3.12/site-packages (from ydata-profiling) (3.1.5)\n",
      "Requirement already satisfied: visions<0.8.2,>=0.7.5 in /home/daddy/miniconda3/envs/ml_env/lib/python3.12/site-packages (from visions[type_image_path]<0.8.2,>=0.7.5->ydata-profiling) (0.8.1)\n",
      "Requirement already satisfied: numpy<2.2,>=1.16.0 in /home/daddy/miniconda3/envs/ml_env/lib/python3.12/site-packages (from ydata-profiling) (2.1.3)\n",
      "Requirement already satisfied: htmlmin==0.1.12 in /home/daddy/miniconda3/envs/ml_env/lib/python3.12/site-packages (from ydata-profiling) (0.1.12)\n",
      "Requirement already satisfied: phik<0.13,>=0.11.1 in /home/daddy/miniconda3/envs/ml_env/lib/python3.12/site-packages (from ydata-profiling) (0.12.4)\n",
      "Requirement already satisfied: requests<3,>=2.24.0 in /home/daddy/miniconda3/envs/ml_env/lib/python3.12/site-packages (from ydata-profiling) (2.32.3)\n",
      "Requirement already satisfied: tqdm<5,>=4.48.2 in /home/daddy/miniconda3/envs/ml_env/lib/python3.12/site-packages (from ydata-profiling) (4.67.1)\n",
      "Requirement already satisfied: seaborn<0.14,>=0.10.1 in /home/daddy/miniconda3/envs/ml_env/lib/python3.12/site-packages (from ydata-profiling) (0.13.2)\n",
      "Requirement already satisfied: multimethod<2,>=1.4 in /home/daddy/miniconda3/envs/ml_env/lib/python3.12/site-packages (from ydata-profiling) (1.12)\n",
      "Requirement already satisfied: statsmodels<1,>=0.13.2 in /home/daddy/miniconda3/envs/ml_env/lib/python3.12/site-packages (from ydata-profiling) (0.14.4)\n",
      "Requirement already satisfied: typeguard<5,>=3 in /home/daddy/miniconda3/envs/ml_env/lib/python3.12/site-packages (from ydata-profiling) (4.4.2)\n",
      "Requirement already satisfied: imagehash==4.3.1 in /home/daddy/miniconda3/envs/ml_env/lib/python3.12/site-packages (from ydata-profiling) (4.3.1)\n",
      "Requirement already satisfied: wordcloud>=1.9.3 in /home/daddy/miniconda3/envs/ml_env/lib/python3.12/site-packages (from ydata-profiling) (1.9.4)\n",
      "Requirement already satisfied: dacite>=1.8 in /home/daddy/miniconda3/envs/ml_env/lib/python3.12/site-packages (from ydata-profiling) (1.9.2)\n",
      "Requirement already satisfied: numba<=0.61,>=0.56.0 in /home/daddy/miniconda3/envs/ml_env/lib/python3.12/site-packages (from ydata-profiling) (0.61.0)\n",
      "Requirement already satisfied: PyWavelets in /home/daddy/miniconda3/envs/ml_env/lib/python3.12/site-packages (from imagehash==4.3.1->ydata-profiling) (1.8.0)\n",
      "Requirement already satisfied: pillow in /home/daddy/miniconda3/envs/ml_env/lib/python3.12/site-packages (from imagehash==4.3.1->ydata-profiling) (11.1.0)\n",
      "Requirement already satisfied: MarkupSafe>=2.0 in /home/daddy/miniconda3/envs/ml_env/lib/python3.12/site-packages (from jinja2<3.2,>=2.11.1->ydata-profiling) (2.1.5)\n",
      "Requirement already satisfied: contourpy>=1.0.1 in /home/daddy/miniconda3/envs/ml_env/lib/python3.12/site-packages (from matplotlib<=3.10,>=3.5->ydata-profiling) (1.3.1)\n",
      "Requirement already satisfied: cycler>=0.10 in /home/daddy/miniconda3/envs/ml_env/lib/python3.12/site-packages (from matplotlib<=3.10,>=3.5->ydata-profiling) (0.12.1)\n",
      "Requirement already satisfied: fonttools>=4.22.0 in /home/daddy/miniconda3/envs/ml_env/lib/python3.12/site-packages (from matplotlib<=3.10,>=3.5->ydata-profiling) (4.56.0)\n",
      "Requirement already satisfied: kiwisolver>=1.3.1 in /home/daddy/miniconda3/envs/ml_env/lib/python3.12/site-packages (from matplotlib<=3.10,>=3.5->ydata-profiling) (1.4.8)\n",
      "Requirement already satisfied: packaging>=20.0 in /home/daddy/miniconda3/envs/ml_env/lib/python3.12/site-packages (from matplotlib<=3.10,>=3.5->ydata-profiling) (24.2)\n",
      "Requirement already satisfied: pyparsing>=2.3.1 in /home/daddy/miniconda3/envs/ml_env/lib/python3.12/site-packages (from matplotlib<=3.10,>=3.5->ydata-profiling) (3.2.3)\n",
      "Requirement already satisfied: python-dateutil>=2.7 in /home/daddy/miniconda3/envs/ml_env/lib/python3.12/site-packages (from matplotlib<=3.10,>=3.5->ydata-profiling) (2.9.0.post0)\n",
      "Requirement already satisfied: llvmlite<0.45,>=0.44.0dev0 in /home/daddy/miniconda3/envs/ml_env/lib/python3.12/site-packages (from numba<=0.61,>=0.56.0->ydata-profiling) (0.44.0)\n",
      "Requirement already satisfied: pytz>=2020.1 in /home/daddy/miniconda3/envs/ml_env/lib/python3.12/site-packages (from pandas!=1.4.0,<3.0,>1.1->ydata-profiling) (2025.2)\n",
      "Requirement already satisfied: tzdata>=2022.7 in /home/daddy/miniconda3/envs/ml_env/lib/python3.12/site-packages (from pandas!=1.4.0,<3.0,>1.1->ydata-profiling) (2025.2)\n",
      "Requirement already satisfied: joblib>=0.14.1 in /home/daddy/miniconda3/envs/ml_env/lib/python3.12/site-packages (from phik<0.13,>=0.11.1->ydata-profiling) (1.1.1)\n",
      "Requirement already satisfied: annotated-types>=0.6.0 in /home/daddy/miniconda3/envs/ml_env/lib/python3.12/site-packages (from pydantic>=2->ydata-profiling) (0.7.0)\n",
      "Requirement already satisfied: pydantic-core==2.33.0 in /home/daddy/miniconda3/envs/ml_env/lib/python3.12/site-packages (from pydantic>=2->ydata-profiling) (2.33.0)\n",
      "Requirement already satisfied: typing-extensions>=4.12.2 in /home/daddy/miniconda3/envs/ml_env/lib/python3.12/site-packages (from pydantic>=2->ydata-profiling) (4.12.2)\n",
      "Requirement already satisfied: typing-inspection>=0.4.0 in /home/daddy/miniconda3/envs/ml_env/lib/python3.12/site-packages (from pydantic>=2->ydata-profiling) (0.4.0)\n",
      "Requirement already satisfied: charset-normalizer<4,>=2 in /home/daddy/miniconda3/envs/ml_env/lib/python3.12/site-packages (from requests<3,>=2.24.0->ydata-profiling) (3.3.2)\n",
      "Requirement already satisfied: idna<4,>=2.5 in /home/daddy/miniconda3/envs/ml_env/lib/python3.12/site-packages (from requests<3,>=2.24.0->ydata-profiling) (3.7)\n",
      "Requirement already satisfied: urllib3<3,>=1.21.1 in /home/daddy/miniconda3/envs/ml_env/lib/python3.12/site-packages (from requests<3,>=2.24.0->ydata-profiling) (2.3.0)\n",
      "Requirement already satisfied: certifi>=2017.4.17 in /home/daddy/miniconda3/envs/ml_env/lib/python3.12/site-packages (from requests<3,>=2.24.0->ydata-profiling) (2025.1.31)\n",
      "Requirement already satisfied: patsy>=0.5.6 in /home/daddy/miniconda3/envs/ml_env/lib/python3.12/site-packages (from statsmodels<1,>=0.13.2->ydata-profiling) (1.0.1)\n",
      "Requirement already satisfied: attrs>=19.3.0 in /home/daddy/miniconda3/envs/ml_env/lib/python3.12/site-packages (from visions<0.8.2,>=0.7.5->visions[type_image_path]<0.8.2,>=0.7.5->ydata-profiling) (24.3.0)\n",
      "Requirement already satisfied: networkx>=2.4 in /home/daddy/miniconda3/envs/ml_env/lib/python3.12/site-packages (from visions<0.8.2,>=0.7.5->visions[type_image_path]<0.8.2,>=0.7.5->ydata-profiling) (3.4.2)\n",
      "Requirement already satisfied: puremagic in /home/daddy/miniconda3/envs/ml_env/lib/python3.12/site-packages (from visions<0.8.2,>=0.7.5->visions[type_image_path]<0.8.2,>=0.7.5->ydata-profiling) (1.28)\n",
      "Requirement already satisfied: six>=1.5 in /home/daddy/miniconda3/envs/ml_env/lib/python3.12/site-packages (from python-dateutil>=2.7->matplotlib<=3.10,>=3.5->ydata-profiling) (1.16.0)\n"
     ]
    }
   ],
   "source": [
    "!pip install ydata-profiling"
   ]
  },
  {
   "cell_type": "code",
   "execution_count": 8,
   "id": "97d386eb-50c5-4635-9f93-d06138d88e5e",
   "metadata": {},
   "outputs": [],
   "source": [
    "from ydata_profiling import ProfileReport"
   ]
  },
  {
   "cell_type": "code",
   "execution_count": 9,
   "id": "59265414-2b27-46a9-9713-8097e0d2099c",
   "metadata": {},
   "outputs": [],
   "source": [
    "import pandas as pd"
   ]
  },
  {
   "cell_type": "code",
   "execution_count": 11,
   "id": "d598dd15-e8f2-4e88-a85d-53e99e263674",
   "metadata": {},
   "outputs": [
    {
     "data": {
      "application/vnd.jupyter.widget-view+json": {
       "model_id": "fcc54efcbe7e430f8765dcdc5d137607",
       "version_major": 2,
       "version_minor": 0
      },
      "text/plain": [
       "Summarize dataset:   0%|          | 0/5 [00:00<?, ?it/s]"
      ]
     },
     "metadata": {},
     "output_type": "display_data"
    },
    {
     "name": "stderr",
     "output_type": "stream",
     "text": [
      "\n",
      "\u001b[A%|                                                              | 0/17 [00:00<?, ?it/s]\n",
      "100%|████████████████████████████████████████████████████| 17/17 [00:00<00:00, 113.32it/s]\n"
     ]
    },
    {
     "data": {
      "application/vnd.jupyter.widget-view+json": {
       "model_id": "43d17a847c574063ab9b6575513af676",
       "version_major": 2,
       "version_minor": 0
      },
      "text/plain": [
       "Generate report structure:   0%|          | 0/1 [00:00<?, ?it/s]"
      ]
     },
     "metadata": {},
     "output_type": "display_data"
    },
    {
     "data": {
      "application/vnd.jupyter.widget-view+json": {
       "model_id": "9030b5c18f344214a7ae61db2827f770",
       "version_major": 2,
       "version_minor": 0
      },
      "text/plain": [
       "Render HTML:   0%|          | 0/1 [00:00<?, ?it/s]"
      ]
     },
     "metadata": {},
     "output_type": "display_data"
    },
    {
     "data": {
      "application/vnd.jupyter.widget-view+json": {
       "model_id": "427c3cb29c9e438eacbcea0764e93cac",
       "version_major": 2,
       "version_minor": 0
      },
      "text/plain": [
       "Export report to file:   0%|          | 0/1 [00:00<?, ?it/s]"
      ]
     },
     "metadata": {},
     "output_type": "display_data"
    }
   ],
   "source": [
    "df = pd.read_csv('train_data.csv')\n",
    "prof = ProfileReport(df)\n",
    "prof.to_file(output_file='output.html')"
   ]
  },
  {
   "cell_type": "code",
   "execution_count": null,
   "id": "477494f8-9a53-4e88-b9f0-47341c4f99b8",
   "metadata": {},
   "outputs": [],
   "source": []
  }
 ],
 "metadata": {
  "kernelspec": {
   "display_name": "Python 3 (ipykernel)",
   "language": "python",
   "name": "python3"
  },
  "language_info": {
   "codemirror_mode": {
    "name": "ipython",
    "version": 3
   },
   "file_extension": ".py",
   "mimetype": "text/x-python",
   "name": "python",
   "nbconvert_exporter": "python",
   "pygments_lexer": "ipython3",
   "version": "3.12.9"
  }
 },
 "nbformat": 4,
 "nbformat_minor": 5
}
