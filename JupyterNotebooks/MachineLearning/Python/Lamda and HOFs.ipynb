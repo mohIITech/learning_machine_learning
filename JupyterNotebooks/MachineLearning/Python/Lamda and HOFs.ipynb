{
 "cells": [
  {
   "cell_type": "markdown",
   "id": "1f90092b-e466-4aa1-8172-67f1a5a72406",
   "metadata": {},
   "source": [
    "# Lambda Functions\n"
   ]
  },
  {
   "cell_type": "markdown",
   "id": "a41a65d2-6205-4022-b02d-7c90c4141c4a",
   "metadata": {},
   "source": [
    "1. Lambda has no return value\n",
    "2. Has no name\n",
    "3. Not used for code reusability\n",
    "4. Used as an argument within higher order functions"
   ]
  },
  {
   "cell_type": "code",
   "execution_count": 1,
   "id": "68a3e2d8-1718-4f3a-aa46-6cc54b5e8cc1",
   "metadata": {},
   "outputs": [],
   "source": [
    "a = lambda x,y : x+y"
   ]
  },
  {
   "cell_type": "code",
   "execution_count": 2,
   "id": "c4143c05-cceb-4b1b-bbb6-e0435b58aff3",
   "metadata": {},
   "outputs": [
    {
     "data": {
      "text/plain": [
       "5"
      ]
     },
     "execution_count": 2,
     "metadata": {},
     "output_type": "execute_result"
    }
   ],
   "source": [
    "a(2,3)"
   ]
  },
  {
   "cell_type": "markdown",
   "id": "ca33fd13-dc29-4c5a-a65f-484271fcd461",
   "metadata": {},
   "source": [
    "## Type of Lambda"
   ]
  },
  {
   "cell_type": "code",
   "execution_count": 3,
   "id": "172efc5d-4382-4516-8245-933300f101aa",
   "metadata": {},
   "outputs": [
    {
     "data": {
      "text/plain": [
       "function"
      ]
     },
     "execution_count": 3,
     "metadata": {},
     "output_type": "execute_result"
    }
   ],
   "source": [
    "type(a)"
   ]
  },
  {
   "cell_type": "markdown",
   "id": "1599705a-1886-4de7-a445-8a7cb9e642bd",
   "metadata": {},
   "source": [
    "### another example\n"
   ]
  },
  {
   "cell_type": "code",
   "execution_count": 4,
   "id": "b5c7c071-49dd-4601-a64e-48cfaafee189",
   "metadata": {},
   "outputs": [],
   "source": [
    "b = lambda x : \"Even\" if x%2 == 0 else \"Odd\""
   ]
  },
  {
   "cell_type": "code",
   "execution_count": 6,
   "id": "1be8835c-8cd9-4cef-b8f9-c0b12fff11ed",
   "metadata": {},
   "outputs": [
    {
     "data": {
      "text/plain": [
       "'Even'"
      ]
     },
     "execution_count": 6,
     "metadata": {},
     "output_type": "execute_result"
    }
   ],
   "source": [
    "b(4)"
   ]
  },
  {
   "cell_type": "markdown",
   "id": "c54c1f72-4bf6-441c-b599-d35fa509b485",
   "metadata": {},
   "source": [
    "# Higher Order Functions\n"
   ]
  },
  {
   "cell_type": "code",
   "execution_count": 7,
   "id": "8edb6470-3ea1-45de-b980-5ea3328def68",
   "metadata": {},
   "outputs": [],
   "source": [
    "L = [1, 3, 15, 65, 75, 5, 69, 80]"
   ]
  },
  {
   "cell_type": "code",
   "execution_count": 11,
   "id": "54560050-ac94-43b7-8db1-829177aa19ef",
   "metadata": {},
   "outputs": [],
   "source": [
    "def return_sum(function, List):\n",
    "    result = 0\n",
    "\n",
    "    for i in List: \n",
    "        if function(i):\n",
    "            result += i\n",
    "\n",
    "    return result"
   ]
  },
  {
   "cell_type": "code",
   "execution_count": 14,
   "id": "aa564a53-dbd1-4fd1-a505-455d6bec0e5c",
   "metadata": {},
   "outputs": [
    {
     "name": "stdout",
     "output_type": "stream",
     "text": [
      "80\n",
      "233\n"
     ]
    }
   ],
   "source": [
    "x = lambda x : x%2 ==0\n",
    "y = lambda y : y%2 != 0\n",
    "print(return_sum(x, L))\n",
    "print(return_sum(y, L))"
   ]
  },
  {
   "cell_type": "markdown",
   "id": "8388795a-431f-4a70-85db-47bbaef647c9",
   "metadata": {},
   "source": [
    "# Map\n",
    "# Filter\n",
    "# Reduce"
   ]
  },
  {
   "cell_type": "code",
   "execution_count": null,
   "id": "6663e3e2-3a07-4043-a7f9-725b81d53fbe",
   "metadata": {},
   "outputs": [],
   "source": []
  }
 ],
 "metadata": {
  "kernelspec": {
   "display_name": "Python 3 (ipykernel)",
   "language": "python",
   "name": "python3"
  },
  "language_info": {
   "codemirror_mode": {
    "name": "ipython",
    "version": 3
   },
   "file_extension": ".py",
   "mimetype": "text/x-python",
   "name": "python",
   "nbconvert_exporter": "python",
   "pygments_lexer": "ipython3",
   "version": "3.12.8"
  }
 },
 "nbformat": 4,
 "nbformat_minor": 5
}
