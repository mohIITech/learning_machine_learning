{
 "cells": [
  {
   "cell_type": "markdown",
   "id": "aa6bcb53-4565-42fa-be4c-14831055f738",
   "metadata": {},
   "source": [
    "# OOP 2"
   ]
  },
  {
   "cell_type": "code",
   "execution_count": 12,
   "id": "d0cc9870-77cd-46f9-af0e-46351d8c93fa",
   "metadata": {},
   "outputs": [],
   "source": [
    "class Customer:\n",
    "    cust_id = 0\n",
    "    def __init__(self, name, gender):\n",
    "        self.name = name\n",
    "        self.gender = gender\n",
    "        self.id = cust_id + 1\n",
    "        cust_id += 1\n",
    "        \n",
    "    def greet(customer):\n",
    "        print('Hello!, ', customer.name, 'you are a ', customer.gender, 'your id is:', customer.id)"
   ]
  },
  {
   "cell_type": "code",
   "execution_count": 13,
   "id": "00cdb1ae-b450-477e-804c-2b87852f1345",
   "metadata": {},
   "outputs": [
    {
     "ename": "UnboundLocalError",
     "evalue": "cannot access local variable 'cust_id' where it is not associated with a value",
     "output_type": "error",
     "traceback": [
      "\u001b[0;31m---------------------------------------------------------------------------\u001b[0m",
      "\u001b[0;31mUnboundLocalError\u001b[0m                         Traceback (most recent call last)",
      "Cell \u001b[0;32mIn[13], line 1\u001b[0m\n\u001b[0;32m----> 1\u001b[0m my_cust \u001b[38;5;241m=\u001b[39m Customer(gender \u001b[38;5;241m=\u001b[39m \u001b[38;5;124m'\u001b[39m\u001b[38;5;124mMale\u001b[39m\u001b[38;5;124m'\u001b[39m, name \u001b[38;5;241m=\u001b[39m \u001b[38;5;124m'\u001b[39m\u001b[38;5;124mMohit\u001b[39m\u001b[38;5;124m'\u001b[39m)\n",
      "Cell \u001b[0;32mIn[12], line 6\u001b[0m, in \u001b[0;36mCustomer.__init__\u001b[0;34m(self, name, gender)\u001b[0m\n\u001b[1;32m      4\u001b[0m \u001b[38;5;28mself\u001b[39m\u001b[38;5;241m.\u001b[39mname \u001b[38;5;241m=\u001b[39m name\n\u001b[1;32m      5\u001b[0m \u001b[38;5;28mself\u001b[39m\u001b[38;5;241m.\u001b[39mgender \u001b[38;5;241m=\u001b[39m gender\n\u001b[0;32m----> 6\u001b[0m \u001b[38;5;28mself\u001b[39m\u001b[38;5;241m.\u001b[39mid \u001b[38;5;241m=\u001b[39m cust_id \u001b[38;5;241m+\u001b[39m \u001b[38;5;241m1\u001b[39m\n\u001b[1;32m      7\u001b[0m cust_id \u001b[38;5;241m+\u001b[39m\u001b[38;5;241m=\u001b[39m \u001b[38;5;241m1\u001b[39m\n",
      "\u001b[0;31mUnboundLocalError\u001b[0m: cannot access local variable 'cust_id' where it is not associated with a value"
     ]
    }
   ],
   "source": [
    "my_cust = Customer(gender = 'Male', name = 'Mohit')"
   ]
  },
  {
   "cell_type": "code",
   "execution_count": 5,
   "id": "c2e164b8-398a-480d-a911-08a7f0132bfb",
   "metadata": {},
   "outputs": [
    {
     "name": "stdout",
     "output_type": "stream",
     "text": [
      "Hello!,  Mohit you are a  Male your id is: 1\n"
     ]
    }
   ],
   "source": [
    "Customer.greet(my_cust)"
   ]
  },
  {
   "cell_type": "code",
   "execution_count": 7,
   "id": "dca0dd6f-4904-419b-8517-d5e4b0cfd9f1",
   "metadata": {},
   "outputs": [],
   "source": [
    "cust2 = Customer('Momo', 'Male')"
   ]
  },
  {
   "cell_type": "code",
   "execution_count": 8,
   "id": "e52e8f22-9509-4d7d-9484-108d78087c08",
   "metadata": {},
   "outputs": [
    {
     "name": "stdout",
     "output_type": "stream",
     "text": [
      "Hello!,  Momo you are a  Male your id is: 1\n"
     ]
    }
   ],
   "source": [
    "Customer.greet(cust2)"
   ]
  },
  {
   "cell_type": "code",
   "execution_count": null,
   "id": "17bdf121-8437-45d4-a652-11906a2b20c1",
   "metadata": {},
   "outputs": [],
   "source": []
  },
  {
   "cell_type": "code",
   "execution_count": null,
   "id": "1a2925b5-d19c-4445-a60f-14919ee3b987",
   "metadata": {},
   "outputs": [],
   "source": []
  },
  {
   "cell_type": "code",
   "execution_count": null,
   "id": "274d76bb-2686-4f08-a506-1e9df2c51b95",
   "metadata": {},
   "outputs": [],
   "source": []
  },
  {
   "cell_type": "code",
   "execution_count": 38,
   "id": "b178bfe2-d390-4828-bf24-e671f98bddd3",
   "metadata": {},
   "outputs": [
    {
     "name": "stdout",
     "output_type": "stream",
     "text": [
      "[1, 2, 3, 4]\n",
      "132392778497728\n",
      "132392773382720\n",
      "[1, 2, 3, 4, 5]\n",
      "132392773382720\n",
      "[1, 2, 3, 4]\n",
      "132392778497728\n"
     ]
    }
   ],
   "source": [
    "def change(L):\n",
    "    print(id(L))\n",
    "    L.append(5)\n",
    "    print(L)\n",
    "    print(id(L))\n",
    "\n",
    "L1 = [1, 2, 3, 4]\n",
    "print(L1)\n",
    "print(id(L1))\n",
    "\n",
    "change(L1[:])\n",
    "print(L1)\n",
    "print(id(L1))"
   ]
  },
  {
   "cell_type": "code",
   "execution_count": 19,
   "id": "9e1807b8-fe92-4ffc-8f34-ba70cba2964a",
   "metadata": {},
   "outputs": [
    {
     "name": "stdout",
     "output_type": "stream",
     "text": [
      "2\n"
     ]
    }
   ],
   "source": [
    "def func(a):\n",
    "    a += 1\n",
    "    print(a)\n",
    "\n",
    "a = 1\n",
    "func(a)"
   ]
  },
  {
   "cell_type": "markdown",
   "id": "22cf16c0-81e8-48e6-8c8b-8c1248c4445a",
   "metadata": {},
   "source": [
    "# Inheritance"
   ]
  },
  {
   "cell_type": "markdown",
   "id": "4ecc0882-bd23-4fee-b3ee-4411e0389ee3",
   "metadata": {},
   "source": [
    "A child can inherit from a parent class but the reverse is not true\n",
    "### What can we Inherit?\n",
    "* Constructor\n",
    "* Data members\n",
    "* Members function --method"
   ]
  },
  {
   "cell_type": "code",
   "execution_count": 22,
   "id": "2b82f4b3-a97c-447c-8e83-a563dbedda8f",
   "metadata": {},
   "outputs": [],
   "source": [
    "class User:\n",
    "    def login(self):\n",
    "        print('Login')\n",
    "    def register(self):\n",
    "        print('Register')\n",
    "\n",
    "class Student(User):\n",
    "    def enroll(self):\n",
    "        print('Enroll')\n",
    "\n",
    "u1 = User()\n",
    "u2 = Student()"
   ]
  },
  {
   "cell_type": "code",
   "execution_count": 25,
   "id": "33f54d7b-615d-428f-93ec-6e6bb2f6967d",
   "metadata": {},
   "outputs": [
    {
     "name": "stdout",
     "output_type": "stream",
     "text": [
      "Login\n",
      "Register\n",
      "Login\n",
      "Enroll\n"
     ]
    }
   ],
   "source": [
    "u1.login()\n",
    "u1.register()\n",
    "u2.login()\n",
    "u2.enroll()"
   ]
  },
  {
   "cell_type": "markdown",
   "id": "cef4f834-c1e6-43e9-9d3d-a9bd17729cdb",
   "metadata": {},
   "source": [
    "### **While Inheritance, the constructor of parent class is checked first before its own constructor**"
   ]
  },
  {
   "cell_type": "code",
   "execution_count": 29,
   "id": "d027cda6-37ee-446d-93f0-54180c2da57f",
   "metadata": {},
   "outputs": [
    {
     "name": "stdout",
     "output_type": "stream",
     "text": [
      "300\n",
      "200\n"
     ]
    }
   ],
   "source": [
    "class Parent:\n",
    "    def __init__(self):\n",
    "        self.num = 100\n",
    "\n",
    "class Child(Parent):\n",
    "    def __init__(self):\n",
    "        super().__init__()\n",
    "        self.var = 200\n",
    "        self.num = 300\n",
    "\n",
    "    def show(self):\n",
    "        print(self.num)\n",
    "        print(self.var)\n",
    "\n",
    "my_child = Child()\n",
    "my_child.show()"
   ]
  },
  {
   "cell_type": "code",
   "execution_count": null,
   "id": "cc6154df-2970-4564-a282-fc9008c44b0a",
   "metadata": {},
   "outputs": [],
   "source": []
  }
 ],
 "metadata": {
  "kernelspec": {
   "display_name": "Python 3 (ipykernel)",
   "language": "python",
   "name": "python3"
  },
  "language_info": {
   "codemirror_mode": {
    "name": "ipython",
    "version": 3
   },
   "file_extension": ".py",
   "mimetype": "text/x-python",
   "name": "python",
   "nbconvert_exporter": "python",
   "pygments_lexer": "ipython3",
   "version": "3.12.9"
  }
 },
 "nbformat": 4,
 "nbformat_minor": 5
}
