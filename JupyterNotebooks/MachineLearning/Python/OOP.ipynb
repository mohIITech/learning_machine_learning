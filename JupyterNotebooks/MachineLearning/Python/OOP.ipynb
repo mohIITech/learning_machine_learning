{
 "cells": [
  {
   "cell_type": "markdown",
   "id": "6eadb44b-cde5-42e5-be6e-28d4e16a4a7a",
   "metadata": {},
   "source": [
    "# Object Oriented Programming"
   ]
  },
  {
   "cell_type": "markdown",
   "id": "8371822b-e522-46ae-bc3d-41748884c7b7",
   "metadata": {},
   "source": [
    "1. Class\n",
    "2. Object\n",
    "3. Encapsulation\n",
    "4. Plymorphism \n",
    "5. Inheritance \n",
    "6. Abstraction"
   ]
  },
  {
   "cell_type": "markdown",
   "id": "640e6f56-6cfe-4d6f-bb17-7f6f25e0c552",
   "metadata": {},
   "source": [
    "Class name should be in PascalCase<br>\n",
    "ThisIsPascalCase<br>\n",
    "thisIsCamelCase<br>\n",
    "this_is_snake_case"
   ]
  },
  {
   "cell_type": "code",
   "execution_count": 2,
   "id": "c4ea323b-11ee-4dcc-aee7-2fe25837afe5",
   "metadata": {},
   "outputs": [],
   "source": [
    "class Atm:\n",
    "\n",
    "    def __init__(self): ##varialbles are always declared in this init special method\n",
    "\n",
    "        self.pin = 0\n",
    "        self.balance = 0\n",
    "\n",
    "        self.menu()\n",
    "\n",
    "    def menu(self):\n",
    "        user_input=int(input('''\n",
    "                            Hello, how would you like to proceed?\n",
    "                            1. Enter 1 to create pin\n",
    "                            2. Enter 2 to deposit\n",
    "                            3. Enter 3 to withdraw\n",
    "                            4. Enter 4 to check balance\n",
    "        '''))\n",
    "        if(user_input == 1):\n",
    "            self.create_pin()\n",
    "        elif(user_input == 2):\n",
    "            self.deposit()\n",
    "        elif(user_input == 3):\n",
    "            self.withdraw()\n",
    "        elif(user_input == 4):\n",
    "            self.check_balance()\n",
    "            \n",
    "\n",
    "    \n",
    "    def create_pin(self):\n",
    "        self.pin = int(input(\"Please enter your PIN\"))\n",
    "        print(\"PIN created successfully!\")\n",
    "\n",
    "    def check_pin(self):\n",
    "        temp_PIN = int(input('Enter your PIN'))\n",
    "        if(temp_PIN == self.pin):\n",
    "            return 1\n",
    "        else:\n",
    "            return 0\n",
    "\n",
    "    def deposit(self):\n",
    "        if(self.check_pin()):\n",
    "            temp = int(input('Enter the amount to be deposited'))\n",
    "            self.balance += temp\n",
    "        else:\n",
    "            print('Wrong PIN')\n",
    "\n",
    "    def withdraw(self):\n",
    "        if(self.check_pin()):\n",
    "            temp = int(input('Enter the amount to be withdrawn'))\n",
    "            if (temp<=self.balance):\n",
    "                self.balance -= temp\n",
    "                print('Operation successful')\n",
    "            else:\n",
    "                print('Insufficient balance')\n",
    "        else:\n",
    "            print('Wrong PIN')\n",
    "\n",
    "    def check_balance(self):\n",
    "        if(self.check_pin()):\n",
    "            print(self.balance)\n",
    "        else:\n",
    "            print('Wrong PIN')\n",
    "        "
   ]
  },
  {
   "cell_type": "code",
   "execution_count": 4,
   "id": "1b4b8edc-3843-4e85-96ae-d27cde8e5f91",
   "metadata": {},
   "outputs": [
    {
     "name": "stdin",
     "output_type": "stream",
     "text": [
      "\n",
      "                            Hello, how would you like to proceed?\n",
      "                            1. Enter 1 to create pin\n",
      "                            2. Enter 2 to deposit\n",
      "                            3. Enter 3 to withdraw\n",
      "                            4. Enter 4 to check balance\n",
      "         1235\n"
     ]
    }
   ],
   "source": [
    "sbi = Atm()"
   ]
  },
  {
   "cell_type": "code",
   "execution_count": 5,
   "id": "6c380523-8ff0-4590-9e0f-58d523a9f635",
   "metadata": {},
   "outputs": [
    {
     "data": {
      "text/plain": [
       "int"
      ]
     },
     "execution_count": 5,
     "metadata": {},
     "output_type": "execute_result"
    }
   ],
   "source": [
    "type(sbi.pin)"
   ]
  },
  {
   "cell_type": "code",
   "execution_count": 6,
   "id": "c333a65f-c451-44a6-bb35-4df8ecabf39a",
   "metadata": {},
   "outputs": [
    {
     "name": "stdin",
     "output_type": "stream",
     "text": [
      "Please enter your PIN 2346\n"
     ]
    },
    {
     "name": "stdout",
     "output_type": "stream",
     "text": [
      "PIN created successfully!\n"
     ]
    }
   ],
   "source": [
    "sbi.create_pin()"
   ]
  },
  {
   "cell_type": "code",
   "execution_count": 7,
   "id": "1b2c4720-1b4c-4e06-bee7-1b88dc8a906b",
   "metadata": {},
   "outputs": [
    {
     "data": {
      "text/plain": [
       "2346"
      ]
     },
     "execution_count": 7,
     "metadata": {},
     "output_type": "execute_result"
    }
   ],
   "source": [
    "sbi.pin"
   ]
  },
  {
   "cell_type": "code",
   "execution_count": 9,
   "id": "a2d4766f-9396-464c-adef-90422d960377",
   "metadata": {},
   "outputs": [
    {
     "name": "stdin",
     "output_type": "stream",
     "text": [
      "Enter your PIN 2346\n"
     ]
    },
    {
     "name": "stdout",
     "output_type": "stream",
     "text": [
      "0\n"
     ]
    }
   ],
   "source": [
    "sbi.check_balance()"
   ]
  },
  {
   "cell_type": "code",
   "execution_count": 11,
   "id": "02004f80-b44a-43aa-9399-738da8befee0",
   "metadata": {},
   "outputs": [
    {
     "name": "stdin",
     "output_type": "stream",
     "text": [
      "Enter your PIN 2346\n",
      "Enter the amount to be deposited 10000\n"
     ]
    }
   ],
   "source": [
    "sbi.deposit()"
   ]
  },
  {
   "cell_type": "code",
   "execution_count": 12,
   "id": "be119ca9-e5ba-4c07-ad71-4351cecc3abc",
   "metadata": {},
   "outputs": [
    {
     "name": "stdin",
     "output_type": "stream",
     "text": [
      "Enter your PIN 2346\n"
     ]
    },
    {
     "name": "stdout",
     "output_type": "stream",
     "text": [
      "110000\n"
     ]
    }
   ],
   "source": [
    "sbi.check_balance()"
   ]
  },
  {
   "cell_type": "code",
   "execution_count": 1,
   "id": "b97b3ff1-731c-4dbb-9145-4cadbf993b09",
   "metadata": {},
   "outputs": [
    {
     "ename": "NameError",
     "evalue": "name 'sbi' is not defined",
     "output_type": "error",
     "traceback": [
      "\u001b[31m---------------------------------------------------------------------------\u001b[39m",
      "\u001b[31mNameError\u001b[39m                                 Traceback (most recent call last)",
      "\u001b[36mCell\u001b[39m\u001b[36m \u001b[39m\u001b[32mIn[1]\u001b[39m\u001b[32m, line 1\u001b[39m\n\u001b[32m----> \u001b[39m\u001b[32m1\u001b[39m \u001b[43msbi\u001b[49m.pin\n",
      "\u001b[31mNameError\u001b[39m: name 'sbi' is not defined"
     ]
    }
   ],
   "source": [
    "sbi.pin"
   ]
  },
  {
   "cell_type": "code",
   "execution_count": null,
   "id": "264374a6-fb2f-4907-975f-95a7d0b24e31",
   "metadata": {},
   "outputs": [],
   "source": []
  }
 ],
 "metadata": {
  "kernelspec": {
   "display_name": "Python 3 (ipykernel)",
   "language": "python",
   "name": "python3"
  },
  "language_info": {
   "codemirror_mode": {
    "name": "ipython",
    "version": 3
   },
   "file_extension": ".py",
   "mimetype": "text/x-python",
   "name": "python",
   "nbconvert_exporter": "python",
   "pygments_lexer": "ipython3",
   "version": "3.12.9"
  }
 },
 "nbformat": 4,
 "nbformat_minor": 5
}
