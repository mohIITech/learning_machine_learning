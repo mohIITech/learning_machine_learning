{
 "cells": [
  {
   "cell_type": "markdown",
   "id": "56a98912-82e3-48c7-a7df-b1a518bdb346",
   "metadata": {},
   "source": [
    "## 1. User will input (3ages).Find the oldest one\n"
   ]
  },
  {
   "cell_type": "code",
   "execution_count": 8,
   "id": "7c6fb72a-2659-4193-9df3-84c3e7fa3734",
   "metadata": {},
   "outputs": [
    {
     "name": "stdin",
     "output_type": "stream",
     "text": [
      "Enter the three ages separated by spaces 3 5 4\n"
     ]
    },
    {
     "name": "stdout",
     "output_type": "stream",
     "text": [
      "['3', '5', '4']\n",
      "[3, 5, 4]\n"
     ]
    }
   ],
   "source": [
    "ages = input('Enter the three ages separated by spaces').split()\n",
    "ages_new = list(map(int, ages))\n",
    "print(ages)\n",
    "print(ages_new)"
   ]
  },
  {
   "cell_type": "markdown",
   "id": "557f6ee8-d7ca-4e06-9b25-4ec298499aa0",
   "metadata": {},
   "source": [
    "Now we will find the oldest one"
   ]
  },
  {
   "cell_type": "code",
   "execution_count": 9,
   "id": "a1a83612-5d82-4bf5-a5ed-d8f4c2ea93d1",
   "metadata": {},
   "outputs": [
    {
     "name": "stdout",
     "output_type": "stream",
     "text": [
      "5\n"
     ]
    }
   ],
   "source": [
    "oldest = ages_new[0]\n",
    "for i in ages_new:\n",
    "    if i > oldest:\n",
    "        oldest = i\n",
    "\n",
    "print(oldest)"
   ]
  },
  {
   "cell_type": "markdown",
   "id": "1fca63c2-aa0b-4bf5-b5d2-11bf175373bd",
   "metadata": {},
   "source": [
    "## 2. Write a program that will reverse a four digit number.Also it checks whether the reverse is true.\n"
   ]
  },
  {
   "cell_type": "code",
   "execution_count": 16,
   "id": "7e4d27fd-71e6-4cca-9acd-81fe771eff26",
   "metadata": {},
   "outputs": [
    {
     "data": {
      "text/plain": [
       "6464.634"
      ]
     },
     "execution_count": 16,
     "metadata": {},
     "output_type": "execute_result"
    }
   ],
   "source": [
    "num = int(1234)\n",
    "rev = int((num%10)*1000)\n",
    "num /= 10\n",
    "rev += (num%100)*100\n",
    "num /= 10\n",
    "rev += (num%100)*10\n",
    "num /= 10\n",
    "rev += (num%100)\n",
    "rev"
   ]
  },
  {
   "cell_type": "code",
   "execution_count": null,
   "id": "5738f688-64b7-46ac-9275-6d1da66bf20e",
   "metadata": {},
   "outputs": [],
   "source": []
  }
 ],
 "metadata": {
  "kernelspec": {
   "display_name": "Python 3 (ipykernel)",
   "language": "python",
   "name": "python3"
  },
  "language_info": {
   "codemirror_mode": {
    "name": "ipython",
    "version": 3
   },
   "file_extension": ".py",
   "mimetype": "text/x-python",
   "name": "python",
   "nbconvert_exporter": "python",
   "pygments_lexer": "ipython3",
   "version": "3.12.9"
  }
 },
 "nbformat": 4,
 "nbformat_minor": 5
}
