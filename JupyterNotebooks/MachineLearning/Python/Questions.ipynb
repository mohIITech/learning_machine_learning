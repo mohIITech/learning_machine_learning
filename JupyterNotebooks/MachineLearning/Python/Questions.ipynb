{
 "cells": [
  {
   "cell_type": "markdown",
   "id": "56a98912-82e3-48c7-a7df-b1a518bdb346",
   "metadata": {},
   "source": [
    "## 1. User will input (3ages).Find the oldest one\n"
   ]
  },
  {
   "cell_type": "code",
   "execution_count": 8,
   "id": "7c6fb72a-2659-4193-9df3-84c3e7fa3734",
   "metadata": {},
   "outputs": [
    {
     "name": "stdin",
     "output_type": "stream",
     "text": [
      "Enter the three ages separated by spaces 3 5 4\n"
     ]
    },
    {
     "name": "stdout",
     "output_type": "stream",
     "text": [
      "['3', '5', '4']\n",
      "[3, 5, 4]\n"
     ]
    }
   ],
   "source": [
    "ages = input('Enter the three ages separated by spaces').split()\n",
    "ages_new = list(map(int, ages))\n",
    "print(ages)\n",
    "print(ages_new)"
   ]
  },
  {
   "cell_type": "markdown",
   "id": "557f6ee8-d7ca-4e06-9b25-4ec298499aa0",
   "metadata": {},
   "source": [
    "Now we will find the oldest one"
   ]
  },
  {
   "cell_type": "code",
   "execution_count": 9,
   "id": "a1a83612-5d82-4bf5-a5ed-d8f4c2ea93d1",
   "metadata": {},
   "outputs": [
    {
     "name": "stdout",
     "output_type": "stream",
     "text": [
      "5\n"
     ]
    }
   ],
   "source": [
    "oldest = ages_new[0]\n",
    "for i in ages_new:\n",
    "    if i > oldest:\n",
    "        oldest = i\n",
    "\n",
    "print(oldest)"
   ]
  },
  {
   "cell_type": "markdown",
   "id": "1fca63c2-aa0b-4bf5-b5d2-11bf175373bd",
   "metadata": {},
   "source": [
    "## 2. Write a program that will reverse a four digit number.Also it checks whether the reverse is true.\n"
   ]
  },
  {
   "cell_type": "code",
   "execution_count": 13,
   "id": "1f6e3e2a-3731-4d59-af81-971e6a4ab0bd",
   "metadata": {},
   "outputs": [
    {
     "name": "stdout",
     "output_type": "stream",
     "text": [
      "4321\n"
     ]
    }
   ],
   "source": [
    "num = 1234\n",
    "rev_num = 0\n",
    "\n",
    "while num != 0:\n",
    "    digit = num%10\n",
    "    rev_num=rev_num*10 + digit\n",
    "    num //=10\n",
    "\n",
    "print(rev_num)"
   ]
  },
  {
   "cell_type": "code",
   "execution_count": 18,
   "id": "ff241c03-16d7-4df6-b17b-b8d0614e577d",
   "metadata": {},
   "outputs": [
    {
     "name": "stdout",
     "output_type": "stream",
     "text": [
      "4321\n"
     ]
    }
   ],
   "source": [
    "num = 1234\n",
    "print(str(num)[::-1])"
   ]
  },
  {
   "cell_type": "markdown",
   "id": "c4836b93-7cdc-47e1-b421-2f71b6bce106",
   "metadata": {},
   "source": [
    "## 3. Write a program to find the euclidean distance between two coordinates."
   ]
  },
  {
   "cell_type": "code",
   "execution_count": 25,
   "id": "139c82f2-1809-4701-b673-3d10783a79bf",
   "metadata": {},
   "outputs": [
    {
     "name": "stdin",
     "output_type": "stream",
     "text": [
      "Enter the first coordinate as x1, y1 5 4\n",
      "Enter the first coordinate as x2, y2 3 2\n"
     ]
    },
    {
     "data": {
      "text/plain": [
       "2.8284271247461903"
      ]
     },
     "execution_count": 25,
     "metadata": {},
     "output_type": "execute_result"
    }
   ],
   "source": [
    "# take user input\n",
    "p1 = input('Enter the first coordinate as x1, y1').split()\n",
    "p2 = input('Enter the first coordinate as x2, y2').split()\n",
    "p1 = list(map(int, p1))\n",
    "p2 = list(map(int, p2))\n",
    "# formula \n",
    "dist = (p1[0]-p2[0])**2 + (p1[1]-p2[1])**2\n",
    "dist = dist**0.5\n",
    "# output\n",
    "dist"
   ]
  },
  {
   "cell_type": "markdown",
   "id": "d31180a4-5c91-40ed-a72b-06d8591e5c56",
   "metadata": {},
   "source": [
    "# 4. Separate Even and Odd numbers stored in a list into two different lists"
   ]
  },
  {
   "cell_type": "code",
   "execution_count": 41,
   "id": "fa4ee002-48a1-4887-9e99-f7aad79b1149",
   "metadata": {},
   "outputs": [
    {
     "name": "stdout",
     "output_type": "stream",
     "text": [
      "[1, 2, 3, 4, 5, 6, 7, 8, 9] [2, 4, 6, 8] [1, 3, 5, 7, 9]\n"
     ]
    }
   ],
   "source": [
    "# Common list\n",
    "common_list = [1, 2, 3, 4, 5]\n",
    "common_list = list(range(1, 10))\n",
    "even_list = []\n",
    "odd_list =[]\n",
    "\n",
    "# Check every number in list if even or odd\n",
    "for k in common_list:\n",
    "    \n",
    "    # If else(append)\n",
    "    if k%2 == 0:\n",
    "        even_list.append(k)\n",
    "\n",
    "    else:\n",
    "        odd_list.append(k)\n",
    "# Output\n",
    "print(common_list, even_list, odd_list)"
   ]
  },
  {
   "cell_type": "markdown",
   "id": "3202c452-cb94-43f6-bd7f-2431df63e060",
   "metadata": {},
   "source": [
    "# 5. Right Triangle Number Pattern"
   ]
  },
  {
   "cell_type": "code",
   "execution_count": 64,
   "id": "359ed342-948d-4871-acf3-4b354118eec0",
   "metadata": {},
   "outputs": [
    {
     "name": "stdout",
     "output_type": "stream",
     "text": [
      "1 \n",
      "2 2 \n",
      "3 3 3 \n",
      "4 4 4 4 \n",
      "5 5 5 5 5 \n"
     ]
    }
   ],
   "source": [
    "for i in range(1, 6):\n",
    "    for j in range(1, i+1):\n",
    "        print(i, end=' ')\n",
    "    print()"
   ]
  },
  {
   "cell_type": "markdown",
   "id": "8f770438-4192-4156-9e7e-72d54f67bc66",
   "metadata": {},
   "source": [
    "# 6. Factorial of a given number"
   ]
  },
  {
   "cell_type": "code",
   "execution_count": 5,
   "id": "68e8940d-1310-4394-886b-8b631832dabb",
   "metadata": {},
   "outputs": [
    {
     "name": "stdin",
     "output_type": "stream",
     "text": [
      "enter any integer 4\n"
     ]
    },
    {
     "name": "stdout",
     "output_type": "stream",
     "text": [
      "The factorial of 0 is 24\n"
     ]
    }
   ],
   "source": [
    "# Input\n",
    "num = int(input(\"enter any integer\"))\n",
    "# Formula\n",
    "fact = 1\n",
    "while num>0:\n",
    "    fact = fact*(num)\n",
    "    num = num-1\n",
    "# Output\n",
    "print(\"The factorial of {} is {}\".format(num, fact))"
   ]
  },
  {
   "cell_type": "markdown",
   "id": "772bb010-550d-421c-a8b7-b5b4f6b64229",
   "metadata": {},
   "source": [
    "# 7. Print first 25 prime numbers"
   ]
  },
  {
   "cell_type": "code",
   "execution_count": null,
   "id": "67a07de8-f3d4-4b82-ac39-808580da20c7",
   "metadata": {},
   "outputs": [],
   "source": [
    "# make a list prime, set num=2, flag\n",
    "num = 2\n",
    "prime =[2]\n",
    "count = 1\n",
    "flag = 0 # if prime, flag=1\n",
    "# check divisibility over the list prime\n",
    "for i in prime:\n",
    "    if num%i == 0:\n",
    "        #this is not prime\n",
    "        flag = 1\n",
    "    if flag == 1:\n",
    "        num += 1\n",
    "        break\n",
    "        \n",
    "# if prime, append\n",
    "\n",
    "if flag == 0:\n",
    "    prime.append(num)\n",
    "    count += 1\n",
    "    num += 1\n",
    "    "
   ]
  }
 ],
 "metadata": {
  "kernelspec": {
   "display_name": "Python 3 (ipykernel)",
   "language": "python",
   "name": "python3"
  },
  "language_info": {
   "codemirror_mode": {
    "name": "ipython",
    "version": 3
   },
   "file_extension": ".py",
   "mimetype": "text/x-python",
   "name": "python",
   "nbconvert_exporter": "python",
   "pygments_lexer": "ipython3",
   "version": "3.12.9"
  }
 },
 "nbformat": 4,
 "nbformat_minor": 5
}
