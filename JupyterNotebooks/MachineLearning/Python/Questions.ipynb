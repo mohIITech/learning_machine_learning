{
 "cells": [
  {
   "cell_type": "markdown",
   "id": "56a98912-82e3-48c7-a7df-b1a518bdb346",
   "metadata": {},
   "source": [
    "## 1. User will input (3ages).Find the oldest one\n"
   ]
  },
  {
   "cell_type": "code",
   "execution_count": 8,
   "id": "7c6fb72a-2659-4193-9df3-84c3e7fa3734",
   "metadata": {},
   "outputs": [
    {
     "name": "stdin",
     "output_type": "stream",
     "text": [
      "Enter the three ages separated by spaces 3 5 4\n"
     ]
    },
    {
     "name": "stdout",
     "output_type": "stream",
     "text": [
      "['3', '5', '4']\n",
      "[3, 5, 4]\n"
     ]
    }
   ],
   "source": [
    "ages = input('Enter the three ages separated by spaces').split()\n",
    "ages_new = list(map(int, ages))\n",
    "print(ages)\n",
    "print(ages_new)"
   ]
  },
  {
   "cell_type": "markdown",
   "id": "557f6ee8-d7ca-4e06-9b25-4ec298499aa0",
   "metadata": {},
   "source": [
    "Now we will find the oldest one"
   ]
  },
  {
   "cell_type": "code",
   "execution_count": 9,
   "id": "a1a83612-5d82-4bf5-a5ed-d8f4c2ea93d1",
   "metadata": {},
   "outputs": [
    {
     "name": "stdout",
     "output_type": "stream",
     "text": [
      "5\n"
     ]
    }
   ],
   "source": [
    "oldest = ages_new[0]\n",
    "for i in ages_new:\n",
    "    if i > oldest:\n",
    "        oldest = i\n",
    "\n",
    "print(oldest)"
   ]
  },
  {
   "cell_type": "markdown",
   "id": "1fca63c2-aa0b-4bf5-b5d2-11bf175373bd",
   "metadata": {},
   "source": [
    "## 2. Write a program that will reverse a four digit number.Also it checks whether the reverse is true.\n"
   ]
  },
  {
   "cell_type": "code",
   "execution_count": 13,
   "id": "1f6e3e2a-3731-4d59-af81-971e6a4ab0bd",
   "metadata": {},
   "outputs": [
    {
     "name": "stdout",
     "output_type": "stream",
     "text": [
      "4321\n"
     ]
    }
   ],
   "source": [
    "num = 1234\n",
    "rev_num = 0\n",
    "\n",
    "while num != 0:\n",
    "    digit = num%10\n",
    "    rev_num=rev_num*10 + digit\n",
    "    num //=10\n",
    "\n",
    "print(rev_num)"
   ]
  },
  {
   "cell_type": "code",
   "execution_count": 18,
   "id": "ff241c03-16d7-4df6-b17b-b8d0614e577d",
   "metadata": {},
   "outputs": [
    {
     "name": "stdout",
     "output_type": "stream",
     "text": [
      "4321\n"
     ]
    }
   ],
   "source": [
    "num = 1234\n",
    "print(str(num)[::-1])"
   ]
  },
  {
   "cell_type": "markdown",
   "id": "c4836b93-7cdc-47e1-b421-2f71b6bce106",
   "metadata": {},
   "source": [
    "## 3. Write a program to find the euclidean distance between two coordinates."
   ]
  },
  {
   "cell_type": "code",
   "execution_count": 25,
   "id": "139c82f2-1809-4701-b673-3d10783a79bf",
   "metadata": {},
   "outputs": [
    {
     "name": "stdin",
     "output_type": "stream",
     "text": [
      "Enter the first coordinate as x1, y1 5 4\n",
      "Enter the first coordinate as x2, y2 3 2\n"
     ]
    },
    {
     "data": {
      "text/plain": [
       "2.8284271247461903"
      ]
     },
     "execution_count": 25,
     "metadata": {},
     "output_type": "execute_result"
    }
   ],
   "source": [
    "# take user input\n",
    "p1 = input('Enter the first coordinate as x1, y1').split()\n",
    "p2 = input('Enter the first coordinate as x2, y2').split()\n",
    "p1 = list(map(int, p1))\n",
    "p2 = list(map(int, p2))\n",
    "# formula \n",
    "dist = (p1[0]-p2[0])**2 + (p1[1]-p2[1])**2\n",
    "dist = dist**0.5\n",
    "# output\n",
    "dist"
   ]
  },
  {
   "cell_type": "markdown",
   "id": "d31180a4-5c91-40ed-a72b-06d8591e5c56",
   "metadata": {},
   "source": [
    "# 4. Separate Even and Odd numbers stored in a list into two different lists"
   ]
  },
  {
   "cell_type": "code",
   "execution_count": 41,
   "id": "fa4ee002-48a1-4887-9e99-f7aad79b1149",
   "metadata": {},
   "outputs": [
    {
     "name": "stdout",
     "output_type": "stream",
     "text": [
      "[1, 2, 3, 4, 5, 6, 7, 8, 9] [2, 4, 6, 8] [1, 3, 5, 7, 9]\n"
     ]
    }
   ],
   "source": [
    "# Common list\n",
    "common_list = [1, 2, 3, 4, 5]\n",
    "common_list = list(range(1, 10))\n",
    "even_list = []\n",
    "odd_list =[]\n",
    "\n",
    "# Check every number in list if even or odd\n",
    "for k in common_list:\n",
    "    \n",
    "    # If else(append)\n",
    "    if k%2 == 0:\n",
    "        even_list.append(k)\n",
    "\n",
    "    else:\n",
    "        odd_list.append(k)\n",
    "# Output\n",
    "print(common_list, even_list, odd_list)"
   ]
  },
  {
   "cell_type": "markdown",
   "id": "3202c452-cb94-43f6-bd7f-2431df63e060",
   "metadata": {},
   "source": [
    "# 5. Right Triangle Number Pattern"
   ]
  },
  {
   "cell_type": "code",
   "execution_count": 64,
   "id": "359ed342-948d-4871-acf3-4b354118eec0",
   "metadata": {},
   "outputs": [
    {
     "name": "stdout",
     "output_type": "stream",
     "text": [
      "1 \n",
      "2 2 \n",
      "3 3 3 \n",
      "4 4 4 4 \n",
      "5 5 5 5 5 \n"
     ]
    }
   ],
   "source": [
    "for i in range(1, 6):\n",
    "    for j in range(1, i+1):\n",
    "        print(i, end=' ')\n",
    "    print()"
   ]
  },
  {
   "cell_type": "markdown",
   "id": "8f770438-4192-4156-9e7e-72d54f67bc66",
   "metadata": {},
   "source": [
    "# 6. Factorial of a given number"
   ]
  },
  {
   "cell_type": "code",
   "execution_count": 5,
   "id": "68e8940d-1310-4394-886b-8b631832dabb",
   "metadata": {},
   "outputs": [
    {
     "name": "stdin",
     "output_type": "stream",
     "text": [
      "enter any integer 4\n"
     ]
    },
    {
     "name": "stdout",
     "output_type": "stream",
     "text": [
      "The factorial of 0 is 24\n"
     ]
    }
   ],
   "source": [
    "# Input\n",
    "num = int(input(\"enter any integer\"))\n",
    "# Formula\n",
    "fact = 1\n",
    "while num>0:\n",
    "    fact = fact*(num)\n",
    "    num = num-1\n",
    "# Output\n",
    "print(\"The factorial of {} is {}\".format(num, fact))"
   ]
  },
  {
   "cell_type": "markdown",
   "id": "772bb010-550d-421c-a8b7-b5b4f6b64229",
   "metadata": {},
   "source": [
    "# 7. Print first 25 prime numbers"
   ]
  },
  {
   "cell_type": "code",
   "execution_count": 6,
   "id": "67a07de8-f3d4-4b82-ac39-808580da20c7",
   "metadata": {},
   "outputs": [
    {
     "name": "stdout",
     "output_type": "stream",
     "text": [
      "[2, 3, 5, 7, 11, 13, 17, 19, 23, 29, 31, 37, 41, 43, 47, 53, 59, 61, 67, 71, 73, 79, 83, 89, 97]\n"
     ]
    }
   ],
   "source": [
    "# make a list prime, set num=2, flag\n",
    "num = 3\n",
    "prime =[2]\n",
    "count = 1\n",
    "\n",
    "## Function to check prime return true or false\n",
    "def if_prime(num):\n",
    "    flag = 0\n",
    "    for i in prime:\n",
    "        if num%i == 0:\n",
    "            flag = 1\n",
    "            return False\n",
    "        else :\n",
    "            pass\n",
    "    if flag==0 : return True\n",
    "\n",
    "## iterate over while loop to count 25 numbers\n",
    "while count<25:\n",
    "    output = if_prime(num)\n",
    "    if(output):\n",
    "        prime.append(num)\n",
    "        count += 1\n",
    "    else:\n",
    "        num += 1\n",
    "\n",
    "##print the list\n",
    "print(prime)"
   ]
  },
  {
   "cell_type": "markdown",
   "id": "7460215a-f95c-4d62-b4fd-7e499f01bc71",
   "metadata": {},
   "source": [
    "# 8. Print permutations of [1, 2, 3, 4]"
   ]
  },
  {
   "cell_type": "code",
   "execution_count": 8,
   "id": "b5d8fcb0-5d02-46c1-ab9b-433735594ded",
   "metadata": {},
   "outputs": [],
   "source": [
    "import itertools"
   ]
  },
  {
   "cell_type": "code",
   "execution_count": 10,
   "id": "ecc9e236-4dd4-4340-a67b-82de4f1e5588",
   "metadata": {},
   "outputs": [
    {
     "name": "stdout",
     "output_type": "stream",
     "text": [
      "(1, 2, 3, 4)\n",
      "(1, 2, 4, 3)\n",
      "(1, 3, 2, 4)\n",
      "(1, 3, 4, 2)\n",
      "(1, 4, 2, 3)\n",
      "(1, 4, 3, 2)\n",
      "(2, 1, 3, 4)\n",
      "(2, 1, 4, 3)\n",
      "(2, 3, 1, 4)\n",
      "(2, 3, 4, 1)\n",
      "(2, 4, 1, 3)\n",
      "(2, 4, 3, 1)\n",
      "(3, 1, 2, 4)\n",
      "(3, 1, 4, 2)\n",
      "(3, 2, 1, 4)\n",
      "(3, 2, 4, 1)\n",
      "(3, 4, 1, 2)\n",
      "(3, 4, 2, 1)\n",
      "(4, 1, 2, 3)\n",
      "(4, 1, 3, 2)\n",
      "(4, 2, 1, 3)\n",
      "(4, 2, 3, 1)\n",
      "(4, 3, 1, 2)\n",
      "(4, 3, 2, 1)\n"
     ]
    }
   ],
   "source": [
    "given = [1, 2, 3, 4]\n",
    "permutations = itertools.permutations(given)\n",
    "for i in permutations:\n",
    "    print(i)"
   ]
  },
  {
   "cell_type": "markdown",
   "id": "ee4dd7af-3252-459e-8f9d-7739034b65d7",
   "metadata": {},
   "source": [
    "# 9. HCF of two numbers"
   ]
  },
  {
   "cell_type": "code",
   "execution_count": 21,
   "id": "3ddd2c7b-ef59-47b8-ac5c-868b3d038aa5",
   "metadata": {},
   "outputs": [],
   "source": [
    "# check hcf\n",
    "def check_hcf(big, small):\n",
    "    rem = big%small\n",
    "    if rem == 0:\n",
    "        return small\n",
    "    else:\n",
    "        while (rem!=0):\n",
    "            rem = big%small\n",
    "            if rem!=0:\n",
    "                big = small\n",
    "                small = rem\n",
    "        return small\n",
    "        \n",
    "\n",
    "# print"
   ]
  },
  {
   "cell_type": "code",
   "execution_count": 22,
   "id": "5bd52986-1128-4c03-a501-e62a18dbd580",
   "metadata": {},
   "outputs": [
    {
     "data": {
      "text/plain": [
       "2"
      ]
     },
     "execution_count": 22,
     "metadata": {},
     "output_type": "execute_result"
    }
   ],
   "source": [
    "check_hcf(16, 14)"
   ]
  },
  {
   "cell_type": "markdown",
   "id": "4aff47eb-f4b4-4d28-96c7-57e5c764d1e0",
   "metadata": {},
   "source": [
    "### Another shorter way"
   ]
  },
  {
   "cell_type": "code",
   "execution_count": 23,
   "id": "ce51e5c5-9a9e-4236-a3ad-446dcbc7bb15",
   "metadata": {},
   "outputs": [],
   "source": [
    "def hcf(big, small):\n",
    "    while(small):\n",
    "        big, small = big, big%small\n",
    "        return small"
   ]
  },
  {
   "cell_type": "code",
   "execution_count": 24,
   "id": "dee77e1b-3c51-4dd4-921d-1a29a8b9a328",
   "metadata": {},
   "outputs": [
    {
     "data": {
      "text/plain": [
       "4"
      ]
     },
     "execution_count": 24,
     "metadata": {},
     "output_type": "execute_result"
    }
   ],
   "source": [
    "hcf(12, 8)"
   ]
  },
  {
   "cell_type": "markdown",
   "id": "759143d2-5b7e-4e52-a7b8-a28a1ecf39d9",
   "metadata": {},
   "source": [
    "# 10. LCM of two numbers"
   ]
  },
  {
   "cell_type": "code",
   "execution_count": 27,
   "id": "de42b271-93aa-4244-91f9-be1d8e9f3f6c",
   "metadata": {},
   "outputs": [],
   "source": [
    "def lcm(big, small):\n",
    "    num = 2\n",
    "    prd = big\n",
    "    while(prd%small!=0):\n",
    "        prd = big*num\n",
    "        num += 1\n",
    "    return prd"
   ]
  },
  {
   "cell_type": "code",
   "execution_count": 33,
   "id": "0b4dab26-7f1b-4a47-88e5-4f59d466e717",
   "metadata": {},
   "outputs": [
    {
     "data": {
      "text/plain": [
       "240"
      ]
     },
     "execution_count": 33,
     "metadata": {},
     "output_type": "execute_result"
    }
   ],
   "source": [
    "lcm(16, 15)"
   ]
  },
  {
   "cell_type": "code",
   "execution_count": null,
   "id": "836a507c-d269-46f9-89a9-7185343fe094",
   "metadata": {},
   "outputs": [],
   "source": [
    "find_fac"
   ]
  }
 ],
 "metadata": {
  "kernelspec": {
   "display_name": "Python 3 (ipykernel)",
   "language": "python",
   "name": "python3"
  },
  "language_info": {
   "codemirror_mode": {
    "name": "ipython",
    "version": 3
   },
   "file_extension": ".py",
   "mimetype": "text/x-python",
   "name": "python",
   "nbconvert_exporter": "python",
   "pygments_lexer": "ipython3",
   "version": "3.12.9"
  }
 },
 "nbformat": 4,
 "nbformat_minor": 5
}
