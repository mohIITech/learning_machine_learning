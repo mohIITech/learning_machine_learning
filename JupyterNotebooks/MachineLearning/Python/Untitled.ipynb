{
 "cells": [
  {
   "cell_type": "code",
   "execution_count": null,
   "id": "752e88b2-34b0-4f02-a603-950c9241d219",
   "metadata": {},
   "outputs": [],
   "source": [
    "import import_ipynb\n",
    "from OOP.ipynb import Atm"
   ]
  },
  {
   "cell_type": "code",
   "execution_count": null,
   "id": "d9b0d0cd-3809-4435-8672-db195937d63f",
   "metadata": {},
   "outputs": [],
   "source": []
  }
 ],
 "metadata": {
  "kernelspec": {
   "display_name": "Python 3 (ipykernel)",
   "language": "python",
   "name": "python3"
  },
  "language_info": {
   "codemirror_mode": {
    "name": "ipython",
    "version": 3
   },
   "file_extension": ".py",
   "mimetype": "text/x-python",
   "name": "python",
   "nbconvert_exporter": "python",
   "pygments_lexer": "ipython3",
   "version": "3.12.9"
  }
 },
 "nbformat": 4,
 "nbformat_minor": 5
}
