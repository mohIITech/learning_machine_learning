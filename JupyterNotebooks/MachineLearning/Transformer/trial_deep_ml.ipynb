{
 "cells": [
  {
   "cell_type": "code",
   "execution_count": 16,
   "id": "041994b7-bbde-44c8-a2ba-954487662971",
   "metadata": {},
   "outputs": [],
   "source": [
    "import numpy as np"
   ]
  },
  {
   "cell_type": "code",
   "execution_count": 24,
   "id": "627a1729-020b-48db-b1d5-a89cb55a5a11",
   "metadata": {},
   "outputs": [],
   "source": [
    "matrix_a = np.array([[1, 2], [2, 4]])"
   ]
  },
  {
   "cell_type": "code",
   "execution_count": 25,
   "id": "d58371b9-448e-4b99-b6bf-73a139164451",
   "metadata": {},
   "outputs": [
    {
     "data": {
      "text/plain": [
       "(2, 2)"
      ]
     },
     "execution_count": 25,
     "metadata": {},
     "output_type": "execute_result"
    }
   ],
   "source": [
    "matrix_a.shape"
   ]
  },
  {
   "cell_type": "code",
   "execution_count": 26,
   "id": "f93da301-a9cb-4635-bedd-1d81b902e48c",
   "metadata": {},
   "outputs": [
    {
     "data": {
      "text/plain": [
       "(2,)"
      ]
     },
     "execution_count": 26,
     "metadata": {},
     "output_type": "execute_result"
    }
   ],
   "source": [
    "vector_b = np.array([1, 2])\n",
    "vector_b.shape"
   ]
  },
  {
   "cell_type": "code",
   "execution_count": 27,
   "id": "c89c8c82-aaf3-4b46-abc3-9d2de0ffa14e",
   "metadata": {},
   "outputs": [],
   "source": [
    "product = np.dot(matrix_a, vector_b)"
   ]
  },
  {
   "cell_type": "code",
   "execution_count": 28,
   "id": "1cb22a68-93a4-4da2-9e35-dd320bfcaa19",
   "metadata": {},
   "outputs": [
    {
     "data": {
      "text/plain": [
       "array([ 5, 10])"
      ]
     },
     "execution_count": 28,
     "metadata": {},
     "output_type": "execute_result"
    }
   ],
   "source": [
    "product"
   ]
  },
  {
   "cell_type": "code",
   "execution_count": 32,
   "id": "bb28c6c0-28a1-4393-b734-719afdc0a3b8",
   "metadata": {},
   "outputs": [],
   "source": [
    "a = matrix_a.shape"
   ]
  },
  {
   "cell_type": "code",
   "execution_count": 33,
   "id": "937cdad9-78f3-457f-a15a-5c853741f95f",
   "metadata": {},
   "outputs": [
    {
     "data": {
      "text/plain": [
       "(2, 2)"
      ]
     },
     "execution_count": 33,
     "metadata": {},
     "output_type": "execute_result"
    }
   ],
   "source": [
    "a"
   ]
  },
  {
   "cell_type": "code",
   "execution_count": 34,
   "id": "7cf5262a-a707-40cf-82bf-968d4be7b646",
   "metadata": {},
   "outputs": [
    {
     "data": {
      "text/plain": [
       "2"
      ]
     },
     "execution_count": 34,
     "metadata": {},
     "output_type": "execute_result"
    }
   ],
   "source": [
    "a[0]"
   ]
  },
  {
   "cell_type": "code",
   "execution_count": null,
   "id": "c665de7c-4e1f-4102-9225-1587b2aea545",
   "metadata": {},
   "outputs": [],
   "source": []
  }
 ],
 "metadata": {
  "kernelspec": {
   "display_name": "Python 3 (ipykernel)",
   "language": "python",
   "name": "python3"
  },
  "language_info": {
   "codemirror_mode": {
    "name": "ipython",
    "version": 3
   },
   "file_extension": ".py",
   "mimetype": "text/x-python",
   "name": "python",
   "nbconvert_exporter": "python",
   "pygments_lexer": "ipython3",
   "version": "3.12.9"
  }
 },
 "nbformat": 4,
 "nbformat_minor": 5
}
