{
 "cells": [
  {
   "attachments": {},
   "cell_type": "markdown",
   "id": "beb75736-dbf5-45dc-9208-6ad3d4b20881",
   "metadata": {},
   "source": [
    "# Forward Manipulator\n",
    "<div>\n",
    "    <img src=\"manipulator.png\" width='500'/>\n",
    "</div>"
   ]
  },
  {
   "cell_type": "code",
   "execution_count": 1,
   "id": "00d529e5-da81-40c9-9cf9-45298f4484f7",
   "metadata": {},
   "outputs": [],
   "source": [
    "import matplotlib.pyplot as plt\n",
    "import math\n",
    "import numpy as np"
   ]
  },
  {
   "cell_type": "markdown",
   "id": "6712c3d1-17fc-429d-a7e9-6d5228281492",
   "metadata": {},
   "source": [
    "### Define parameters for the two link"
   ]
  },
  {
   "cell_type": "code",
   "execution_count": 2,
   "id": "79444242-3e51-4334-b25c-7694386ea37f",
   "metadata": {},
   "outputs": [],
   "source": [
    "l1 = 1\n",
    "l2 = 1\n",
    "theta1 = 0.5\n",
    "theta2 = -0.3"
   ]
  },
  {
   "cell_type": "markdown",
   "id": "05f82a04-78f8-49f6-93a0-aed63b21bb54",
   "metadata": {},
   "source": [
    "### Prepping to get homogenous transformation"
   ]
  },
  {
   "cell_type": "code",
   "execution_count": 7,
   "id": "5820a1ea-9274-41f5-951a-1f50399378cd",
   "metadata": {},
   "outputs": [],
   "source": [
    "c1 = math.cos(theta1)\n",
    "c2 = math.cos(theta2)\n",
    "s1 = math.sin(theta1)\n",
    "s2 = math.sin(theta2)"
   ]
  },
  {
   "cell_type": "markdown",
   "id": "fd583892-963a-4465-8d26-2893cfdb4d1e",
   "metadata": {},
   "source": [
    "<div>\n",
    "    <img src=\"homogeneous.png\" width='500'/>\n",
    "</div>"
   ]
  },
  {
   "cell_type": "code",
   "execution_count": null,
   "id": "32e8e817-3a3c-4340-94dc-e134230aa522",
   "metadata": {},
   "outputs": [],
   "source": []
  }
 ],
 "metadata": {
  "kernelspec": {
   "display_name": "Python 3 (ipykernel)",
   "language": "python",
   "name": "python3"
  },
  "language_info": {
   "codemirror_mode": {
    "name": "ipython",
    "version": 3
   },
   "file_extension": ".py",
   "mimetype": "text/x-python",
   "name": "python",
   "nbconvert_exporter": "python",
   "pygments_lexer": "ipython3",
   "version": "3.12.9"
  }
 },
 "nbformat": 4,
 "nbformat_minor": 5
}
