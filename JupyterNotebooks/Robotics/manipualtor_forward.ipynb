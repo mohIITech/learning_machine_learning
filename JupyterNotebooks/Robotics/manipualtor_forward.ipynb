{
 "cells": [
  {
   "attachments": {},
   "cell_type": "markdown",
   "id": "beb75736-dbf5-45dc-9208-6ad3d4b20881",
   "metadata": {},
   "source": [
    "# Forward Manipulator\n",
    "<div>\n",
    "    <img src=\"manipulator.png\" width='500'/>\n",
    "</div>"
   ]
  },
  {
   "cell_type": "code",
   "execution_count": 1,
   "id": "00d529e5-da81-40c9-9cf9-45298f4484f7",
   "metadata": {},
   "outputs": [],
   "source": [
    "import matplotlib.pyplot as plt\n",
    "import math\n",
    "import numpy as np"
   ]
  },
  {
   "cell_type": "markdown",
   "id": "6712c3d1-17fc-429d-a7e9-6d5228281492",
   "metadata": {},
   "source": [
    "### Define parameters for the two link"
   ]
  },
  {
   "cell_type": "code",
   "execution_count": 2,
   "id": "79444242-3e51-4334-b25c-7694386ea37f",
   "metadata": {},
   "outputs": [],
   "source": [
    "l1 = 1\n",
    "l2 = 1\n",
    "theta1 = 0.5\n",
    "theta2 = -0.3"
   ]
  },
  {
   "cell_type": "markdown",
   "id": "05f82a04-78f8-49f6-93a0-aed63b21bb54",
   "metadata": {},
   "source": [
    "### Prepping to get homogenous transformation"
   ]
  },
  {
   "cell_type": "code",
   "execution_count": 3,
   "id": "5820a1ea-9274-41f5-951a-1f50399378cd",
   "metadata": {},
   "outputs": [],
   "source": [
    "c1 = math.cos(theta1)\n",
    "c2 = math.cos(theta2)\n",
    "s1 = math.sin(theta1)\n",
    "s2 = math.sin(theta2)"
   ]
  },
  {
   "cell_type": "markdown",
   "id": "fd583892-963a-4465-8d26-2893cfdb4d1e",
   "metadata": {},
   "source": [
    "<div>\n",
    "    <img src=\"homogeneous.png\" width='500'/>\n",
    "</div>"
   ]
  },
  {
   "cell_type": "markdown",
   "id": "4a8708f7-0e9d-406f-ad85-f6d30490ef67",
   "metadata": {},
   "source": [
    "### Definig the translation vectors\n",
    "```\n",
    "Homogeneous transformation matrices have the form:\n",
    "[[cos(θ), -sin(θ), x],\n",
    " [sin(θ),  cos(θ), y],\n",
    " [0,       0,      1]]\n",
    "where (x,y) is the translation vector\n",
    "```"
   ]
  },
  {
   "cell_type": "code",
   "execution_count": 4,
   "id": "9f2cfaae-a876-43a0-b958-cc08c11d2b09",
   "metadata": {},
   "outputs": [],
   "source": [
    "O01 = [0, 0]    # from origin to joint 1 translation\n",
    "O12 = [l1, 0]   # translation of joint 2 from x frame of link 1"
   ]
  },
  {
   "cell_type": "code",
   "execution_count": 5,
   "id": "d95357fe-8eb2-4ae5-96a8-948c2c731ef4",
   "metadata": {},
   "outputs": [],
   "source": [
    "H01 = np.array([[c1, -s1, 0],\n",
    "       [s1,  c1, 0],\n",
    "       [0,    0, 1]])\n",
    "H12 = np.array([[c2, -s2, l1],\n",
    "       [s2,  c2, 0],\n",
    "       [0,    0, 1]])\n",
    "\n",
    "## Combined transformation\n",
    "H02 = np.dot(H01, H12)"
   ]
  },
  {
   "cell_type": "code",
   "execution_count": 20,
   "id": "04801a3d-ed36-485b-8865-babc11f3703c",
   "metadata": {},
   "outputs": [],
   "source": [
    "o = np.array([[0, 0]])     # origin in world frame\n",
    "o = np.transpose(o)"
   ]
  },
  {
   "cell_type": "markdown",
   "id": "5c4dca57-5ce8-4211-acfc-4b321378aab6",
   "metadata": {},
   "source": [
    "### Finding end of link 1 in world frame"
   ]
  },
  {
   "cell_type": "code",
   "execution_count": 7,
   "id": "e33e12b7-4cba-43ce-a233-29c13f28e170",
   "metadata": {},
   "outputs": [],
   "source": [
    "P1 = np.array([[l1, 0, 1]])    # in frame 1\n",
    "P1 = np.transpose(P1)\n",
    "## now transform it to world frame using H01\n",
    "P0 = np.dot(H01, P1)  # in world frame\n",
    "p = [P0[0], P0[1]]"
   ]
  },
  {
   "cell_type": "markdown",
   "id": "830b07be-54f9-40fd-803b-cb68195b78fc",
   "metadata": {},
   "source": [
    "### End of link 2 in frame2 then world frame"
   ]
  },
  {
   "cell_type": "code",
   "execution_count": 8,
   "id": "8a2525db-7dc5-42e8-8af3-d1cedbe815c1",
   "metadata": {},
   "outputs": [],
   "source": [
    "Q2 = np.array([[l2, 0, 1]])\n",
    "Q2 = np.transpose(Q2)\n",
    "Q0 = np.dot(H02, Q2)\n",
    "q = [Q0[0], Q0[1]]"
   ]
  },
  {
   "cell_type": "code",
   "execution_count": 9,
   "id": "1e7a6ad9-7750-4961-87a3-c1b82fdb9c71",
   "metadata": {},
   "outputs": [
    {
     "data": {
      "text/plain": [
       "([array([0.87758256]), array([0.47942554])],\n",
       " [array([1.85764914]), array([0.67809487])])"
      ]
     },
     "execution_count": 9,
     "metadata": {},
     "output_type": "execute_result"
    }
   ],
   "source": [
    "p, q"
   ]
  },
  {
   "cell_type": "markdown",
   "id": "12bb0977-e697-446e-8a99-fe6446d8dec3",
   "metadata": {},
   "source": [
    "### Drawing line from origin to end of link 1"
   ]
  },
  {
   "cell_type": "code",
   "execution_count": 26,
   "id": "7a805cc8-c399-4b4c-b9cb-e0cba36a8040",
   "metadata": {},
   "outputs": [
    {
     "data": {
      "image/png": "[encoded data removed]",
      "text/plain": [
       "<Figure size 640x480 with 1 Axes>"
      ]
     },
     "metadata": {},
     "output_type": "display_data"
    }
   ],
   "source": [
    "plt.plot([o[0], p[0]], [o[1], p[1]], linewidth=5, color='r')\n",
    "plt.plot([p[0], q[0]], [p[1], q[1]], linewidth=5, color='g')\n",
    "plt.xlabel(\"x\")\n",
    "plt.ylabel(\"y\")\n",
    "plt.xlim(-2, 2)\n",
    "plt.ylim(-2, 2)\n",
    "plt.grid()\n",
    "plt.gca().set_aspect('equal')"
   ]
  },
  {
   "cell_type": "code",
   "execution_count": 21,
   "id": "0de76ca5-42de-4713-8592-d7d0c8ddc8dd",
   "metadata": {},
   "outputs": [
    {
     "data": {
      "text/plain": [
       "((2, 1), (2, 1), (2, 1))"
      ]
     },
     "execution_count": 21,
     "metadata": {},
     "output_type": "execute_result"
    }
   ],
   "source": [
    "np.shape(o), np.shape(p), np.shape(q)"
   ]
  },
  {
   "cell_type": "code",
   "execution_count": 27,
   "id": "d524ea69-d65a-475e-8789-78a662a77703",
   "metadata": {},
   "outputs": [
    {
     "data": {
      "text/plain": [
       "array([0, 0])"
      ]
     },
     "execution_count": 27,
     "metadata": {},
     "output_type": "execute_result"
    }
   ],
   "source": [
    "o"
   ]
  },
  {
   "cell_type": "code",
   "execution_count": 11,
   "id": "40c2ed90-2acd-4604-85a7-7fe1c1e81874",
   "metadata": {},
   "outputs": [
    {
     "data": {
      "text/plain": [
       "([np.int64(0), array([0.87758256])], [np.int64(0), array([0.47942554])])"
      ]
     },
     "execution_count": 11,
     "metadata": {},
     "output_type": "execute_result"
    }
   ],
   "source": [
    "[o[0], p[0]], [o[1], p[1]]"
   ]
  },
  {
   "cell_type": "code",
   "execution_count": null,
   "id": "51d6cb8c-a777-4a45-96e5-cc2a576ef6f1",
   "metadata": {},
   "outputs": [],
   "source": []
  }
 ],
 "metadata": {
  "kernelspec": {
   "display_name": "Python 3 (ipykernel)",
   "language": "python",
   "name": "python3"
  },
  "language_info": {
   "codemirror_mode": {
    "name": "ipython",
    "version": 3
   },
   "file_extension": ".py",
   "mimetype": "text/x-python",
   "name": "python",
   "nbconvert_exporter": "python",
   "pygments_lexer": "ipython3",
   "version": "3.12.9"
  }
 },
 "nbformat": 4,
 "nbformat_minor": 5
}
