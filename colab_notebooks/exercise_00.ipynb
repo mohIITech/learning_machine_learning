{
  "nbformat": 4,
  "nbformat_minor": 0,
  "metadata": {
    "colab": {
      "provenance": [],
      "gpuType": "T4",
      "authorship_tag": "ABX9TyOd332p3DDWfYgs0OmiaJom",
      "include_colab_link": true
    },
    "kernelspec": {
      "name": "python3",
      "display_name": "Python 3"
    },
    "language_info": {
      "name": "python"
    },
    "accelerator": "GPU"
  },
  "cells": [
    {
      "cell_type": "markdown",
      "metadata": {
        "id": "view-in-github",
        "colab_type": "text"
      },
      "source": [
        "<a href=\"https://colab.research.google.com/github/mohIITech/learning_machine_learning/blob/colab/colab_notebooks/exercise_00.ipynb\" target=\"_parent\"><img src=\"https://colab.research.google.com/assets/colab-badge.svg\" alt=\"Open In Colab\"/></a>"
      ]
    },
    {
      "cell_type": "markdown",
      "source": [
        "# 1. Import torch"
      ],
      "metadata": {
        "id": "tNDckzBOzECe"
      }
    },
    {
      "cell_type": "code",
      "execution_count": 1,
      "metadata": {
        "id": "x2Sz4MyQwVnL"
      },
      "outputs": [],
      "source": [
        "import torch"
      ]
    },
    {
      "cell_type": "markdown",
      "source": [
        "# 2. Create a random tensor of shape(7, 7)"
      ],
      "metadata": {
        "id": "L8QqCIt5zGMC"
      }
    },
    {
      "cell_type": "code",
      "source": [
        "random_tensor = torch.rand(size=[7, 7])"
      ],
      "metadata": {
        "id": "e8XzR8_vxenC"
      },
      "execution_count": 2,
      "outputs": []
    },
    {
      "cell_type": "markdown",
      "source": [
        "# 3. Perform a matrix multiplication on the tensor from 2 with another random tensor with shape (1, 7) (hint: you may have to transpose the second tensor)."
      ],
      "metadata": {
        "id": "XT0CxHCnzLbc"
      }
    },
    {
      "cell_type": "code",
      "source": [
        "random_tensor_2 = torch.rand(size=[1, 7])\n",
        "random_tensor_2_t  = torch.transpose(random_tensor_2, 0, 1)"
      ],
      "metadata": {
        "id": "fwFn7TUay-Kv"
      },
      "execution_count": 3,
      "outputs": []
    },
    {
      "cell_type": "code",
      "source": [
        "random_tensor_2, random_tensor_2_t"
      ],
      "metadata": {
        "colab": {
          "base_uri": "https://localhost:8080/"
        },
        "id": "iIyZ_r920UkU",
        "outputId": "732996c5-7c15-42b7-e242-64734396648e"
      },
      "execution_count": 4,
      "outputs": [
        {
          "output_type": "execute_result",
          "data": {
            "text/plain": [
              "(tensor([[0.4843, 0.7562, 0.9145, 0.3871, 0.9953, 0.0684, 0.2743]]),\n",
              " tensor([[0.4843],\n",
              "         [0.7562],\n",
              "         [0.9145],\n",
              "         [0.3871],\n",
              "         [0.9953],\n",
              "         [0.0684],\n",
              "         [0.2743]]))"
            ]
          },
          "metadata": {},
          "execution_count": 4
        }
      ]
    },
    {
      "cell_type": "code",
      "source": [
        "product = torch.mm(random_tensor, random_tensor_2_t)\n",
        "product"
      ],
      "metadata": {
        "colab": {
          "base_uri": "https://localhost:8080/"
        },
        "id": "KZ3KEEpT0_eg",
        "outputId": "0d88662b-291c-469c-b413-2ab9aa89e15e"
      },
      "execution_count": 5,
      "outputs": [
        {
          "output_type": "execute_result",
          "data": {
            "text/plain": [
              "tensor([[1.7457],\n",
              "        [1.5446],\n",
              "        [2.7354],\n",
              "        [1.8841],\n",
              "        [1.8771],\n",
              "        [2.5962],\n",
              "        [1.5983]])"
            ]
          },
          "metadata": {},
          "execution_count": 5
        }
      ]
    },
    {
      "cell_type": "markdown",
      "source": [
        "# 4. Set the random seed to 0 and do 2 & 3 over again."
      ],
      "metadata": {
        "id": "VnqH216g9WIb"
      }
    },
    {
      "cell_type": "code",
      "source": [
        "RANDOM_SEED = 0\n",
        "torch.random.manual_seed(seed=RANDOM_SEED)\n",
        "random_tensor_3 = torch.rand(size=[7, 7])\n",
        "random_tensor_4 = torch.rand(size=[1, 7])\n",
        "\n",
        "print(f\"Before : \\n tensor_3{random_tensor_3} \\n tensor_4{random_tensor_4}\")\n",
        "\n",
        "random_tensor_4 = torch.transpose(random_tensor_4, 0, 1)\n",
        "\n",
        "print(f\"After : \\n tensor_3{random_tensor_3} \\n tensor_4{random_tensor_4}\")\n",
        "\n",
        "product_2 = torch.matmul(random_tensor_3, random_tensor_4)\n",
        "product_2"
      ],
      "metadata": {
        "colab": {
          "base_uri": "https://localhost:8080/"
        },
        "id": "cuY63kh11Wvq",
        "outputId": "b3823dba-90ac-49a8-839f-987e1dbf12b2"
      },
      "execution_count": 6,
      "outputs": [
        {
          "output_type": "stream",
          "name": "stdout",
          "text": [
            "Before : \n",
            " tensor_3tensor([[0.4963, 0.7682, 0.0885, 0.1320, 0.3074, 0.6341, 0.4901],\n",
            "        [0.8964, 0.4556, 0.6323, 0.3489, 0.4017, 0.0223, 0.1689],\n",
            "        [0.2939, 0.5185, 0.6977, 0.8000, 0.1610, 0.2823, 0.6816],\n",
            "        [0.9152, 0.3971, 0.8742, 0.4194, 0.5529, 0.9527, 0.0362],\n",
            "        [0.1852, 0.3734, 0.3051, 0.9320, 0.1759, 0.2698, 0.1507],\n",
            "        [0.0317, 0.2081, 0.9298, 0.7231, 0.7423, 0.5263, 0.2437],\n",
            "        [0.5846, 0.0332, 0.1387, 0.2422, 0.8155, 0.7932, 0.2783]]) \n",
            " tensor_4tensor([[0.4820, 0.8198, 0.9971, 0.6984, 0.5675, 0.8352, 0.2056]])\n",
            "After : \n",
            " tensor_3tensor([[0.4963, 0.7682, 0.0885, 0.1320, 0.3074, 0.6341, 0.4901],\n",
            "        [0.8964, 0.4556, 0.6323, 0.3489, 0.4017, 0.0223, 0.1689],\n",
            "        [0.2939, 0.5185, 0.6977, 0.8000, 0.1610, 0.2823, 0.6816],\n",
            "        [0.9152, 0.3971, 0.8742, 0.4194, 0.5529, 0.9527, 0.0362],\n",
            "        [0.1852, 0.3734, 0.3051, 0.9320, 0.1759, 0.2698, 0.1507],\n",
            "        [0.0317, 0.2081, 0.9298, 0.7231, 0.7423, 0.5263, 0.2437],\n",
            "        [0.5846, 0.0332, 0.1387, 0.2422, 0.8155, 0.7932, 0.2783]]) \n",
            " tensor_4tensor([[0.4820],\n",
            "        [0.8198],\n",
            "        [0.9971],\n",
            "        [0.6984],\n",
            "        [0.5675],\n",
            "        [0.8352],\n",
            "        [0.2056]])\n"
          ]
        },
        {
          "output_type": "execute_result",
          "data": {
            "text/plain": [
              "tensor([[1.8542],\n",
              "        [1.9611],\n",
              "        [2.2884],\n",
              "        [3.0481],\n",
              "        [1.7067],\n",
              "        [2.5290],\n",
              "        [1.7989]])"
            ]
          },
          "metadata": {},
          "execution_count": 6
        }
      ]
    },
    {
      "cell_type": "markdown",
      "source": [
        "# 5. Speaking of random seeds, we saw how to set it with torch.manual_seed() but is there a GPU equivalent? (hint: you'll need to look into the documentation for torch.cuda for this one)\n",
        "If there is, set the GPU random seed to 1234."
      ],
      "metadata": {
        "id": "h4k-7FaJlV0O"
      }
    },
    {
      "cell_type": "code",
      "source": [
        "torch.cuda.is_available()"
      ],
      "metadata": {
        "colab": {
          "base_uri": "https://localhost:8080/"
        },
        "id": "4EByB0KY-O13",
        "outputId": "87b75397-2eb9-441d-997a-b675edf3d016"
      },
      "execution_count": 7,
      "outputs": [
        {
          "output_type": "execute_result",
          "data": {
            "text/plain": [
              "True"
            ]
          },
          "metadata": {},
          "execution_count": 7
        }
      ]
    },
    {
      "cell_type": "code",
      "source": [
        "torch.cuda.get_device_name()"
      ],
      "metadata": {
        "colab": {
          "base_uri": "https://localhost:8080/",
          "height": 35
        },
        "id": "GwlO1RtECDiX",
        "outputId": "d120b91c-6105-44b0-d52a-91d3fcd618be"
      },
      "execution_count": 13,
      "outputs": [
        {
          "output_type": "execute_result",
          "data": {
            "text/plain": [
              "'Tesla T4'"
            ],
            "application/vnd.google.colaboratory.intrinsic+json": {
              "type": "string"
            }
          },
          "metadata": {},
          "execution_count": 13
        }
      ]
    },
    {
      "cell_type": "markdown",
      "source": [
        "# 6. Create two random tensors of shape (2, 3) and send them both to the GPU (you'll need access to a GPU for this). Set torch.manual_seed(1234) when creating the tensors (this doesn't have to be the GPU random seed)."
      ],
      "metadata": {
        "id": "dzTgbHNGlbF4"
      }
    },
    {
      "cell_type": "code",
      "source": [
        "RANDOM_SEED_GPU = 1234\n",
        "torch.cuda.manual_seed(seed=RANDOM_SEED_GPU)\n",
        "\n",
        "random_tensor_5 = torch.rand(size=[7, 7], device='cuda')\n",
        "random_tensor_6 = torch.rand(size=[1, 7], device='cuda')\n",
        "\n",
        "random_tensor_5, random_tensor_6"
      ],
      "metadata": {
        "colab": {
          "base_uri": "https://localhost:8080/"
        },
        "id": "_mwQb8TOC2ud",
        "outputId": "d5cd1abe-c518-4ff8-98f9-4d99a94c63b6"
      },
      "execution_count": 11,
      "outputs": [
        {
          "output_type": "execute_result",
          "data": {
            "text/plain": [
              "(tensor([[0.1272, 0.8167, 0.5440, 0.6601, 0.2721, 0.9737, 0.3903],\n",
              "         [0.3394, 0.5451, 0.7312, 0.3864, 0.5959, 0.7578, 0.2126],\n",
              "         [0.7198, 0.9845, 0.5518, 0.0981, 0.0582, 0.5839, 0.1083],\n",
              "         [0.9461, 0.3170, 0.8328, 0.6676, 0.2886, 0.9022, 0.8115],\n",
              "         [0.1784, 0.9534, 0.1486, 0.3882, 0.7977, 0.1752, 0.5777],\n",
              "         [0.1949, 0.8499, 0.3125, 0.2156, 0.0383, 0.4934, 0.3138],\n",
              "         [0.3121, 0.5664, 0.1266, 0.7097, 0.0040, 0.5147, 0.2811]],\n",
              "        device='cuda:0'),\n",
              " tensor([[0.6208, 0.0276, 0.3255, 0.1114, 0.6812, 0.3608, 0.1715]],\n",
              "        device='cuda:0'))"
            ]
          },
          "metadata": {},
          "execution_count": 11
        }
      ]
    },
    {
      "cell_type": "markdown",
      "source": [
        "# 7. Perform a matrix multiplication on the tensors you created in 6"
      ],
      "metadata": {
        "id": "4Lx8j-N7leO4"
      }
    },
    {
      "cell_type": "code",
      "source": [
        "product_3 = torch.matmul(random_tensor_5, torch.transpose(random_tensor_6, 0, 1))\n",
        "product_3"
      ],
      "metadata": {
        "colab": {
          "base_uri": "https://localhost:8080/"
        },
        "id": "Pe5IJYxnkBKy",
        "outputId": "4b447ff2-078c-43a3-cebf-792f66a1dbde"
      },
      "execution_count": 14,
      "outputs": [
        {
          "output_type": "execute_result",
          "data": {
            "text/plain": [
              "tensor([[0.9558],\n",
              "        [1.2227],\n",
              "        [0.9335],\n",
              "        [1.6030],\n",
              "        [0.9344],\n",
              "        [0.5282],\n",
              "        [0.5664]], device='cuda:0')"
            ]
          },
          "metadata": {},
          "execution_count": 14
        }
      ]
    },
    {
      "cell_type": "markdown",
      "source": [
        "# 8. Find the maximum and minimum values of the output of 7."
      ],
      "metadata": {
        "id": "46R5AST1ljg2"
      }
    },
    {
      "cell_type": "code",
      "source": [
        "torch.max(product_3), torch.min(product_3)"
      ],
      "metadata": {
        "colab": {
          "base_uri": "https://localhost:8080/"
        },
        "id": "hkEOkcVck-MB",
        "outputId": "5873ae68-fd3e-4ea3-f54a-b3521de83079"
      },
      "execution_count": 16,
      "outputs": [
        {
          "output_type": "execute_result",
          "data": {
            "text/plain": [
              "(tensor(1.6030, device='cuda:0'), tensor(0.5282, device='cuda:0'))"
            ]
          },
          "metadata": {},
          "execution_count": 16
        }
      ]
    },
    {
      "cell_type": "markdown",
      "source": [
        "# 9. Find the maximum and minimum index values of the output of 7."
      ],
      "metadata": {
        "id": "8gaTcQOil6zP"
      }
    },
    {
      "cell_type": "code",
      "source": [
        "torch.argmax(product_3), torch.argmin(product_3)"
      ],
      "metadata": {
        "colab": {
          "base_uri": "https://localhost:8080/"
        },
        "id": "98PlTHgnlI_O",
        "outputId": "8bc6af07-abff-43e5-bcb5-5f861589a8f4"
      },
      "execution_count": 18,
      "outputs": [
        {
          "output_type": "execute_result",
          "data": {
            "text/plain": [
              "(tensor(3, device='cuda:0'), tensor(5, device='cuda:0'))"
            ]
          },
          "metadata": {},
          "execution_count": 18
        }
      ]
    },
    {
      "cell_type": "markdown",
      "source": [
        "# 10. Make a random tensor with shape (1, 1, 1, 10) and then create a new tensor with all the 1 dimensions removed to be left with a tensor of shape (10). Set the seed to 7 when you create it and print out the first tensor and it's shape as well as the second tensor and it's shape."
      ],
      "metadata": {
        "id": "VV99yPaZmbJ0"
      }
    },
    {
      "cell_type": "code",
      "source": [
        "# random seed\n",
        "RANDOM_SEED =7\n",
        "torch.random.manual_seed(seed=RANDOM_SEED)\n",
        "random_tensor_7 = torch.rand(size=[1, 1, 1, 10], device='cuda')\n",
        "random_tensor_7"
      ],
      "metadata": {
        "colab": {
          "base_uri": "https://localhost:8080/"
        },
        "id": "GaHNv_hymBQk",
        "outputId": "5d822752-7303-4247-8a23-a07bd1a0e8d0"
      },
      "execution_count": 21,
      "outputs": [
        {
          "output_type": "execute_result",
          "data": {
            "text/plain": [
              "tensor([[[[0.9546, 0.4950, 0.9420, 0.5926, 0.6996, 0.2087, 0.6753, 0.4810,\n",
              "           0.6333, 0.5733]]]], device='cuda:0')"
            ]
          },
          "metadata": {},
          "execution_count": 21
        }
      ]
    },
    {
      "cell_type": "code",
      "source": [
        "# removing the 1 dimensions\n",
        "new_tensor = torch.squeeze(random_tensor_7)\n",
        "new_tensor, new_tensor.ndim, new_tensor.shape\n",
        "## this changes the original tensor also"
      ],
      "metadata": {
        "colab": {
          "base_uri": "https://localhost:8080/"
        },
        "id": "EEDr7PGtm7Qt",
        "outputId": "c9f36744-e336-4ad5-b36c-94ffb26e68d4"
      },
      "execution_count": 29,
      "outputs": [
        {
          "output_type": "execute_result",
          "data": {
            "text/plain": [
              "(tensor([0.9546, 0.4950, 0.9420, 0.5926, 0.6996, 0.2087, 0.6753, 0.4810, 0.6333,\n",
              "         0.5733], device='cuda:0'),\n",
              " 1,\n",
              " torch.Size([10]))"
            ]
          },
          "metadata": {},
          "execution_count": 29
        }
      ]
    },
    {
      "cell_type": "code",
      "source": [],
      "metadata": {
        "id": "LI7-gBGkoDY_"
      },
      "execution_count": null,
      "outputs": []
    }
  ]
}