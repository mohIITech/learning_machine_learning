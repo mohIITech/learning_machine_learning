{
  "metadata": {
    "kernelspec": {
      "language": "python",
      "display_name": "Python 3",
      "name": "python3"
    },
    "language_info": {
      "name": "python",
      "version": "3.11.13",
      "mimetype": "text/x-python",
      "codemirror_mode": {
        "name": "ipython",
        "version": 3
      },
      "pygments_lexer": "ipython3",
      "nbconvert_exporter": "python",
      "file_extension": ".py"
    },
    "kaggle": {
      "accelerator": "nvidiaTeslaT4",
      "dataSources": [
        {
          "sourceId": 1481789,
          "sourceType": "datasetVersion",
          "datasetId": 869651
        }
      ],
      "dockerImageVersionId": 31089,
      "isInternetEnabled": false,
      "language": "python",
      "sourceType": "notebook",
      "isGpuEnabled": true
    },
    "colab": {
      "name": "first_neural_net",
      "provenance": [],
      "include_colab_link": true
    }
  },
  "nbformat_minor": 0,
  "nbformat": 4,
  "cells": [
    {
      "cell_type": "markdown",
      "metadata": {
        "id": "view-in-github",
        "colab_type": "text"
      },
      "source": [
        "<a href=\"https://colab.research.google.com/github/mohIITech/learning_machine_learning/blob/colab/first_neural_net.ipynb\" target=\"_parent\"><img src=\"https://colab.research.google.com/assets/colab-badge.svg\" alt=\"Open In Colab\"/></a>"
      ]
    },
    {
      "source": [
        "# IMPORTANT: RUN THIS CELL IN ORDER TO IMPORT YOUR KAGGLE DATA SOURCES,\n",
        "# THEN FEEL FREE TO DELETE THIS CELL.\n",
        "# NOTE: THIS NOTEBOOK ENVIRONMENT DIFFERS FROM KAGGLE'S PYTHON\n",
        "# ENVIRONMENT SO THERE MAY BE MISSING LIBRARIES USED BY YOUR\n",
        "# NOTEBOOK.\n",
        "import kagglehub\n",
        "rjmanoj_credit_card_customer_churn_prediction_path = kagglehub.dataset_download('rjmanoj/credit-card-customer-churn-prediction')\n",
        "\n",
        "print('Data source import complete.')\n"
      ],
      "metadata": {
        "id": "cV62IVDucOrm"
      },
      "cell_type": "code",
      "outputs": [],
      "execution_count": null
    },
    {
      "cell_type": "code",
      "source": [
        "# This Python 3 environment comes with many helpful analytics libraries installed\n",
        "# It is defined by the kaggle/python Docker image: https://github.com/kaggle/docker-python\n",
        "# For example, here's several helpful packages to load\n",
        "\n",
        "import numpy as np # linear algebra\n",
        "import pandas as pd # data processing, CSV file I/O (e.g. pd.read_csv)\n",
        "\n",
        "# Input data files are available in the read-only \"../input/\" directory\n",
        "# For example, running this (by clicking run or pressing Shift+Enter) will list all files under the input directory\n",
        "\n",
        "import os\n",
        "for dirname, _, filenames in os.walk('/kaggle/input'):\n",
        "    for filename in filenames:\n",
        "        print(os.path.join(dirname, filename))\n",
        "\n",
        "# You can write up to 20GB to the current directory (/kaggle/working/) that gets preserved as output when you create a version using \"Save & Run All\"\n",
        "# You can also write temporary files to /kaggle/temp/, but they won't be saved outside of the current session"
      ],
      "metadata": {
        "_uuid": "8f2839f25d086af736a60e9eeb907d3b93b6e0e5",
        "_cell_guid": "b1076dfc-b9ad-4769-8c92-a6c4dae69d19",
        "trusted": true,
        "execution": {
          "iopub.status.busy": "2025-08-03T10:15:49.267925Z",
          "iopub.execute_input": "2025-08-03T10:15:49.268454Z",
          "iopub.status.idle": "2025-08-03T10:15:50.461594Z",
          "shell.execute_reply.started": "2025-08-03T10:15:49.268425Z",
          "shell.execute_reply": "2025-08-03T10:15:50.460847Z"
        },
        "id": "8rIGCgnwcOro",
        "outputId": "c6bb7df2-986e-4cfc-ae70-87e79479c5ce"
      },
      "outputs": [
        {
          "name": "stdout",
          "text": "/kaggle/input/credit-card-customer-churn-prediction/Churn_Modelling.csv\n",
          "output_type": "stream"
        }
      ],
      "execution_count": null
    },
    {
      "cell_type": "code",
      "source": [
        "df = pd.read_csv('/kaggle/input/credit-card-customer-churn-prediction/Churn_Modelling.csv')\n",
        "df.head()"
      ],
      "metadata": {
        "trusted": true,
        "execution": {
          "iopub.status.busy": "2025-08-03T10:15:50.462233Z",
          "iopub.execute_input": "2025-08-03T10:15:50.462533Z",
          "iopub.status.idle": "2025-08-03T10:15:50.530274Z",
          "shell.execute_reply.started": "2025-08-03T10:15:50.462514Z",
          "shell.execute_reply": "2025-08-03T10:15:50.529592Z"
        },
        "id": "izB8d3A7cOrp",
        "outputId": "6313da87-07c4-404d-d308-8f7dd5454c80"
      },
      "outputs": [
        {
          "execution_count": 2,
          "output_type": "execute_result",
          "data": {
            "text/plain": "   RowNumber  CustomerId   Surname  CreditScore Geography  Gender  Age  \\\n0          1    15634602  Hargrave          619    France  Female   42   \n1          2    15647311      Hill          608     Spain  Female   41   \n2          3    15619304      Onio          502    France  Female   42   \n3          4    15701354      Boni          699    France  Female   39   \n4          5    15737888  Mitchell          850     Spain  Female   43   \n\n   Tenure    Balance  NumOfProducts  HasCrCard  IsActiveMember  \\\n0       2       0.00              1          1               1   \n1       1   83807.86              1          0               1   \n2       8  159660.80              3          1               0   \n3       1       0.00              2          0               0   \n4       2  125510.82              1          1               1   \n\n   EstimatedSalary  Exited  \n0        101348.88       1  \n1        112542.58       0  \n2        113931.57       1  \n3         93826.63       0  \n4         79084.10       0  ",
            "text/html": "<div>\n<style scoped>\n    .dataframe tbody tr th:only-of-type {\n        vertical-align: middle;\n    }\n\n    .dataframe tbody tr th {\n        vertical-align: top;\n    }\n\n    .dataframe thead th {\n        text-align: right;\n    }\n</style>\n<table border=\"1\" class=\"dataframe\">\n  <thead>\n    <tr style=\"text-align: right;\">\n      <th></th>\n      <th>RowNumber</th>\n      <th>CustomerId</th>\n      <th>Surname</th>\n      <th>CreditScore</th>\n      <th>Geography</th>\n      <th>Gender</th>\n      <th>Age</th>\n      <th>Tenure</th>\n      <th>Balance</th>\n      <th>NumOfProducts</th>\n      <th>HasCrCard</th>\n      <th>IsActiveMember</th>\n      <th>EstimatedSalary</th>\n      <th>Exited</th>\n    </tr>\n  </thead>\n  <tbody>\n    <tr>\n      <th>0</th>\n      <td>1</td>\n      <td>15634602</td>\n      <td>Hargrave</td>\n      <td>619</td>\n      <td>France</td>\n      <td>Female</td>\n      <td>42</td>\n      <td>2</td>\n      <td>0.00</td>\n      <td>1</td>\n      <td>1</td>\n      <td>1</td>\n      <td>101348.88</td>\n      <td>1</td>\n    </tr>\n    <tr>\n      <th>1</th>\n      <td>2</td>\n      <td>15647311</td>\n      <td>Hill</td>\n      <td>608</td>\n      <td>Spain</td>\n      <td>Female</td>\n      <td>41</td>\n      <td>1</td>\n      <td>83807.86</td>\n      <td>1</td>\n      <td>0</td>\n      <td>1</td>\n      <td>112542.58</td>\n      <td>0</td>\n    </tr>\n    <tr>\n      <th>2</th>\n      <td>3</td>\n      <td>15619304</td>\n      <td>Onio</td>\n      <td>502</td>\n      <td>France</td>\n      <td>Female</td>\n      <td>42</td>\n      <td>8</td>\n      <td>159660.80</td>\n      <td>3</td>\n      <td>1</td>\n      <td>0</td>\n      <td>113931.57</td>\n      <td>1</td>\n    </tr>\n    <tr>\n      <th>3</th>\n      <td>4</td>\n      <td>15701354</td>\n      <td>Boni</td>\n      <td>699</td>\n      <td>France</td>\n      <td>Female</td>\n      <td>39</td>\n      <td>1</td>\n      <td>0.00</td>\n      <td>2</td>\n      <td>0</td>\n      <td>0</td>\n      <td>93826.63</td>\n      <td>0</td>\n    </tr>\n    <tr>\n      <th>4</th>\n      <td>5</td>\n      <td>15737888</td>\n      <td>Mitchell</td>\n      <td>850</td>\n      <td>Spain</td>\n      <td>Female</td>\n      <td>43</td>\n      <td>2</td>\n      <td>125510.82</td>\n      <td>1</td>\n      <td>1</td>\n      <td>1</td>\n      <td>79084.10</td>\n      <td>0</td>\n    </tr>\n  </tbody>\n</table>\n</div>"
          },
          "metadata": {}
        }
      ],
      "execution_count": null
    },
    {
      "cell_type": "code",
      "source": [
        "df.shape"
      ],
      "metadata": {
        "trusted": true,
        "execution": {
          "iopub.status.busy": "2025-08-03T10:15:50.531745Z",
          "iopub.execute_input": "2025-08-03T10:15:50.531948Z",
          "iopub.status.idle": "2025-08-03T10:15:50.536951Z",
          "shell.execute_reply.started": "2025-08-03T10:15:50.531932Z",
          "shell.execute_reply": "2025-08-03T10:15:50.536367Z"
        },
        "id": "XZCs0X_0cOrp",
        "outputId": "9d94ebfc-d21d-493b-9bb4-7bd44e5a4df6"
      },
      "outputs": [
        {
          "execution_count": 3,
          "output_type": "execute_result",
          "data": {
            "text/plain": "(10000, 14)"
          },
          "metadata": {}
        }
      ],
      "execution_count": null
    },
    {
      "cell_type": "code",
      "source": [
        "df.drop(columns=['RowNumber', 'CustomerId', 'Surname', 'NumOfProducts'], inplace=True)\n",
        "df.head()"
      ],
      "metadata": {
        "trusted": true,
        "execution": {
          "iopub.status.busy": "2025-08-03T10:15:50.537707Z",
          "iopub.execute_input": "2025-08-03T10:15:50.537932Z",
          "iopub.status.idle": "2025-08-03T10:15:50.562018Z",
          "shell.execute_reply.started": "2025-08-03T10:15:50.537911Z",
          "shell.execute_reply": "2025-08-03T10:15:50.561495Z"
        },
        "id": "psu46o0zcOrp",
        "outputId": "186daf87-045d-48d2-e125-3c93230f6dd2"
      },
      "outputs": [
        {
          "execution_count": 4,
          "output_type": "execute_result",
          "data": {
            "text/plain": "   CreditScore Geography  Gender  Age  Tenure    Balance  HasCrCard  \\\n0          619    France  Female   42       2       0.00          1   \n1          608     Spain  Female   41       1   83807.86          0   \n2          502    France  Female   42       8  159660.80          1   \n3          699    France  Female   39       1       0.00          0   \n4          850     Spain  Female   43       2  125510.82          1   \n\n   IsActiveMember  EstimatedSalary  Exited  \n0               1        101348.88       1  \n1               1        112542.58       0  \n2               0        113931.57       1  \n3               0         93826.63       0  \n4               1         79084.10       0  ",
            "text/html": "<div>\n<style scoped>\n    .dataframe tbody tr th:only-of-type {\n        vertical-align: middle;\n    }\n\n    .dataframe tbody tr th {\n        vertical-align: top;\n    }\n\n    .dataframe thead th {\n        text-align: right;\n    }\n</style>\n<table border=\"1\" class=\"dataframe\">\n  <thead>\n    <tr style=\"text-align: right;\">\n      <th></th>\n      <th>CreditScore</th>\n      <th>Geography</th>\n      <th>Gender</th>\n      <th>Age</th>\n      <th>Tenure</th>\n      <th>Balance</th>\n      <th>HasCrCard</th>\n      <th>IsActiveMember</th>\n      <th>EstimatedSalary</th>\n      <th>Exited</th>\n    </tr>\n  </thead>\n  <tbody>\n    <tr>\n      <th>0</th>\n      <td>619</td>\n      <td>France</td>\n      <td>Female</td>\n      <td>42</td>\n      <td>2</td>\n      <td>0.00</td>\n      <td>1</td>\n      <td>1</td>\n      <td>101348.88</td>\n      <td>1</td>\n    </tr>\n    <tr>\n      <th>1</th>\n      <td>608</td>\n      <td>Spain</td>\n      <td>Female</td>\n      <td>41</td>\n      <td>1</td>\n      <td>83807.86</td>\n      <td>0</td>\n      <td>1</td>\n      <td>112542.58</td>\n      <td>0</td>\n    </tr>\n    <tr>\n      <th>2</th>\n      <td>502</td>\n      <td>France</td>\n      <td>Female</td>\n      <td>42</td>\n      <td>8</td>\n      <td>159660.80</td>\n      <td>1</td>\n      <td>0</td>\n      <td>113931.57</td>\n      <td>1</td>\n    </tr>\n    <tr>\n      <th>3</th>\n      <td>699</td>\n      <td>France</td>\n      <td>Female</td>\n      <td>39</td>\n      <td>1</td>\n      <td>0.00</td>\n      <td>0</td>\n      <td>0</td>\n      <td>93826.63</td>\n      <td>0</td>\n    </tr>\n    <tr>\n      <th>4</th>\n      <td>850</td>\n      <td>Spain</td>\n      <td>Female</td>\n      <td>43</td>\n      <td>2</td>\n      <td>125510.82</td>\n      <td>1</td>\n      <td>1</td>\n      <td>79084.10</td>\n      <td>0</td>\n    </tr>\n  </tbody>\n</table>\n</div>"
          },
          "metadata": {}
        }
      ],
      "execution_count": null
    },
    {
      "cell_type": "code",
      "source": [
        "df['Geography'].value_counts(), df['Gender'].value_counts()"
      ],
      "metadata": {
        "trusted": true,
        "execution": {
          "iopub.status.busy": "2025-08-03T10:15:50.562726Z",
          "iopub.execute_input": "2025-08-03T10:15:50.562939Z",
          "iopub.status.idle": "2025-08-03T10:15:50.572745Z",
          "shell.execute_reply.started": "2025-08-03T10:15:50.562923Z",
          "shell.execute_reply": "2025-08-03T10:15:50.571977Z"
        },
        "id": "ktgwadP4cOrq",
        "outputId": "bca777a6-7635-45a2-c242-2c8c74038587"
      },
      "outputs": [
        {
          "execution_count": 5,
          "output_type": "execute_result",
          "data": {
            "text/plain": "(Geography\n France     5014\n Germany    2509\n Spain      2477\n Name: count, dtype: int64,\n Gender\n Male      5457\n Female    4543\n Name: count, dtype: int64)"
          },
          "metadata": {}
        }
      ],
      "execution_count": null
    },
    {
      "cell_type": "code",
      "source": [
        "# using panda dummies to convert the Gender and Geography column into one hot encoding\n",
        "df = pd.get_dummies(df, columns=['Geography', 'Gender'], drop_first=True, dtype=int)\n",
        "df.head()"
      ],
      "metadata": {
        "trusted": true,
        "execution": {
          "iopub.status.busy": "2025-08-03T10:15:50.573811Z",
          "iopub.execute_input": "2025-08-03T10:15:50.574363Z",
          "iopub.status.idle": "2025-08-03T10:15:50.596196Z",
          "shell.execute_reply.started": "2025-08-03T10:15:50.574338Z",
          "shell.execute_reply": "2025-08-03T10:15:50.595632Z"
        },
        "id": "5njIa8-BcOrq",
        "outputId": "7ec69a76-0896-420f-88fb-4c758a3c1201"
      },
      "outputs": [
        {
          "execution_count": 6,
          "output_type": "execute_result",
          "data": {
            "text/plain": "   CreditScore  Age  Tenure    Balance  HasCrCard  IsActiveMember  \\\n0          619   42       2       0.00          1               1   \n1          608   41       1   83807.86          0               1   \n2          502   42       8  159660.80          1               0   \n3          699   39       1       0.00          0               0   \n4          850   43       2  125510.82          1               1   \n\n   EstimatedSalary  Exited  Geography_Germany  Geography_Spain  Gender_Male  \n0        101348.88       1                  0                0            0  \n1        112542.58       0                  0                1            0  \n2        113931.57       1                  0                0            0  \n3         93826.63       0                  0                0            0  \n4         79084.10       0                  0                1            0  ",
            "text/html": "<div>\n<style scoped>\n    .dataframe tbody tr th:only-of-type {\n        vertical-align: middle;\n    }\n\n    .dataframe tbody tr th {\n        vertical-align: top;\n    }\n\n    .dataframe thead th {\n        text-align: right;\n    }\n</style>\n<table border=\"1\" class=\"dataframe\">\n  <thead>\n    <tr style=\"text-align: right;\">\n      <th></th>\n      <th>CreditScore</th>\n      <th>Age</th>\n      <th>Tenure</th>\n      <th>Balance</th>\n      <th>HasCrCard</th>\n      <th>IsActiveMember</th>\n      <th>EstimatedSalary</th>\n      <th>Exited</th>\n      <th>Geography_Germany</th>\n      <th>Geography_Spain</th>\n      <th>Gender_Male</th>\n    </tr>\n  </thead>\n  <tbody>\n    <tr>\n      <th>0</th>\n      <td>619</td>\n      <td>42</td>\n      <td>2</td>\n      <td>0.00</td>\n      <td>1</td>\n      <td>1</td>\n      <td>101348.88</td>\n      <td>1</td>\n      <td>0</td>\n      <td>0</td>\n      <td>0</td>\n    </tr>\n    <tr>\n      <th>1</th>\n      <td>608</td>\n      <td>41</td>\n      <td>1</td>\n      <td>83807.86</td>\n      <td>0</td>\n      <td>1</td>\n      <td>112542.58</td>\n      <td>0</td>\n      <td>0</td>\n      <td>1</td>\n      <td>0</td>\n    </tr>\n    <tr>\n      <th>2</th>\n      <td>502</td>\n      <td>42</td>\n      <td>8</td>\n      <td>159660.80</td>\n      <td>1</td>\n      <td>0</td>\n      <td>113931.57</td>\n      <td>1</td>\n      <td>0</td>\n      <td>0</td>\n      <td>0</td>\n    </tr>\n    <tr>\n      <th>3</th>\n      <td>699</td>\n      <td>39</td>\n      <td>1</td>\n      <td>0.00</td>\n      <td>0</td>\n      <td>0</td>\n      <td>93826.63</td>\n      <td>0</td>\n      <td>0</td>\n      <td>0</td>\n      <td>0</td>\n    </tr>\n    <tr>\n      <th>4</th>\n      <td>850</td>\n      <td>43</td>\n      <td>2</td>\n      <td>125510.82</td>\n      <td>1</td>\n      <td>1</td>\n      <td>79084.10</td>\n      <td>0</td>\n      <td>0</td>\n      <td>1</td>\n      <td>0</td>\n    </tr>\n  </tbody>\n</table>\n</div>"
          },
          "metadata": {}
        }
      ],
      "execution_count": null
    },
    {
      "cell_type": "code",
      "source": [
        "X = df.drop(columns=['Exited'])\n",
        "y = df['Exited']\n",
        "from sklearn.model_selection import train_test_split\n",
        "X_train, X_test, y_train, y_test = train_test_split(X, y, test_size=0.2, random_state=1)"
      ],
      "metadata": {
        "trusted": true,
        "execution": {
          "iopub.status.busy": "2025-08-03T10:15:50.596837Z",
          "iopub.execute_input": "2025-08-03T10:15:50.597036Z",
          "iopub.status.idle": "2025-08-03T10:15:51.703739Z",
          "shell.execute_reply.started": "2025-08-03T10:15:50.597011Z",
          "shell.execute_reply": "2025-08-03T10:15:51.703124Z"
        },
        "id": "rqbmsYVhcOrq"
      },
      "outputs": [],
      "execution_count": null
    },
    {
      "cell_type": "code",
      "source": [
        "X.shape"
      ],
      "metadata": {
        "trusted": true,
        "execution": {
          "iopub.status.busy": "2025-08-03T10:15:51.704477Z",
          "iopub.execute_input": "2025-08-03T10:15:51.704892Z",
          "iopub.status.idle": "2025-08-03T10:15:51.710419Z",
          "shell.execute_reply.started": "2025-08-03T10:15:51.704864Z",
          "shell.execute_reply": "2025-08-03T10:15:51.709774Z"
        },
        "id": "mEzT6E3xcOrr",
        "outputId": "5eb26ad8-2143-46b0-9b7f-3565f0d68a5d"
      },
      "outputs": [
        {
          "execution_count": 8,
          "output_type": "execute_result",
          "data": {
            "text/plain": "(10000, 10)"
          },
          "metadata": {}
        }
      ],
      "execution_count": null
    },
    {
      "cell_type": "code",
      "source": [
        "X\n",
        "from sklearn.preprocessing import StandardScaler\n",
        "scaler = StandardScaler()\n",
        "\n",
        "X_train_scaled = scaler.fit_transform(X_train)\n",
        "X_test_scaled = scaler.transform(X_test)"
      ],
      "metadata": {
        "trusted": true,
        "execution": {
          "iopub.status.busy": "2025-08-03T10:15:51.712283Z",
          "iopub.execute_input": "2025-08-03T10:15:51.712562Z",
          "iopub.status.idle": "2025-08-03T10:15:51.753556Z",
          "shell.execute_reply.started": "2025-08-03T10:15:51.712545Z",
          "shell.execute_reply": "2025-08-03T10:15:51.752841Z"
        },
        "id": "Slwa_gh3cOrr"
      },
      "outputs": [],
      "execution_count": null
    },
    {
      "cell_type": "code",
      "source": [
        "X_train_scaled"
      ],
      "metadata": {
        "trusted": true,
        "execution": {
          "iopub.status.busy": "2025-08-03T10:16:14.202206Z",
          "iopub.execute_input": "2025-08-03T10:16:14.202858Z",
          "iopub.status.idle": "2025-08-03T10:16:14.207847Z",
          "shell.execute_reply.started": "2025-08-03T10:16:14.202836Z",
          "shell.execute_reply": "2025-08-03T10:16:14.207128Z"
        },
        "id": "Y3zbvd8FcOrr",
        "outputId": "c54a3ea2-b4e2-4451-e870-45062b8a6a31"
      },
      "outputs": [
        {
          "execution_count": 10,
          "output_type": "execute_result",
          "data": {
            "text/plain": "array([[-0.23082038, -0.94449979, -0.70174202, ...,  1.71490137,\n        -0.57273139,  0.91509065],\n       [-0.25150912, -0.94449979, -0.35520275, ..., -0.58312392,\n        -0.57273139, -1.09278791],\n       [-0.3963303 ,  0.77498705,  0.33787579, ...,  1.71490137,\n        -0.57273139, -1.09278791],\n       ...,\n       [ 0.22433188,  0.58393295,  1.3774936 , ..., -0.58312392,\n        -0.57273139, -1.09278791],\n       [ 0.13123255,  0.01077067,  1.03095433, ..., -0.58312392,\n        -0.57273139, -1.09278791],\n       [ 1.1656695 ,  0.29735181,  0.33787579, ...,  1.71490137,\n        -0.57273139,  0.91509065]])"
          },
          "metadata": {}
        }
      ],
      "execution_count": null
    },
    {
      "cell_type": "code",
      "source": [
        "import tensorflow\n",
        "from tensorflow import keras\n",
        "from tensorflow.keras import Sequential\n",
        "from tensorflow.keras.layers import Dense"
      ],
      "metadata": {
        "trusted": true,
        "execution": {
          "iopub.status.busy": "2025-08-03T10:16:15.627994Z",
          "iopub.execute_input": "2025-08-03T10:16:15.628241Z",
          "iopub.status.idle": "2025-08-03T10:16:28.305582Z",
          "shell.execute_reply.started": "2025-08-03T10:16:15.628222Z",
          "shell.execute_reply": "2025-08-03T10:16:28.304934Z"
        },
        "id": "eDi-9W11cOrr",
        "outputId": "b278367c-6165-494e-c49d-7751c01ef4bc"
      },
      "outputs": [
        {
          "name": "stderr",
          "text": "2025-08-03 10:16:17.191051: E external/local_xla/xla/stream_executor/cuda/cuda_fft.cc:477] Unable to register cuFFT factory: Attempting to register factory for plugin cuFFT when one has already been registered\nWARNING: All log messages before absl::InitializeLog() is called are written to STDERR\nE0000 00:00:1754216177.396683      36 cuda_dnn.cc:8310] Unable to register cuDNN factory: Attempting to register factory for plugin cuDNN when one has already been registered\nE0000 00:00:1754216177.457016      36 cuda_blas.cc:1418] Unable to register cuBLAS factory: Attempting to register factory for plugin cuBLAS when one has already been registered\n",
          "output_type": "stream"
        }
      ],
      "execution_count": null
    },
    {
      "cell_type": "code",
      "source": [
        "model = Sequential()\n",
        "\n",
        "model.add(Dense(3, activation='sigmoid', input_dim=10))\n",
        "model.add(Dense(1, activation='sigmoid'))"
      ],
      "metadata": {
        "trusted": true,
        "execution": {
          "iopub.status.busy": "2025-08-03T10:16:44.260138Z",
          "iopub.execute_input": "2025-08-03T10:16:44.260698Z",
          "iopub.status.idle": "2025-08-03T10:16:46.470686Z",
          "shell.execute_reply.started": "2025-08-03T10:16:44.260673Z",
          "shell.execute_reply": "2025-08-03T10:16:46.469956Z"
        },
        "id": "sPf74VLicOrr",
        "outputId": "78de844c-09eb-465b-bb81-a2f1c416ac66"
      },
      "outputs": [
        {
          "name": "stderr",
          "text": "/usr/local/lib/python3.11/dist-packages/keras/src/layers/core/dense.py:87: UserWarning: Do not pass an `input_shape`/`input_dim` argument to a layer. When using Sequential models, prefer using an `Input(shape)` object as the first layer in the model instead.\n  super().__init__(activity_regularizer=activity_regularizer, **kwargs)\nI0000 00:00:1754216205.267497      36 gpu_device.cc:2022] Created device /job:localhost/replica:0/task:0/device:GPU:0 with 13942 MB memory:  -> device: 0, name: Tesla T4, pci bus id: 0000:00:04.0, compute capability: 7.5\nI0000 00:00:1754216205.268157      36 gpu_device.cc:2022] Created device /job:localhost/replica:0/task:0/device:GPU:1 with 13942 MB memory:  -> device: 1, name: Tesla T4, pci bus id: 0000:00:05.0, compute capability: 7.5\n",
          "output_type": "stream"
        }
      ],
      "execution_count": null
    },
    {
      "cell_type": "code",
      "source": [
        "model.summary()"
      ],
      "metadata": {
        "trusted": true,
        "execution": {
          "iopub.status.busy": "2025-08-03T10:16:46.471806Z",
          "iopub.execute_input": "2025-08-03T10:16:46.472074Z",
          "iopub.status.idle": "2025-08-03T10:16:46.484812Z",
          "shell.execute_reply.started": "2025-08-03T10:16:46.472051Z",
          "shell.execute_reply": "2025-08-03T10:16:46.484159Z"
        },
        "id": "rUzTXMrqcOrs",
        "outputId": "61dc234c-6b4b-4604-efba-02fffd2b729c"
      },
      "outputs": [
        {
          "output_type": "display_data",
          "data": {
            "text/plain": "\u001b[1mModel: \"sequential\"\u001b[0m\n",
            "text/html": "<pre style=\"white-space:pre;overflow-x:auto;line-height:normal;font-family:Menlo,'DejaVu Sans Mono',consolas,'Courier New',monospace\"><span style=\"font-weight: bold\">Model: \"sequential\"</span>\n</pre>\n"
          },
          "metadata": {}
        },
        {
          "output_type": "display_data",
          "data": {
            "text/plain": "┏━━━━━━━━━━━━━━━━━━━━━━━━━━━━━━━━━┳━━━━━━━━━━━━━━━━━━━━━━━━┳━━━━━━━━━━━━━━━┓\n┃\u001b[1m \u001b[0m\u001b[1mLayer (type)                   \u001b[0m\u001b[1m \u001b[0m┃\u001b[1m \u001b[0m\u001b[1mOutput Shape          \u001b[0m\u001b[1m \u001b[0m┃\u001b[1m \u001b[0m\u001b[1m      Param #\u001b[0m\u001b[1m \u001b[0m┃\n┡━━━━━━━━━━━━━━━━━━━━━━━━━━━━━━━━━╇━━━━━━━━━━━━━━━━━━━━━━━━╇━━━━━━━━━━━━━━━┩\n│ dense (\u001b[38;5;33mDense\u001b[0m)                   │ (\u001b[38;5;45mNone\u001b[0m, \u001b[38;5;34m3\u001b[0m)              │            \u001b[38;5;34m33\u001b[0m │\n├─────────────────────────────────┼────────────────────────┼───────────────┤\n│ dense_1 (\u001b[38;5;33mDense\u001b[0m)                 │ (\u001b[38;5;45mNone\u001b[0m, \u001b[38;5;34m1\u001b[0m)              │             \u001b[38;5;34m4\u001b[0m │\n└─────────────────────────────────┴────────────────────────┴───────────────┘\n",
            "text/html": "<pre style=\"white-space:pre;overflow-x:auto;line-height:normal;font-family:Menlo,'DejaVu Sans Mono',consolas,'Courier New',monospace\">┏━━━━━━━━━━━━━━━━━━━━━━━━━━━━━━━━━┳━━━━━━━━━━━━━━━━━━━━━━━━┳━━━━━━━━━━━━━━━┓\n┃<span style=\"font-weight: bold\"> Layer (type)                    </span>┃<span style=\"font-weight: bold\"> Output Shape           </span>┃<span style=\"font-weight: bold\">       Param # </span>┃\n┡━━━━━━━━━━━━━━━━━━━━━━━━━━━━━━━━━╇━━━━━━━━━━━━━━━━━━━━━━━━╇━━━━━━━━━━━━━━━┩\n│ dense (<span style=\"color: #0087ff; text-decoration-color: #0087ff\">Dense</span>)                   │ (<span style=\"color: #00d7ff; text-decoration-color: #00d7ff\">None</span>, <span style=\"color: #00af00; text-decoration-color: #00af00\">3</span>)              │            <span style=\"color: #00af00; text-decoration-color: #00af00\">33</span> │\n├─────────────────────────────────┼────────────────────────┼───────────────┤\n│ dense_1 (<span style=\"color: #0087ff; text-decoration-color: #0087ff\">Dense</span>)                 │ (<span style=\"color: #00d7ff; text-decoration-color: #00d7ff\">None</span>, <span style=\"color: #00af00; text-decoration-color: #00af00\">1</span>)              │             <span style=\"color: #00af00; text-decoration-color: #00af00\">4</span> │\n└─────────────────────────────────┴────────────────────────┴───────────────┘\n</pre>\n"
          },
          "metadata": {}
        },
        {
          "output_type": "display_data",
          "data": {
            "text/plain": "\u001b[1m Total params: \u001b[0m\u001b[38;5;34m37\u001b[0m (148.00 B)\n",
            "text/html": "<pre style=\"white-space:pre;overflow-x:auto;line-height:normal;font-family:Menlo,'DejaVu Sans Mono',consolas,'Courier New',monospace\"><span style=\"font-weight: bold\"> Total params: </span><span style=\"color: #00af00; text-decoration-color: #00af00\">37</span> (148.00 B)\n</pre>\n"
          },
          "metadata": {}
        },
        {
          "output_type": "display_data",
          "data": {
            "text/plain": "\u001b[1m Trainable params: \u001b[0m\u001b[38;5;34m37\u001b[0m (148.00 B)\n",
            "text/html": "<pre style=\"white-space:pre;overflow-x:auto;line-height:normal;font-family:Menlo,'DejaVu Sans Mono',consolas,'Courier New',monospace\"><span style=\"font-weight: bold\"> Trainable params: </span><span style=\"color: #00af00; text-decoration-color: #00af00\">37</span> (148.00 B)\n</pre>\n"
          },
          "metadata": {}
        },
        {
          "output_type": "display_data",
          "data": {
            "text/plain": "\u001b[1m Non-trainable params: \u001b[0m\u001b[38;5;34m0\u001b[0m (0.00 B)\n",
            "text/html": "<pre style=\"white-space:pre;overflow-x:auto;line-height:normal;font-family:Menlo,'DejaVu Sans Mono',consolas,'Courier New',monospace\"><span style=\"font-weight: bold\"> Non-trainable params: </span><span style=\"color: #00af00; text-decoration-color: #00af00\">0</span> (0.00 B)\n</pre>\n"
          },
          "metadata": {}
        }
      ],
      "execution_count": null
    },
    {
      "cell_type": "code",
      "source": [
        "model.compile(loss='binary_crossentropy', optimizer='Adam', metrics=['accuracy'])"
      ],
      "metadata": {
        "trusted": true,
        "execution": {
          "iopub.status.busy": "2025-08-03T10:16:54.061637Z",
          "iopub.execute_input": "2025-08-03T10:16:54.06222Z",
          "iopub.status.idle": "2025-08-03T10:16:54.077627Z",
          "shell.execute_reply.started": "2025-08-03T10:16:54.062196Z",
          "shell.execute_reply": "2025-08-03T10:16:54.077085Z"
        },
        "id": "Ow0Qd1zecOrs"
      },
      "outputs": [],
      "execution_count": null
    },
    {
      "cell_type": "code",
      "source": [
        "history = model.fit(X_train_scaled, y_train, epochs=10, validation_split=0.2)"
      ],
      "metadata": {
        "trusted": true,
        "execution": {
          "iopub.status.busy": "2025-08-03T10:16:54.839503Z",
          "iopub.execute_input": "2025-08-03T10:16:54.839743Z",
          "iopub.status.idle": "2025-08-03T10:17:02.308952Z",
          "shell.execute_reply.started": "2025-08-03T10:16:54.839726Z",
          "shell.execute_reply": "2025-08-03T10:17:02.308224Z"
        },
        "id": "wDZdxh4KcOrs",
        "outputId": "7bdad4b2-1a1b-4fec-f907-0cbb63ffbb7e"
      },
      "outputs": [
        {
          "name": "stdout",
          "text": "Epoch 1/10\n",
          "output_type": "stream"
        },
        {
          "name": "stderr",
          "text": "WARNING: All log messages before absl::InitializeLog() is called are written to STDERR\nI0000 00:00:1754216215.836756      99 service.cc:148] XLA service 0x7aed540084c0 initialized for platform CUDA (this does not guarantee that XLA will be used). Devices:\nI0000 00:00:1754216215.837373      99 service.cc:156]   StreamExecutor device (0): Tesla T4, Compute Capability 7.5\nI0000 00:00:1754216215.837392      99 service.cc:156]   StreamExecutor device (1): Tesla T4, Compute Capability 7.5\nI0000 00:00:1754216216.034512      99 cuda_dnn.cc:529] Loaded cuDNN version 90300\n",
          "output_type": "stream"
        },
        {
          "name": "stdout",
          "text": "\u001b[1m 76/200\u001b[0m \u001b[32m━━━━━━━\u001b[0m\u001b[37m━━━━━━━━━━━━━\u001b[0m \u001b[1m0s\u001b[0m 2ms/step - accuracy: 0.8033 - loss: 0.5166",
          "output_type": "stream"
        },
        {
          "name": "stderr",
          "text": "I0000 00:00:1754216216.569226      99 device_compiler.h:188] Compiled cluster using XLA!  This line is logged at most once for the lifetime of the process.\n",
          "output_type": "stream"
        },
        {
          "name": "stdout",
          "text": "\u001b[1m200/200\u001b[0m \u001b[32m━━━━━━━━━━━━━━━━━━━━\u001b[0m\u001b[37m\u001b[0m \u001b[1m3s\u001b[0m 4ms/step - accuracy: 0.7998 - loss: 0.5103 - val_accuracy: 0.7975 - val_loss: 0.4870\nEpoch 2/10\n\u001b[1m200/200\u001b[0m \u001b[32m━━━━━━━━━━━━━━━━━━━━\u001b[0m\u001b[37m\u001b[0m \u001b[1m1s\u001b[0m 3ms/step - accuracy: 0.8003 - loss: 0.4712 - val_accuracy: 0.7975 - val_loss: 0.4670\nEpoch 3/10\n\u001b[1m200/200\u001b[0m \u001b[32m━━━━━━━━━━━━━━━━━━━━\u001b[0m\u001b[37m\u001b[0m \u001b[1m1s\u001b[0m 3ms/step - accuracy: 0.8061 - loss: 0.4478 - val_accuracy: 0.7975 - val_loss: 0.4545\nEpoch 4/10\n\u001b[1m200/200\u001b[0m \u001b[32m━━━━━━━━━━━━━━━━━━━━\u001b[0m\u001b[37m\u001b[0m \u001b[1m1s\u001b[0m 3ms/step - accuracy: 0.8002 - loss: 0.4441 - val_accuracy: 0.7975 - val_loss: 0.4462\nEpoch 5/10\n\u001b[1m200/200\u001b[0m \u001b[32m━━━━━━━━━━━━━━━━━━━━\u001b[0m\u001b[37m\u001b[0m \u001b[1m1s\u001b[0m 3ms/step - accuracy: 0.7971 - loss: 0.4389 - val_accuracy: 0.8006 - val_loss: 0.4404\nEpoch 6/10\n\u001b[1m200/200\u001b[0m \u001b[32m━━━━━━━━━━━━━━━━━━━━\u001b[0m\u001b[37m\u001b[0m \u001b[1m1s\u001b[0m 3ms/step - accuracy: 0.8003 - loss: 0.4367 - val_accuracy: 0.8037 - val_loss: 0.4366\nEpoch 7/10\n\u001b[1m200/200\u001b[0m \u001b[32m━━━━━━━━━━━━━━━━━━━━\u001b[0m\u001b[37m\u001b[0m \u001b[1m1s\u001b[0m 3ms/step - accuracy: 0.7970 - loss: 0.4381 - val_accuracy: 0.8062 - val_loss: 0.4340\nEpoch 8/10\n\u001b[1m200/200\u001b[0m \u001b[32m━━━━━━━━━━━━━━━━━━━━\u001b[0m\u001b[37m\u001b[0m \u001b[1m1s\u001b[0m 3ms/step - accuracy: 0.8160 - loss: 0.4200 - val_accuracy: 0.8062 - val_loss: 0.4322\nEpoch 9/10\n\u001b[1m200/200\u001b[0m \u001b[32m━━━━━━━━━━━━━━━━━━━━\u001b[0m\u001b[37m\u001b[0m \u001b[1m1s\u001b[0m 3ms/step - accuracy: 0.8152 - loss: 0.4247 - val_accuracy: 0.8069 - val_loss: 0.4307\nEpoch 10/10\n\u001b[1m200/200\u001b[0m \u001b[32m━━━━━━━━━━━━━━━━━━━━\u001b[0m\u001b[37m\u001b[0m \u001b[1m1s\u001b[0m 3ms/step - accuracy: 0.8063 - loss: 0.4359 - val_accuracy: 0.8106 - val_loss: 0.4295\n",
          "output_type": "stream"
        }
      ],
      "execution_count": null
    },
    {
      "cell_type": "code",
      "source": [
        "# here, the weights and biases of the model are stored\n",
        "model.layers[0].get_weights()"
      ],
      "metadata": {
        "trusted": true,
        "execution": {
          "iopub.status.busy": "2025-08-03T10:17:07.094672Z",
          "iopub.execute_input": "2025-08-03T10:17:07.09514Z",
          "iopub.status.idle": "2025-08-03T10:17:07.103975Z",
          "shell.execute_reply.started": "2025-08-03T10:17:07.095117Z",
          "shell.execute_reply": "2025-08-03T10:17:07.10336Z"
        },
        "id": "24SFizMmcOrs",
        "outputId": "cace2500-646e-4708-c51a-1de5b470dd7c"
      },
      "outputs": [
        {
          "execution_count": 16,
          "output_type": "execute_result",
          "data": {
            "text/plain": "[array([[-0.3413687 , -0.09377612,  0.10674734],\n        [ 1.0371681 , -1.7145814 , -0.8365211 ],\n        [ 0.09643753,  0.1365064 ,  0.01395129],\n        [-0.04648827, -0.40519753, -0.33276322],\n        [ 0.2905617 ,  0.1639493 ,  0.17599083],\n        [-0.68543226,  0.04123724,  1.1108744 ],\n        [ 0.24375458, -0.3315404 ,  0.26708436],\n        [ 0.79291767, -0.3979242 , -0.17710407],\n        [ 0.12634483,  0.3844252 , -0.2779752 ],\n        [-0.05595291,  0.32176316,  0.54545474]], dtype=float32),\n array([-0.27616915,  0.16769262,  0.342709  ], dtype=float32)]"
          },
          "metadata": {}
        }
      ],
      "execution_count": null
    },
    {
      "cell_type": "code",
      "source": [
        "model.predict(X_test_scaled)"
      ],
      "metadata": {
        "trusted": true,
        "execution": {
          "iopub.status.busy": "2025-08-03T10:17:08.024952Z",
          "iopub.execute_input": "2025-08-03T10:17:08.025175Z",
          "iopub.status.idle": "2025-08-03T10:17:08.524086Z",
          "shell.execute_reply.started": "2025-08-03T10:17:08.025158Z",
          "shell.execute_reply": "2025-08-03T10:17:08.523535Z"
        },
        "id": "I6HPDHhzcOrs",
        "outputId": "55dbec93-882d-45be-c34a-5217c48d5ba4"
      },
      "outputs": [
        {
          "name": "stdout",
          "text": "\u001b[1m63/63\u001b[0m \u001b[32m━━━━━━━━━━━━━━━━━━━━\u001b[0m\u001b[37m\u001b[0m \u001b[1m0s\u001b[0m 4ms/step\n",
          "output_type": "stream"
        },
        {
          "execution_count": 17,
          "output_type": "execute_result",
          "data": {
            "text/plain": "array([[0.12834546],\n       [0.13190019],\n       [0.1531909 ],\n       ...,\n       [0.05406715],\n       [0.13299665],\n       [0.33814347]], dtype=float32)"
          },
          "metadata": {}
        }
      ],
      "execution_count": null
    },
    {
      "cell_type": "code",
      "source": [
        "y_log = model.predict(X_test_scaled)"
      ],
      "metadata": {
        "trusted": true,
        "execution": {
          "iopub.status.busy": "2025-08-03T10:17:11.002496Z",
          "iopub.execute_input": "2025-08-03T10:17:11.00276Z",
          "iopub.status.idle": "2025-08-03T10:17:11.17395Z",
          "shell.execute_reply.started": "2025-08-03T10:17:11.002742Z",
          "shell.execute_reply": "2025-08-03T10:17:11.173181Z"
        },
        "id": "IWWqU7e2cOrs",
        "outputId": "31082f4e-dd5f-45a5-aada-717621090e78"
      },
      "outputs": [
        {
          "name": "stdout",
          "text": "\u001b[1m63/63\u001b[0m \u001b[32m━━━━━━━━━━━━━━━━━━━━\u001b[0m\u001b[37m\u001b[0m \u001b[1m0s\u001b[0m 1ms/step\n",
          "output_type": "stream"
        }
      ],
      "execution_count": null
    },
    {
      "cell_type": "code",
      "source": [
        "y_pred = np.where(y_log>0.5, 1, 0)"
      ],
      "metadata": {
        "trusted": true,
        "execution": {
          "iopub.status.busy": "2025-08-03T10:17:12.531149Z",
          "iopub.execute_input": "2025-08-03T10:17:12.531506Z",
          "iopub.status.idle": "2025-08-03T10:17:12.53534Z",
          "shell.execute_reply.started": "2025-08-03T10:17:12.531482Z",
          "shell.execute_reply": "2025-08-03T10:17:12.534623Z"
        },
        "id": "yaP283QScOrs"
      },
      "outputs": [],
      "execution_count": null
    },
    {
      "cell_type": "code",
      "source": [
        "from sklearn.metrics import accuracy_score\n",
        "accuracy_score(y_test, y_pred)"
      ],
      "metadata": {
        "trusted": true,
        "execution": {
          "iopub.status.busy": "2025-08-03T10:17:13.946446Z",
          "iopub.execute_input": "2025-08-03T10:17:13.946664Z",
          "iopub.status.idle": "2025-08-03T10:17:13.953182Z",
          "shell.execute_reply.started": "2025-08-03T10:17:13.946648Z",
          "shell.execute_reply": "2025-08-03T10:17:13.952456Z"
        },
        "id": "HNSP1aEEcOrs",
        "outputId": "bf545051-341c-4458-9c9d-f663827cb71e"
      },
      "outputs": [
        {
          "execution_count": 20,
          "output_type": "execute_result",
          "data": {
            "text/plain": "0.814"
          },
          "metadata": {}
        }
      ],
      "execution_count": null
    },
    {
      "cell_type": "code",
      "source": [
        "import matplotlib.pyplot as plt"
      ],
      "metadata": {
        "trusted": true,
        "execution": {
          "iopub.status.busy": "2025-08-03T10:17:14.090965Z",
          "iopub.execute_input": "2025-08-03T10:17:14.091171Z",
          "iopub.status.idle": "2025-08-03T10:17:14.094444Z",
          "shell.execute_reply.started": "2025-08-03T10:17:14.091155Z",
          "shell.execute_reply": "2025-08-03T10:17:14.093805Z"
        },
        "id": "YIe7M3zocOrs"
      },
      "outputs": [],
      "execution_count": null
    },
    {
      "cell_type": "code",
      "source": [
        "plt.plot(history.history['loss'])\n",
        "plt.plot(history.history['val_loss'])"
      ],
      "metadata": {
        "trusted": true,
        "execution": {
          "iopub.status.busy": "2025-08-03T10:17:16.535079Z",
          "iopub.execute_input": "2025-08-03T10:17:16.535687Z",
          "iopub.status.idle": "2025-08-03T10:17:16.976842Z",
          "shell.execute_reply.started": "2025-08-03T10:17:16.535664Z",
          "shell.execute_reply": "2025-08-03T10:17:16.975919Z"
        },
        "id": "l6_nTYsxcOrs",
        "outputId": "a507489c-4935-4de3-d2cd-35bdfd380753"
      },
      "outputs": [
        {
          "execution_count": 22,
          "output_type": "execute_result",
          "data": {
            "text/plain": "[<matplotlib.lines.Line2D at 0x7aee5f613d90>]"
          },
          "metadata": {}
        },
        {
          "output_type": "display_data",
          "data": {
            "text/plain": "<Figure size 640x480 with 1 Axes>",
            "image/png": "[encoded data removed]"
          },
          "metadata": {}
        }
      ],
      "execution_count": null
    },
    {
      "cell_type": "code",
      "source": [
        "plt.plot(history.history['accuracy'])\n",
        "plt.plot(history.history['val_accuracy'])"
      ],
      "metadata": {
        "trusted": true,
        "execution": {
          "iopub.status.busy": "2025-08-03T10:17:20.464649Z",
          "iopub.execute_input": "2025-08-03T10:17:20.465323Z",
          "iopub.status.idle": "2025-08-03T10:17:20.595824Z",
          "shell.execute_reply.started": "2025-08-03T10:17:20.465281Z",
          "shell.execute_reply": "2025-08-03T10:17:20.595247Z"
        },
        "id": "uOqDdqrdcOrs",
        "outputId": "2e508f31-2d5c-4a13-865a-e4377a4179c1"
      },
      "outputs": [
        {
          "execution_count": 23,
          "output_type": "execute_result",
          "data": {
            "text/plain": "[<matplotlib.lines.Line2D at 0x7aee18091490>]"
          },
          "metadata": {}
        },
        {
          "output_type": "display_data",
          "data": {
            "text/plain": "<Figure size 640x480 with 1 Axes>",
            "image/png": "[encoded data removed]"
          },
          "metadata": {}
        }
      ],
      "execution_count": null
    },
    {
      "cell_type": "code",
      "source": [],
      "metadata": {
        "trusted": true,
        "id": "aOTbwy12cOrt"
      },
      "outputs": [],
      "execution_count": null
    }
  ]
}