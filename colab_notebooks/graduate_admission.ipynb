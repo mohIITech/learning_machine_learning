{
  "metadata": {
    "kernelspec": {
      "language": "python",
      "display_name": "Python 3",
      "name": "python3"
    },
    "language_info": {
      "name": "python",
      "version": "3.11.13",
      "mimetype": "text/x-python",
      "codemirror_mode": {
        "name": "ipython",
        "version": 3
      },
      "pygments_lexer": "ipython3",
      "nbconvert_exporter": "python",
      "file_extension": ".py"
    },
    "kaggle": {
      "accelerator": "none",
      "dataSources": [
        {
          "sourceId": 228180,
          "sourceType": "datasetVersion",
          "datasetId": 14872
        }
      ],
      "dockerImageVersionId": 31089,
      "isInternetEnabled": true,
      "language": "python",
      "sourceType": "notebook",
      "isGpuEnabled": false
    },
    "colab": {
      "name": "graduate_admission",
      "provenance": [],
      "include_colab_link": true
    }
  },
  "nbformat_minor": 0,
  "nbformat": 4,
  "cells": [
    {
      "cell_type": "markdown",
      "metadata": {
        "id": "view-in-github",
        "colab_type": "text"
      },
      "source": [
        "<a href=\"https://colab.research.google.com/github/mohIITech/learning_machine_learning/blob/colab/graduate_admission.ipynb\" target=\"_parent\"><img src=\"https://colab.research.google.com/assets/colab-badge.svg\" alt=\"Open In Colab\"/></a>"
      ]
    },
    {
      "source": [
        "# IMPORTANT: RUN THIS CELL IN ORDER TO IMPORT YOUR KAGGLE DATA SOURCES,\n",
        "# THEN FEEL FREE TO DELETE THIS CELL.\n",
        "# NOTE: THIS NOTEBOOK ENVIRONMENT DIFFERS FROM KAGGLE'S PYTHON\n",
        "# ENVIRONMENT SO THERE MAY BE MISSING LIBRARIES USED BY YOUR\n",
        "# NOTEBOOK.\n",
        "import kagglehub\n",
        "mohansacharya_graduate_admissions_path = kagglehub.dataset_download('mohansacharya/graduate-admissions')\n",
        "\n",
        "print('Data source import complete.')\n"
      ],
      "metadata": {
        "id": "yvaSqcou0Lcf"
      },
      "cell_type": "code",
      "outputs": [],
      "execution_count": null
    },
    {
      "cell_type": "code",
      "source": [
        "# This Python 3 environment comes with many helpful analytics libraries installed\n",
        "# It is defined by the kaggle/python Docker image: https://github.com/kaggle/docker-python\n",
        "# For example, here's several helpful packages to load\n",
        "\n",
        "import numpy as np # linear algebra\n",
        "import pandas as pd # data processing, CSV file I/O (e.g. pd.read_csv)\n",
        "\n",
        "# Input data files are available in the read-only \"../input/\" directory\n",
        "# For example, running this (by clicking run or pressing Shift+Enter) will list all files under the input directory\n",
        "\n",
        "import os\n",
        "for dirname, _, filenames in os.walk('/kaggle/input'):\n",
        "    for filename in filenames:\n",
        "        print(os.path.join(dirname, filename))\n",
        "\n",
        "# You can write up to 20GB to the current directory (/kaggle/working/) that gets preserved as output when you create a version using \"Save & Run All\"\n",
        "# You can also write temporary files to /kaggle/temp/, but they won't be saved outside of the current session"
      ],
      "metadata": {
        "_uuid": "8f2839f25d086af736a60e9eeb907d3b93b6e0e5",
        "_cell_guid": "b1076dfc-b9ad-4769-8c92-a6c4dae69d19",
        "trusted": true,
        "execution": {
          "iopub.status.busy": "2025-08-10T16:28:03.141413Z",
          "iopub.execute_input": "2025-08-10T16:28:03.141773Z",
          "iopub.status.idle": "2025-08-10T16:28:03.150707Z",
          "shell.execute_reply.started": "2025-08-10T16:28:03.14175Z",
          "shell.execute_reply": "2025-08-10T16:28:03.149853Z"
        },
        "id": "IlgoL6Aa0Lcj",
        "outputId": "2768b6cb-333a-487e-bb74-74fef063b152"
      },
      "outputs": [
        {
          "name": "stdout",
          "text": "/kaggle/input/graduate-admissions/Admission_Predict.csv\n/kaggle/input/graduate-admissions/Admission_Predict_Ver1.1.csv\n",
          "output_type": "stream"
        }
      ],
      "execution_count": null
    },
    {
      "cell_type": "code",
      "source": [
        "df = pd.read_csv('/kaggle/input/graduate-admissions/Admission_Predict_Ver1.1.csv')\n",
        "df.head()"
      ],
      "metadata": {
        "trusted": true,
        "execution": {
          "iopub.status.busy": "2025-08-10T16:28:03.320207Z",
          "iopub.execute_input": "2025-08-10T16:28:03.320526Z",
          "iopub.status.idle": "2025-08-10T16:28:03.33725Z",
          "shell.execute_reply.started": "2025-08-10T16:28:03.320502Z",
          "shell.execute_reply": "2025-08-10T16:28:03.336361Z"
        },
        "id": "u-tXbO_z0Lck",
        "outputId": "fc676eb5-214f-4014-823f-1659f5ce91fc"
      },
      "outputs": [
        {
          "execution_count": 24,
          "output_type": "execute_result",
          "data": {
            "text/plain": "   Serial No.  GRE Score  TOEFL Score  University Rating  SOP  LOR   CGPA  \\\n0           1        337          118                  4  4.5   4.5  9.65   \n1           2        324          107                  4  4.0   4.5  8.87   \n2           3        316          104                  3  3.0   3.5  8.00   \n3           4        322          110                  3  3.5   2.5  8.67   \n4           5        314          103                  2  2.0   3.0  8.21   \n\n   Research  Chance of Admit   \n0         1              0.92  \n1         1              0.76  \n2         1              0.72  \n3         1              0.80  \n4         0              0.65  ",
            "text/html": "<div>\n<style scoped>\n    .dataframe tbody tr th:only-of-type {\n        vertical-align: middle;\n    }\n\n    .dataframe tbody tr th {\n        vertical-align: top;\n    }\n\n    .dataframe thead th {\n        text-align: right;\n    }\n</style>\n<table border=\"1\" class=\"dataframe\">\n  <thead>\n    <tr style=\"text-align: right;\">\n      <th></th>\n      <th>Serial No.</th>\n      <th>GRE Score</th>\n      <th>TOEFL Score</th>\n      <th>University Rating</th>\n      <th>SOP</th>\n      <th>LOR</th>\n      <th>CGPA</th>\n      <th>Research</th>\n      <th>Chance of Admit</th>\n    </tr>\n  </thead>\n  <tbody>\n    <tr>\n      <th>0</th>\n      <td>1</td>\n      <td>337</td>\n      <td>118</td>\n      <td>4</td>\n      <td>4.5</td>\n      <td>4.5</td>\n      <td>9.65</td>\n      <td>1</td>\n      <td>0.92</td>\n    </tr>\n    <tr>\n      <th>1</th>\n      <td>2</td>\n      <td>324</td>\n      <td>107</td>\n      <td>4</td>\n      <td>4.0</td>\n      <td>4.5</td>\n      <td>8.87</td>\n      <td>1</td>\n      <td>0.76</td>\n    </tr>\n    <tr>\n      <th>2</th>\n      <td>3</td>\n      <td>316</td>\n      <td>104</td>\n      <td>3</td>\n      <td>3.0</td>\n      <td>3.5</td>\n      <td>8.00</td>\n      <td>1</td>\n      <td>0.72</td>\n    </tr>\n    <tr>\n      <th>3</th>\n      <td>4</td>\n      <td>322</td>\n      <td>110</td>\n      <td>3</td>\n      <td>3.5</td>\n      <td>2.5</td>\n      <td>8.67</td>\n      <td>1</td>\n      <td>0.80</td>\n    </tr>\n    <tr>\n      <th>4</th>\n      <td>5</td>\n      <td>314</td>\n      <td>103</td>\n      <td>2</td>\n      <td>2.0</td>\n      <td>3.0</td>\n      <td>8.21</td>\n      <td>0</td>\n      <td>0.65</td>\n    </tr>\n  </tbody>\n</table>\n</div>"
          },
          "metadata": {}
        }
      ],
      "execution_count": null
    },
    {
      "cell_type": "code",
      "source": [
        "df.drop(columns=['Serial No.', 'University Rating'], inplace=True)"
      ],
      "metadata": {
        "trusted": true,
        "execution": {
          "iopub.status.busy": "2025-08-10T16:28:03.470015Z",
          "iopub.execute_input": "2025-08-10T16:28:03.470928Z",
          "iopub.status.idle": "2025-08-10T16:28:03.477746Z",
          "shell.execute_reply.started": "2025-08-10T16:28:03.470893Z",
          "shell.execute_reply": "2025-08-10T16:28:03.476Z"
        },
        "id": "OPfBulxr0Lck"
      },
      "outputs": [],
      "execution_count": null
    },
    {
      "cell_type": "code",
      "source": [
        "df.shape"
      ],
      "metadata": {
        "trusted": true,
        "execution": {
          "iopub.status.busy": "2025-08-10T16:28:03.653728Z",
          "iopub.execute_input": "2025-08-10T16:28:03.654026Z",
          "iopub.status.idle": "2025-08-10T16:28:03.660047Z",
          "shell.execute_reply.started": "2025-08-10T16:28:03.654006Z",
          "shell.execute_reply": "2025-08-10T16:28:03.659098Z"
        },
        "id": "uJ7-CPpS0Lck",
        "outputId": "333927c7-9362-4eb2-8640-7b563d2c4215"
      },
      "outputs": [
        {
          "execution_count": 26,
          "output_type": "execute_result",
          "data": {
            "text/plain": "(500, 7)"
          },
          "metadata": {}
        }
      ],
      "execution_count": null
    },
    {
      "cell_type": "code",
      "source": [
        "df.isnull().sum()"
      ],
      "metadata": {
        "trusted": true,
        "execution": {
          "iopub.status.busy": "2025-08-10T16:28:03.805939Z",
          "iopub.execute_input": "2025-08-10T16:28:03.806216Z",
          "iopub.status.idle": "2025-08-10T16:28:03.814049Z",
          "shell.execute_reply.started": "2025-08-10T16:28:03.806196Z",
          "shell.execute_reply": "2025-08-10T16:28:03.813054Z"
        },
        "id": "UFCAffkn0Lcl",
        "outputId": "0842f4de-0494-4f7a-cc7c-40f6cf92ed88"
      },
      "outputs": [
        {
          "execution_count": 27,
          "output_type": "execute_result",
          "data": {
            "text/plain": "GRE Score           0\nTOEFL Score         0\nSOP                 0\nLOR                 0\nCGPA                0\nResearch            0\nChance of Admit     0\ndtype: int64"
          },
          "metadata": {}
        }
      ],
      "execution_count": null
    },
    {
      "cell_type": "code",
      "source": [
        "df.info()"
      ],
      "metadata": {
        "trusted": true,
        "execution": {
          "iopub.status.busy": "2025-08-10T16:28:03.961011Z",
          "iopub.execute_input": "2025-08-10T16:28:03.961291Z",
          "iopub.status.idle": "2025-08-10T16:28:03.971478Z",
          "shell.execute_reply.started": "2025-08-10T16:28:03.961264Z",
          "shell.execute_reply": "2025-08-10T16:28:03.970619Z"
        },
        "id": "xp60tD_I0Lcl",
        "outputId": "e9d8ccdb-5752-40ee-fd62-f29028e026ad"
      },
      "outputs": [
        {
          "name": "stdout",
          "text": "<class 'pandas.core.frame.DataFrame'>\nRangeIndex: 500 entries, 0 to 499\nData columns (total 7 columns):\n #   Column            Non-Null Count  Dtype  \n---  ------            --------------  -----  \n 0   GRE Score         500 non-null    int64  \n 1   TOEFL Score       500 non-null    int64  \n 2   SOP               500 non-null    float64\n 3   LOR               500 non-null    float64\n 4   CGPA              500 non-null    float64\n 5   Research          500 non-null    int64  \n 6   Chance of Admit   500 non-null    float64\ndtypes: float64(4), int64(3)\nmemory usage: 27.5 KB\n",
          "output_type": "stream"
        }
      ],
      "execution_count": null
    },
    {
      "cell_type": "code",
      "source": [
        "X = df.iloc[:, 0:-1]\n",
        "y = df.iloc[:, -1]"
      ],
      "metadata": {
        "trusted": true,
        "execution": {
          "iopub.status.busy": "2025-08-10T16:28:04.119029Z",
          "iopub.execute_input": "2025-08-10T16:28:04.119713Z",
          "iopub.status.idle": "2025-08-10T16:28:04.124402Z",
          "shell.execute_reply.started": "2025-08-10T16:28:04.119684Z",
          "shell.execute_reply": "2025-08-10T16:28:04.123651Z"
        },
        "id": "bZvW81IG0Lcl"
      },
      "outputs": [],
      "execution_count": null
    },
    {
      "cell_type": "code",
      "source": [
        "X"
      ],
      "metadata": {
        "trusted": true,
        "execution": {
          "iopub.status.busy": "2025-08-10T16:28:04.265563Z",
          "iopub.execute_input": "2025-08-10T16:28:04.265842Z",
          "iopub.status.idle": "2025-08-10T16:28:04.277911Z",
          "shell.execute_reply.started": "2025-08-10T16:28:04.265823Z",
          "shell.execute_reply": "2025-08-10T16:28:04.277138Z"
        },
        "id": "0mjROoSp0Lcm",
        "outputId": "33142803-14f2-44f8-d294-0646e159a34e"
      },
      "outputs": [
        {
          "execution_count": 30,
          "output_type": "execute_result",
          "data": {
            "text/plain": "     GRE Score  TOEFL Score  SOP  LOR   CGPA  Research\n0          337          118  4.5   4.5  9.65         1\n1          324          107  4.0   4.5  8.87         1\n2          316          104  3.0   3.5  8.00         1\n3          322          110  3.5   2.5  8.67         1\n4          314          103  2.0   3.0  8.21         0\n..         ...          ...  ...   ...   ...       ...\n495        332          108  4.5   4.0  9.02         1\n496        337          117  5.0   5.0  9.87         1\n497        330          120  4.5   5.0  9.56         1\n498        312          103  4.0   5.0  8.43         0\n499        327          113  4.5   4.5  9.04         0\n\n[500 rows x 6 columns]",
            "text/html": "<div>\n<style scoped>\n    .dataframe tbody tr th:only-of-type {\n        vertical-align: middle;\n    }\n\n    .dataframe tbody tr th {\n        vertical-align: top;\n    }\n\n    .dataframe thead th {\n        text-align: right;\n    }\n</style>\n<table border=\"1\" class=\"dataframe\">\n  <thead>\n    <tr style=\"text-align: right;\">\n      <th></th>\n      <th>GRE Score</th>\n      <th>TOEFL Score</th>\n      <th>SOP</th>\n      <th>LOR</th>\n      <th>CGPA</th>\n      <th>Research</th>\n    </tr>\n  </thead>\n  <tbody>\n    <tr>\n      <th>0</th>\n      <td>337</td>\n      <td>118</td>\n      <td>4.5</td>\n      <td>4.5</td>\n      <td>9.65</td>\n      <td>1</td>\n    </tr>\n    <tr>\n      <th>1</th>\n      <td>324</td>\n      <td>107</td>\n      <td>4.0</td>\n      <td>4.5</td>\n      <td>8.87</td>\n      <td>1</td>\n    </tr>\n    <tr>\n      <th>2</th>\n      <td>316</td>\n      <td>104</td>\n      <td>3.0</td>\n      <td>3.5</td>\n      <td>8.00</td>\n      <td>1</td>\n    </tr>\n    <tr>\n      <th>3</th>\n      <td>322</td>\n      <td>110</td>\n      <td>3.5</td>\n      <td>2.5</td>\n      <td>8.67</td>\n      <td>1</td>\n    </tr>\n    <tr>\n      <th>4</th>\n      <td>314</td>\n      <td>103</td>\n      <td>2.0</td>\n      <td>3.0</td>\n      <td>8.21</td>\n      <td>0</td>\n    </tr>\n    <tr>\n      <th>...</th>\n      <td>...</td>\n      <td>...</td>\n      <td>...</td>\n      <td>...</td>\n      <td>...</td>\n      <td>...</td>\n    </tr>\n    <tr>\n      <th>495</th>\n      <td>332</td>\n      <td>108</td>\n      <td>4.5</td>\n      <td>4.0</td>\n      <td>9.02</td>\n      <td>1</td>\n    </tr>\n    <tr>\n      <th>496</th>\n      <td>337</td>\n      <td>117</td>\n      <td>5.0</td>\n      <td>5.0</td>\n      <td>9.87</td>\n      <td>1</td>\n    </tr>\n    <tr>\n      <th>497</th>\n      <td>330</td>\n      <td>120</td>\n      <td>4.5</td>\n      <td>5.0</td>\n      <td>9.56</td>\n      <td>1</td>\n    </tr>\n    <tr>\n      <th>498</th>\n      <td>312</td>\n      <td>103</td>\n      <td>4.0</td>\n      <td>5.0</td>\n      <td>8.43</td>\n      <td>0</td>\n    </tr>\n    <tr>\n      <th>499</th>\n      <td>327</td>\n      <td>113</td>\n      <td>4.5</td>\n      <td>4.5</td>\n      <td>9.04</td>\n      <td>0</td>\n    </tr>\n  </tbody>\n</table>\n<p>500 rows × 6 columns</p>\n</div>"
          },
          "metadata": {}
        }
      ],
      "execution_count": null
    },
    {
      "cell_type": "code",
      "source": [
        "y"
      ],
      "metadata": {
        "trusted": true,
        "execution": {
          "iopub.status.busy": "2025-08-10T16:28:04.431594Z",
          "iopub.execute_input": "2025-08-10T16:28:04.432606Z",
          "iopub.status.idle": "2025-08-10T16:28:04.439346Z",
          "shell.execute_reply.started": "2025-08-10T16:28:04.432575Z",
          "shell.execute_reply": "2025-08-10T16:28:04.4386Z"
        },
        "id": "W9pC6hW80Lcm",
        "outputId": "cef498c5-f173-4642-cbd3-9c904f45253f"
      },
      "outputs": [
        {
          "execution_count": 31,
          "output_type": "execute_result",
          "data": {
            "text/plain": "0      0.92\n1      0.76\n2      0.72\n3      0.80\n4      0.65\n       ... \n495    0.87\n496    0.96\n497    0.93\n498    0.73\n499    0.84\nName: Chance of Admit , Length: 500, dtype: float64"
          },
          "metadata": {}
        }
      ],
      "execution_count": null
    },
    {
      "cell_type": "code",
      "source": [
        "from sklearn.model_selection import train_test_split\n",
        "X_train, X_test, y_train, y_test = train_test_split(X, y, test_size=0.2, random_state=1)"
      ],
      "metadata": {
        "trusted": true,
        "execution": {
          "iopub.status.busy": "2025-08-10T16:28:04.59545Z",
          "iopub.execute_input": "2025-08-10T16:28:04.595803Z",
          "iopub.status.idle": "2025-08-10T16:28:04.603526Z",
          "shell.execute_reply.started": "2025-08-10T16:28:04.595779Z",
          "shell.execute_reply": "2025-08-10T16:28:04.602547Z"
        },
        "id": "DiqZIQDd0Lcm"
      },
      "outputs": [],
      "execution_count": null
    },
    {
      "cell_type": "code",
      "source": [
        "X_train.shape"
      ],
      "metadata": {
        "trusted": true,
        "execution": {
          "iopub.status.busy": "2025-08-10T16:28:04.738094Z",
          "iopub.execute_input": "2025-08-10T16:28:04.738933Z",
          "iopub.status.idle": "2025-08-10T16:28:04.74433Z",
          "shell.execute_reply.started": "2025-08-10T16:28:04.738903Z",
          "shell.execute_reply": "2025-08-10T16:28:04.743539Z"
        },
        "id": "5i26ahrC0Lcm",
        "outputId": "2bb5f9d6-1619-44db-95bb-3f2d561cdf42"
      },
      "outputs": [
        {
          "execution_count": 33,
          "output_type": "execute_result",
          "data": {
            "text/plain": "(400, 6)"
          },
          "metadata": {}
        }
      ],
      "execution_count": null
    },
    {
      "cell_type": "code",
      "source": [
        "# here we used MinMaxScaler because upper and lower boundaries are well known from the domain knowledge\n",
        "\n",
        "from sklearn.preprocessing import MinMaxScaler\n",
        "scaler = MinMaxScaler()\n",
        "\n",
        "X_train_scaled = scaler.fit_transform(X_train)\n",
        "X_test_scaled = scaler.transform(X_test)"
      ],
      "metadata": {
        "trusted": true,
        "execution": {
          "iopub.status.busy": "2025-08-10T16:28:07.293375Z",
          "iopub.execute_input": "2025-08-10T16:28:07.2937Z",
          "iopub.status.idle": "2025-08-10T16:28:07.303944Z",
          "shell.execute_reply.started": "2025-08-10T16:28:07.293677Z",
          "shell.execute_reply": "2025-08-10T16:28:07.3032Z"
        },
        "id": "ZWGl-MeN0Lcm"
      },
      "outputs": [],
      "execution_count": null
    },
    {
      "cell_type": "code",
      "source": [
        "X_test_scaled"
      ],
      "metadata": {
        "trusted": true,
        "execution": {
          "iopub.status.busy": "2025-08-10T16:28:07.485598Z",
          "iopub.execute_input": "2025-08-10T16:28:07.486225Z",
          "iopub.status.idle": "2025-08-10T16:28:07.495795Z",
          "shell.execute_reply.started": "2025-08-10T16:28:07.486197Z",
          "shell.execute_reply": "2025-08-10T16:28:07.494593Z"
        },
        "id": "uoztIHKR0Lcm",
        "outputId": "783e78aa-2971-493d-ced0-9399c1de480f"
      },
      "outputs": [
        {
          "execution_count": 35,
          "output_type": "execute_result",
          "data": {
            "text/plain": "array([[ 0.46      ,  0.5       ,  0.375     ,  0.14285714,  0.5224359 ,\n         0.        ],\n       [ 0.44      ,  0.53571429,  0.5       ,  0.42857143,  0.53205128,\n         1.        ],\n       [ 0.98      ,  0.96428571,  0.875     ,  0.71428571,  0.92948718,\n         0.        ],\n       [ 0.52      ,  0.53571429,  0.625     ,  0.57142857,  0.58974359,\n         1.        ],\n       [ 0.7       ,  0.64285714,  0.875     ,  0.71428571,  0.69230769,\n         1.        ],\n       [ 0.42      ,  0.32142857,  0.375     ,  0.57142857,  0.49358974,\n         1.        ],\n       [ 0.6       ,  0.42857143,  0.5       ,  0.57142857,  0.62179487,\n         1.        ],\n       [ 0.74      ,  0.39285714,  0.75      ,  0.71428571,  0.48076923,\n         1.        ],\n       [ 0.62      ,  0.67857143,  0.625     ,  0.71428571,  0.65064103,\n         1.        ],\n       [ 0.56      ,  0.5       ,  0.75      ,  0.71428571,  0.35897436,\n         1.        ],\n       [ 0.48      ,  0.53571429,  0.375     ,  0.71428571,  0.47115385,\n         0.        ],\n       [ 0.06      ,  0.17857143,  0.25      ,  0.71428571,  0.32051282,\n         1.        ],\n       [ 0.74      ,  0.42857143,  0.5       ,  0.57142857,  0.65384615,\n         1.        ],\n       [ 0.74      ,  0.78571429,  0.5       ,  0.42857143,  0.71153846,\n         0.        ],\n       [ 0.62      ,  0.60714286,  0.625     ,  0.57142857,  0.64102564,\n         1.        ],\n       [ 0.68      ,  0.71428571,  1.        ,  1.        ,  0.73076923,\n         1.        ],\n       [ 0.32      ,  0.39285714,  0.625     ,  0.42857143,  0.45192308,\n         0.        ],\n       [ 0.46      ,  0.60714286,  0.75      ,  0.57142857,  0.70512821,\n         0.        ],\n       [ 0.82      ,  0.82142857,  0.75      ,  0.57142857,  0.84615385,\n         1.        ],\n       [ 0.5       ,  0.46428571,  0.25      ,  0.28571429,  0.53846154,\n         0.        ],\n       [ 0.44      ,  0.21428571,  0.625     ,  0.42857143,  0.44230769,\n         1.        ],\n       [ 0.42      ,  0.53571429,  0.875     ,  0.85714286,  0.70512821,\n         1.        ],\n       [ 0.76      ,  0.57142857,  0.875     ,  0.71428571,  0.76282051,\n         1.        ],\n       [ 0.16      ,  0.32142857,  0.375     ,  0.85714286,  0.28525641,\n         1.        ],\n       [ 0.7       ,  0.71428571,  0.625     ,  0.57142857,  0.67948718,\n         0.        ],\n       [ 0.5       ,  0.46428571,  0.25      ,  0.28571429,  0.2724359 ,\n         0.        ],\n       [ 0.82      ,  0.71428571,  0.75      ,  1.        ,  0.96153846,\n         1.        ],\n       [ 0.36      ,  0.5       ,  0.5       ,  0.42857143,  0.46153846,\n         0.        ],\n       [ 0.66      ,  0.75      ,  0.75      ,  0.85714286,  0.77884615,\n         1.        ],\n       [ 0.5       ,  0.64285714,  0.625     ,  0.42857143,  0.53205128,\n         1.        ],\n       [ 0.34      ,  0.35714286,  0.5       ,  0.42857143,  0.47115385,\n         0.        ],\n       [ 0.66      ,  0.64285714,  0.75      ,  0.57142857,  0.73717949,\n         1.        ],\n       [ 0.28      ,  0.28571429,  0.375     ,  0.57142857,  0.40705128,\n         0.        ],\n       [ 0.82      ,  0.85714286,  0.875     ,  0.85714286,  0.84615385,\n         1.        ],\n       [ 0.52      ,  0.21428571,  0.125     ,  0.14285714,  0.20192308,\n         0.        ],\n       [ 0.72      ,  0.71428571,  0.625     ,  0.42857143,  0.73717949,\n         1.        ],\n       [ 0.6       ,  0.32142857,  0.375     ,  0.42857143,  0.58333333,\n         0.        ],\n       [ 0.48      ,  0.39285714,  0.25      ,  0.42857143,  0.45192308,\n         0.        ],\n       [ 0.5       ,  0.46428571,  0.5       ,  0.42857143,  0.49358974,\n         0.        ],\n       [ 0.88      ,  0.85714286,  0.75      ,  0.57142857,  0.87820513,\n         1.        ],\n       [ 0.18      ,  0.28571429,  0.25      ,  0.14285714,  0.39102564,\n         0.        ],\n       [ 0.42      ,  0.42857143,  0.75      ,  0.57142857,  0.42628205,\n         1.        ],\n       [ 0.56      ,  0.32142857,  0.625     ,  1.        ,  0.63461538,\n         1.        ],\n       [ 0.86      ,  0.96428571,  1.        ,  0.85714286,  0.95512821,\n         1.        ],\n       [ 0.74      ,  0.75      ,  0.625     ,  0.42857143,  0.59615385,\n         1.        ],\n       [ 0.14      ,  0.14285714,  0.375     ,  0.        ,  0.34935897,\n         0.        ],\n       [ 0.54      ,  0.28571429,  0.5       ,  0.28571429,  0.56730769,\n         0.        ],\n       [ 0.5       ,  0.42857143,  0.75      ,  0.28571429,  0.41666667,\n         0.        ],\n       [ 0.64      ,  0.39285714,  0.5       ,  0.28571429,  0.39102564,\n         1.        ],\n       [ 0.48      ,  0.5       ,  0.75      ,  0.57142857,  0.46474359,\n         0.        ],\n       [ 0.78      ,  0.67857143,  0.875     ,  0.71428571,  0.70833333,\n         1.        ],\n       [ 0.82      ,  0.89285714,  0.875     ,  1.        ,  0.83974359,\n         1.        ],\n       [ 0.8       ,  0.82142857,  0.875     ,  0.42857143,  0.81410256,\n         1.        ],\n       [ 0.36      ,  0.35714286,  0.25      ,  0.57142857,  0.37820513,\n         1.        ],\n       [ 0.5       ,  0.32142857,  0.625     ,  0.85714286,  0.74679487,\n         0.        ],\n       [ 0.28      ,  0.46428571,  0.5       ,  0.42857143,  0.44871795,\n         1.        ],\n       [ 0.44      ,  0.53571429,  0.875     ,  0.71428571,  0.59294872,\n         1.        ],\n       [ 0.38      ,  0.5       ,  0.375     ,  0.28571429,  0.38461538,\n         0.        ],\n       [ 0.58      ,  0.5       ,  0.75      ,  0.42857143,  0.38461538,\n         1.        ],\n       [ 0.56      ,  0.53571429,  0.5       ,  0.57142857,  0.47115385,\n         1.        ],\n       [ 0.18      ,  0.07142857,  0.        , -0.14285714,  0.17307692,\n         0.        ],\n       [ 0.58      ,  0.39285714,  0.875     ,  0.57142857,  0.59615385,\n         0.        ],\n       [ 0.68      ,  0.28571429,  0.75      ,  1.        ,  0.58974359,\n         1.        ],\n       [ 0.8       ,  0.78571429,  0.875     ,  0.42857143,  0.75961538,\n         1.        ],\n       [ 0.9       ,  0.89285714,  1.        ,  1.        ,  0.96794872,\n         1.        ],\n       [ 0.36      ,  0.42857143,  0.375     ,  0.42857143,  0.40705128,\n         0.        ],\n       [ 0.6       ,  0.57142857,  0.625     ,  0.71428571,  0.52564103,\n         1.        ],\n       [ 0.68      ,  0.53571429,  0.625     ,  0.71428571,  0.59615385,\n         1.        ],\n       [ 1.        ,  0.71428571,  1.        ,  0.85714286,  0.91666667,\n         1.        ],\n       [ 0.56      ,  0.60714286,  0.5       ,  0.42857143,  0.54487179,\n         0.        ],\n       [ 0.3       ,  0.35714286,  0.25      ,  0.28571429,  0.44230769,\n         0.        ],\n       [ 0.5       ,  0.42857143,  0.5       ,  0.28571429,  0.49038462,\n         0.        ],\n       [ 0.72      ,  0.78571429,  0.5       ,  0.42857143,  0.74038462,\n         1.        ],\n       [ 0.4       ,  0.25      ,  0.125     ,  0.14285714,  0.16025641,\n         0.        ],\n       [ 0.96      ,  0.89285714,  0.625     ,  0.85714286,  0.8525641 ,\n         1.        ],\n       [ 0.28      ,  0.53571429,  0.625     ,  0.42857143,  0.33974359,\n         0.        ],\n       [ 0.84      ,  0.57142857,  0.875     ,  0.71428571,  0.71153846,\n         1.        ],\n       [ 0.66      ,  0.67857143,  0.75      ,  1.        ,  0.98076923,\n         1.        ],\n       [ 0.6       ,  0.42857143,  0.5       ,  0.28571429,  0.56730769,\n         1.        ],\n       [ 0.48      ,  0.60714286,  0.625     ,  0.71428571,  0.63141026,\n         1.        ],\n       [ 0.74      ,  0.57142857,  1.        ,  0.57142857,  0.74679487,\n         1.        ],\n       [ 0.        ,  0.42857143,  0.25      ,  0.28571429,  0.21153846,\n         0.        ],\n       [ 0.9       ,  0.92857143,  0.875     ,  0.57142857,  0.84615385,\n         1.        ],\n       [ 0.74      ,  0.5       ,  0.75      ,  0.85714286,  0.625     ,\n         1.        ],\n       [ 0.64      ,  0.64285714,  0.875     ,  0.71428571,  0.69551282,\n         0.        ],\n       [ 0.36      ,  0.60714286,  0.5       ,  0.71428571,  0.52884615,\n         0.        ],\n       [ 0.68      ,  0.75      ,  0.75      ,  1.        ,  0.78525641,\n         1.        ],\n       [ 0.82      ,  0.85714286,  0.75      ,  0.71428571,  0.78846154,\n         1.        ],\n       [ 0.14      ,  0.25      ,  0.5       ,  0.57142857,  0.32371795,\n         0.        ],\n       [ 0.28      ,  0.42857143,  0.375     ,  0.14285714,  0.42307692,\n         0.        ],\n       [ 0.38      ,  0.46428571,  0.625     ,  0.14285714,  0.44230769,\n         0.        ],\n       [ 0.62      ,  0.35714286,  0.625     ,  0.71428571,  0.70833333,\n         1.        ],\n       [ 0.52      ,  0.39285714,  0.625     ,  0.14285714,  0.28205128,\n         0.        ],\n       [ 0.62      ,  0.60714286,  0.5       ,  0.71428571,  0.44871795,\n         1.        ],\n       [ 0.64      ,  0.71428571,  0.625     ,  0.28571429,  0.71153846,\n         1.        ],\n       [ 0.74      ,  0.67857143,  0.75      ,  0.85714286,  0.70512821,\n         1.        ],\n       [ 0.64      ,  0.78571429,  0.875     ,  0.71428571,  0.68589744,\n         1.        ],\n       [ 0.16      ,  0.21428571,  0.75      ,  0.42857143,  0.39423077,\n         0.        ],\n       [ 0.52      ,  0.64285714,  0.625     ,  0.71428571,  0.56410256,\n         0.        ],\n       [ 0.3       ,  0.57142857,  0.5       ,  0.42857143,  0.53846154,\n         0.        ]])"
          },
          "metadata": {}
        }
      ],
      "execution_count": null
    },
    {
      "cell_type": "code",
      "source": [
        "import tensorflow\n",
        "from tensorflow import keras\n",
        "from tensorflow.keras import Sequential\n",
        "from tensorflow.keras.layers import Dense"
      ],
      "metadata": {
        "trusted": true,
        "execution": {
          "iopub.status.busy": "2025-08-10T16:28:07.667018Z",
          "iopub.execute_input": "2025-08-10T16:28:07.667376Z",
          "iopub.status.idle": "2025-08-10T16:28:07.672149Z",
          "shell.execute_reply.started": "2025-08-10T16:28:07.667347Z",
          "shell.execute_reply": "2025-08-10T16:28:07.671278Z"
        },
        "id": "QiiIpQWr0Lcm"
      },
      "outputs": [],
      "execution_count": null
    },
    {
      "cell_type": "code",
      "source": [
        "model = Sequential()\n",
        "\n",
        "model.add(Dense(6, activation='relu', input_dim=6))\n",
        "model.add(Dense(3, activation='relu'))\n",
        "model.add(Dense(1, activation='linear'))"
      ],
      "metadata": {
        "trusted": true,
        "execution": {
          "iopub.status.busy": "2025-08-10T16:28:07.82388Z",
          "iopub.execute_input": "2025-08-10T16:28:07.824171Z",
          "iopub.status.idle": "2025-08-10T16:28:07.862508Z",
          "shell.execute_reply.started": "2025-08-10T16:28:07.824148Z",
          "shell.execute_reply": "2025-08-10T16:28:07.861359Z"
        },
        "id": "G3ciy_qD0Lcm",
        "outputId": "9e18d3fc-b1ef-44cb-c17c-3ecf76bb0e4f"
      },
      "outputs": [
        {
          "name": "stderr",
          "text": "/usr/local/lib/python3.11/dist-packages/keras/src/layers/core/dense.py:87: UserWarning: Do not pass an `input_shape`/`input_dim` argument to a layer. When using Sequential models, prefer using an `Input(shape)` object as the first layer in the model instead.\n  super().__init__(activity_regularizer=activity_regularizer, **kwargs)\n",
          "output_type": "stream"
        }
      ],
      "execution_count": null
    },
    {
      "cell_type": "code",
      "source": [
        "model.summary()"
      ],
      "metadata": {
        "trusted": true,
        "execution": {
          "iopub.status.busy": "2025-08-10T16:28:07.975042Z",
          "iopub.execute_input": "2025-08-10T16:28:07.975311Z",
          "iopub.status.idle": "2025-08-10T16:28:07.99164Z",
          "shell.execute_reply.started": "2025-08-10T16:28:07.975289Z",
          "shell.execute_reply": "2025-08-10T16:28:07.990804Z"
        },
        "id": "TNhaqg3o0Lcn",
        "outputId": "c900d212-3303-4797-e273-859a0e3e0f9a"
      },
      "outputs": [
        {
          "output_type": "display_data",
          "data": {
            "text/plain": "\u001b[1mModel: \"sequential_1\"\u001b[0m\n",
            "text/html": "<pre style=\"white-space:pre;overflow-x:auto;line-height:normal;font-family:Menlo,'DejaVu Sans Mono',consolas,'Courier New',monospace\"><span style=\"font-weight: bold\">Model: \"sequential_1\"</span>\n</pre>\n"
          },
          "metadata": {}
        },
        {
          "output_type": "display_data",
          "data": {
            "text/plain": "┏━━━━━━━━━━━━━━━━━━━━━━━━━━━━━━━━━┳━━━━━━━━━━━━━━━━━━━━━━━━┳━━━━━━━━━━━━━━━┓\n┃\u001b[1m \u001b[0m\u001b[1mLayer (type)                   \u001b[0m\u001b[1m \u001b[0m┃\u001b[1m \u001b[0m\u001b[1mOutput Shape          \u001b[0m\u001b[1m \u001b[0m┃\u001b[1m \u001b[0m\u001b[1m      Param #\u001b[0m\u001b[1m \u001b[0m┃\n┡━━━━━━━━━━━━━━━━━━━━━━━━━━━━━━━━━╇━━━━━━━━━━━━━━━━━━━━━━━━╇━━━━━━━━━━━━━━━┩\n│ dense_3 (\u001b[38;5;33mDense\u001b[0m)                 │ (\u001b[38;5;45mNone\u001b[0m, \u001b[38;5;34m6\u001b[0m)              │            \u001b[38;5;34m42\u001b[0m │\n├─────────────────────────────────┼────────────────────────┼───────────────┤\n│ dense_4 (\u001b[38;5;33mDense\u001b[0m)                 │ (\u001b[38;5;45mNone\u001b[0m, \u001b[38;5;34m3\u001b[0m)              │            \u001b[38;5;34m21\u001b[0m │\n├─────────────────────────────────┼────────────────────────┼───────────────┤\n│ dense_5 (\u001b[38;5;33mDense\u001b[0m)                 │ (\u001b[38;5;45mNone\u001b[0m, \u001b[38;5;34m1\u001b[0m)              │             \u001b[38;5;34m4\u001b[0m │\n└─────────────────────────────────┴────────────────────────┴───────────────┘\n",
            "text/html": "<pre style=\"white-space:pre;overflow-x:auto;line-height:normal;font-family:Menlo,'DejaVu Sans Mono',consolas,'Courier New',monospace\">┏━━━━━━━━━━━━━━━━━━━━━━━━━━━━━━━━━┳━━━━━━━━━━━━━━━━━━━━━━━━┳━━━━━━━━━━━━━━━┓\n┃<span style=\"font-weight: bold\"> Layer (type)                    </span>┃<span style=\"font-weight: bold\"> Output Shape           </span>┃<span style=\"font-weight: bold\">       Param # </span>┃\n┡━━━━━━━━━━━━━━━━━━━━━━━━━━━━━━━━━╇━━━━━━━━━━━━━━━━━━━━━━━━╇━━━━━━━━━━━━━━━┩\n│ dense_3 (<span style=\"color: #0087ff; text-decoration-color: #0087ff\">Dense</span>)                 │ (<span style=\"color: #00d7ff; text-decoration-color: #00d7ff\">None</span>, <span style=\"color: #00af00; text-decoration-color: #00af00\">6</span>)              │            <span style=\"color: #00af00; text-decoration-color: #00af00\">42</span> │\n├─────────────────────────────────┼────────────────────────┼───────────────┤\n│ dense_4 (<span style=\"color: #0087ff; text-decoration-color: #0087ff\">Dense</span>)                 │ (<span style=\"color: #00d7ff; text-decoration-color: #00d7ff\">None</span>, <span style=\"color: #00af00; text-decoration-color: #00af00\">3</span>)              │            <span style=\"color: #00af00; text-decoration-color: #00af00\">21</span> │\n├─────────────────────────────────┼────────────────────────┼───────────────┤\n│ dense_5 (<span style=\"color: #0087ff; text-decoration-color: #0087ff\">Dense</span>)                 │ (<span style=\"color: #00d7ff; text-decoration-color: #00d7ff\">None</span>, <span style=\"color: #00af00; text-decoration-color: #00af00\">1</span>)              │             <span style=\"color: #00af00; text-decoration-color: #00af00\">4</span> │\n└─────────────────────────────────┴────────────────────────┴───────────────┘\n</pre>\n"
          },
          "metadata": {}
        },
        {
          "output_type": "display_data",
          "data": {
            "text/plain": "\u001b[1m Total params: \u001b[0m\u001b[38;5;34m67\u001b[0m (268.00 B)\n",
            "text/html": "<pre style=\"white-space:pre;overflow-x:auto;line-height:normal;font-family:Menlo,'DejaVu Sans Mono',consolas,'Courier New',monospace\"><span style=\"font-weight: bold\"> Total params: </span><span style=\"color: #00af00; text-decoration-color: #00af00\">67</span> (268.00 B)\n</pre>\n"
          },
          "metadata": {}
        },
        {
          "output_type": "display_data",
          "data": {
            "text/plain": "\u001b[1m Trainable params: \u001b[0m\u001b[38;5;34m67\u001b[0m (268.00 B)\n",
            "text/html": "<pre style=\"white-space:pre;overflow-x:auto;line-height:normal;font-family:Menlo,'DejaVu Sans Mono',consolas,'Courier New',monospace\"><span style=\"font-weight: bold\"> Trainable params: </span><span style=\"color: #00af00; text-decoration-color: #00af00\">67</span> (268.00 B)\n</pre>\n"
          },
          "metadata": {}
        },
        {
          "output_type": "display_data",
          "data": {
            "text/plain": "\u001b[1m Non-trainable params: \u001b[0m\u001b[38;5;34m0\u001b[0m (0.00 B)\n",
            "text/html": "<pre style=\"white-space:pre;overflow-x:auto;line-height:normal;font-family:Menlo,'DejaVu Sans Mono',consolas,'Courier New',monospace\"><span style=\"font-weight: bold\"> Non-trainable params: </span><span style=\"color: #00af00; text-decoration-color: #00af00\">0</span> (0.00 B)\n</pre>\n"
          },
          "metadata": {}
        }
      ],
      "execution_count": null
    },
    {
      "cell_type": "code",
      "source": [
        "model.compile(loss='mean_squared_error', optimizer='Adam')"
      ],
      "metadata": {
        "trusted": true,
        "execution": {
          "iopub.status.busy": "2025-08-10T16:28:11.23699Z",
          "iopub.execute_input": "2025-08-10T16:28:11.237294Z",
          "iopub.status.idle": "2025-08-10T16:28:11.246805Z",
          "shell.execute_reply.started": "2025-08-10T16:28:11.237269Z",
          "shell.execute_reply": "2025-08-10T16:28:11.245932Z"
        },
        "id": "o-HYXTny0Lcn"
      },
      "outputs": [],
      "execution_count": null
    },
    {
      "cell_type": "code",
      "source": [
        "history = model.fit(X_train_scaled, y_train, epochs=100, validation_split=0.2)"
      ],
      "metadata": {
        "trusted": true,
        "execution": {
          "iopub.status.busy": "2025-08-10T16:28:11.459624Z",
          "iopub.execute_input": "2025-08-10T16:28:11.460364Z",
          "iopub.status.idle": "2025-08-10T16:28:23.630218Z",
          "shell.execute_reply.started": "2025-08-10T16:28:11.460336Z",
          "shell.execute_reply": "2025-08-10T16:28:23.629448Z"
        },
        "id": "VpmxPCVA0Lcn",
        "outputId": "785a4d08-2441-4ed7-c179-664e1106677d"
      },
      "outputs": [
        {
          "name": "stdout",
          "text": "Epoch 1/100\n\u001b[1m10/10\u001b[0m \u001b[32m━━━━━━━━━━━━━━━━━━━━\u001b[0m\u001b[37m\u001b[0m \u001b[1m2s\u001b[0m 31ms/step - loss: 1.4350 - val_loss: 1.4150\nEpoch 2/100\n\u001b[1m10/10\u001b[0m \u001b[32m━━━━━━━━━━━━━━━━━━━━\u001b[0m\u001b[37m\u001b[0m \u001b[1m0s\u001b[0m 9ms/step - loss: 1.2758 - val_loss: 1.2431\nEpoch 3/100\n\u001b[1m10/10\u001b[0m \u001b[32m━━━━━━━━━━━━━━━━━━━━\u001b[0m\u001b[37m\u001b[0m \u001b[1m0s\u001b[0m 9ms/step - loss: 1.0784 - val_loss: 1.0928\nEpoch 4/100\n\u001b[1m10/10\u001b[0m \u001b[32m━━━━━━━━━━━━━━━━━━━━\u001b[0m\u001b[37m\u001b[0m \u001b[1m0s\u001b[0m 9ms/step - loss: 1.0326 - val_loss: 0.9630\nEpoch 5/100\n\u001b[1m10/10\u001b[0m \u001b[32m━━━━━━━━━━━━━━━━━━━━\u001b[0m\u001b[37m\u001b[0m \u001b[1m0s\u001b[0m 9ms/step - loss: 0.8230 - val_loss: 0.8407\nEpoch 6/100\n\u001b[1m10/10\u001b[0m \u001b[32m━━━━━━━━━━━━━━━━━━━━\u001b[0m\u001b[37m\u001b[0m \u001b[1m0s\u001b[0m 9ms/step - loss: 0.7333 - val_loss: 0.7064\nEpoch 7/100\n\u001b[1m10/10\u001b[0m \u001b[32m━━━━━━━━━━━━━━━━━━━━\u001b[0m\u001b[37m\u001b[0m \u001b[1m0s\u001b[0m 9ms/step - loss: 0.6110 - val_loss: 0.5731\nEpoch 8/100\n\u001b[1m10/10\u001b[0m \u001b[32m━━━━━━━━━━━━━━━━━━━━\u001b[0m\u001b[37m\u001b[0m \u001b[1m0s\u001b[0m 9ms/step - loss: 0.5078 - val_loss: 0.4391\nEpoch 9/100\n\u001b[1m10/10\u001b[0m \u001b[32m━━━━━━━━━━━━━━━━━━━━\u001b[0m\u001b[37m\u001b[0m \u001b[1m0s\u001b[0m 9ms/step - loss: 0.3645 - val_loss: 0.3288\nEpoch 10/100\n\u001b[1m10/10\u001b[0m \u001b[32m━━━━━━━━━━━━━━━━━━━━\u001b[0m\u001b[37m\u001b[0m \u001b[1m0s\u001b[0m 9ms/step - loss: 0.2843 - val_loss: 0.2551\nEpoch 11/100\n\u001b[1m10/10\u001b[0m \u001b[32m━━━━━━━━━━━━━━━━━━━━\u001b[0m\u001b[37m\u001b[0m \u001b[1m0s\u001b[0m 9ms/step - loss: 0.2105 - val_loss: 0.2098\nEpoch 12/100\n\u001b[1m10/10\u001b[0m \u001b[32m━━━━━━━━━━━━━━━━━━━━\u001b[0m\u001b[37m\u001b[0m \u001b[1m0s\u001b[0m 9ms/step - loss: 0.1791 - val_loss: 0.1743\nEpoch 13/100\n\u001b[1m10/10\u001b[0m \u001b[32m━━━━━━━━━━━━━━━━━━━━\u001b[0m\u001b[37m\u001b[0m \u001b[1m0s\u001b[0m 9ms/step - loss: 0.1579 - val_loss: 0.1427\nEpoch 14/100\n\u001b[1m10/10\u001b[0m \u001b[32m━━━━━━━━━━━━━━━━━━━━\u001b[0m\u001b[37m\u001b[0m \u001b[1m0s\u001b[0m 9ms/step - loss: 0.1375 - val_loss: 0.1159\nEpoch 15/100\n\u001b[1m10/10\u001b[0m \u001b[32m━━━━━━━━━━━━━━━━━━━━\u001b[0m\u001b[37m\u001b[0m \u001b[1m0s\u001b[0m 9ms/step - loss: 0.1038 - val_loss: 0.0945\nEpoch 16/100\n\u001b[1m10/10\u001b[0m \u001b[32m━━━━━━━━━━━━━━━━━━━━\u001b[0m\u001b[37m\u001b[0m \u001b[1m0s\u001b[0m 8ms/step - loss: 0.0886 - val_loss: 0.0778\nEpoch 17/100\n\u001b[1m10/10\u001b[0m \u001b[32m━━━━━━━━━━━━━━━━━━━━\u001b[0m\u001b[37m\u001b[0m \u001b[1m0s\u001b[0m 9ms/step - loss: 0.0760 - val_loss: 0.0645\nEpoch 18/100\n\u001b[1m10/10\u001b[0m \u001b[32m━━━━━━━━━━━━━━━━━━━━\u001b[0m\u001b[37m\u001b[0m \u001b[1m0s\u001b[0m 9ms/step - loss: 0.0641 - val_loss: 0.0542\nEpoch 19/100\n\u001b[1m10/10\u001b[0m \u001b[32m━━━━━━━━━━━━━━━━━━━━\u001b[0m\u001b[37m\u001b[0m \u001b[1m0s\u001b[0m 9ms/step - loss: 0.0552 - val_loss: 0.0463\nEpoch 20/100\n\u001b[1m10/10\u001b[0m \u001b[32m━━━━━━━━━━━━━━━━━━━━\u001b[0m\u001b[37m\u001b[0m \u001b[1m0s\u001b[0m 9ms/step - loss: 0.0464 - val_loss: 0.0398\nEpoch 21/100\n\u001b[1m10/10\u001b[0m \u001b[32m━━━━━━━━━━━━━━━━━━━━\u001b[0m\u001b[37m\u001b[0m \u001b[1m0s\u001b[0m 9ms/step - loss: 0.0417 - val_loss: 0.0345\nEpoch 22/100\n\u001b[1m10/10\u001b[0m \u001b[32m━━━━━━━━━━━━━━━━━━━━\u001b[0m\u001b[37m\u001b[0m \u001b[1m0s\u001b[0m 9ms/step - loss: 0.0359 - val_loss: 0.0299\nEpoch 23/100\n\u001b[1m10/10\u001b[0m \u001b[32m━━━━━━━━━━━━━━━━━━━━\u001b[0m\u001b[37m\u001b[0m \u001b[1m0s\u001b[0m 9ms/step - loss: 0.0315 - val_loss: 0.0260\nEpoch 24/100\n\u001b[1m10/10\u001b[0m \u001b[32m━━━━━━━━━━━━━━━━━━━━\u001b[0m\u001b[37m\u001b[0m \u001b[1m0s\u001b[0m 9ms/step - loss: 0.0277 - val_loss: 0.0228\nEpoch 25/100\n\u001b[1m10/10\u001b[0m \u001b[32m━━━━━━━━━━━━━━━━━━━━\u001b[0m\u001b[37m\u001b[0m \u001b[1m0s\u001b[0m 9ms/step - loss: 0.0243 - val_loss: 0.0201\nEpoch 26/100\n\u001b[1m10/10\u001b[0m \u001b[32m━━━━━━━━━━━━━━━━━━━━\u001b[0m\u001b[37m\u001b[0m \u001b[1m0s\u001b[0m 9ms/step - loss: 0.0204 - val_loss: 0.0180\nEpoch 27/100\n\u001b[1m10/10\u001b[0m \u001b[32m━━━━━━━━━━━━━━━━━━━━\u001b[0m\u001b[37m\u001b[0m \u001b[1m0s\u001b[0m 9ms/step - loss: 0.0215 - val_loss: 0.0163\nEpoch 28/100\n\u001b[1m10/10\u001b[0m \u001b[32m━━━━━━━━━━━━━━━━━━━━\u001b[0m\u001b[37m\u001b[0m \u001b[1m0s\u001b[0m 9ms/step - loss: 0.0191 - val_loss: 0.0150\nEpoch 29/100\n\u001b[1m10/10\u001b[0m \u001b[32m━━━━━━━━━━━━━━━━━━━━\u001b[0m\u001b[37m\u001b[0m \u001b[1m0s\u001b[0m 9ms/step - loss: 0.0182 - val_loss: 0.0140\nEpoch 30/100\n\u001b[1m10/10\u001b[0m \u001b[32m━━━━━━━━━━━━━━━━━━━━\u001b[0m\u001b[37m\u001b[0m \u001b[1m0s\u001b[0m 9ms/step - loss: 0.0155 - val_loss: 0.0132\nEpoch 31/100\n\u001b[1m10/10\u001b[0m \u001b[32m━━━━━━━━━━━━━━━━━━━━\u001b[0m\u001b[37m\u001b[0m \u001b[1m0s\u001b[0m 9ms/step - loss: 0.0162 - val_loss: 0.0125\nEpoch 32/100\n\u001b[1m10/10\u001b[0m \u001b[32m━━━━━━━━━━━━━━━━━━━━\u001b[0m\u001b[37m\u001b[0m \u001b[1m0s\u001b[0m 9ms/step - loss: 0.0144 - val_loss: 0.0119\nEpoch 33/100\n\u001b[1m10/10\u001b[0m \u001b[32m━━━━━━━━━━━━━━━━━━━━\u001b[0m\u001b[37m\u001b[0m \u001b[1m0s\u001b[0m 9ms/step - loss: 0.0137 - val_loss: 0.0115\nEpoch 34/100\n\u001b[1m10/10\u001b[0m \u001b[32m━━━━━━━━━━━━━━━━━━━━\u001b[0m\u001b[37m\u001b[0m \u001b[1m0s\u001b[0m 9ms/step - loss: 0.0112 - val_loss: 0.0111\nEpoch 35/100\n\u001b[1m10/10\u001b[0m \u001b[32m━━━━━━━━━━━━━━━━━━━━\u001b[0m\u001b[37m\u001b[0m \u001b[1m0s\u001b[0m 9ms/step - loss: 0.0144 - val_loss: 0.0107\nEpoch 36/100\n\u001b[1m10/10\u001b[0m \u001b[32m━━━━━━━━━━━━━━━━━━━━\u001b[0m\u001b[37m\u001b[0m \u001b[1m0s\u001b[0m 9ms/step - loss: 0.0125 - val_loss: 0.0104\nEpoch 37/100\n\u001b[1m10/10\u001b[0m \u001b[32m━━━━━━━━━━━━━━━━━━━━\u001b[0m\u001b[37m\u001b[0m \u001b[1m0s\u001b[0m 9ms/step - loss: 0.0120 - val_loss: 0.0101\nEpoch 38/100\n\u001b[1m10/10\u001b[0m \u001b[32m━━━━━━━━━━━━━━━━━━━━\u001b[0m\u001b[37m\u001b[0m \u001b[1m0s\u001b[0m 9ms/step - loss: 0.0125 - val_loss: 0.0098\nEpoch 39/100\n\u001b[1m10/10\u001b[0m \u001b[32m━━━━━━━━━━━━━━━━━━━━\u001b[0m\u001b[37m\u001b[0m \u001b[1m0s\u001b[0m 9ms/step - loss: 0.0110 - val_loss: 0.0096\nEpoch 40/100\n\u001b[1m10/10\u001b[0m \u001b[32m━━━━━━━━━━━━━━━━━━━━\u001b[0m\u001b[37m\u001b[0m \u001b[1m0s\u001b[0m 9ms/step - loss: 0.0123 - val_loss: 0.0094\nEpoch 41/100\n\u001b[1m10/10\u001b[0m \u001b[32m━━━━━━━━━━━━━━━━━━━━\u001b[0m\u001b[37m\u001b[0m \u001b[1m0s\u001b[0m 9ms/step - loss: 0.0115 - val_loss: 0.0091\nEpoch 42/100\n\u001b[1m10/10\u001b[0m \u001b[32m━━━━━━━━━━━━━━━━━━━━\u001b[0m\u001b[37m\u001b[0m \u001b[1m0s\u001b[0m 9ms/step - loss: 0.0105 - val_loss: 0.0089\nEpoch 43/100\n\u001b[1m10/10\u001b[0m \u001b[32m━━━━━━━━━━━━━━━━━━━━\u001b[0m\u001b[37m\u001b[0m \u001b[1m0s\u001b[0m 9ms/step - loss: 0.0098 - val_loss: 0.0087\nEpoch 44/100\n\u001b[1m10/10\u001b[0m \u001b[32m━━━━━━━━━━━━━━━━━━━━\u001b[0m\u001b[37m\u001b[0m \u001b[1m0s\u001b[0m 9ms/step - loss: 0.0111 - val_loss: 0.0085\nEpoch 45/100\n\u001b[1m10/10\u001b[0m \u001b[32m━━━━━━━━━━━━━━━━━━━━\u001b[0m\u001b[37m\u001b[0m \u001b[1m0s\u001b[0m 9ms/step - loss: 0.0103 - val_loss: 0.0083\nEpoch 46/100\n\u001b[1m10/10\u001b[0m \u001b[32m━━━━━━━━━━━━━━━━━━━━\u001b[0m\u001b[37m\u001b[0m \u001b[1m0s\u001b[0m 9ms/step - loss: 0.0107 - val_loss: 0.0082\nEpoch 47/100\n\u001b[1m10/10\u001b[0m \u001b[32m━━━━━━━━━━━━━━━━━━━━\u001b[0m\u001b[37m\u001b[0m \u001b[1m0s\u001b[0m 9ms/step - loss: 0.0092 - val_loss: 0.0080\nEpoch 48/100\n\u001b[1m10/10\u001b[0m \u001b[32m━━━━━━━━━━━━━━━━━━━━\u001b[0m\u001b[37m\u001b[0m \u001b[1m0s\u001b[0m 9ms/step - loss: 0.0089 - val_loss: 0.0078\nEpoch 49/100\n\u001b[1m10/10\u001b[0m \u001b[32m━━━━━━━━━━━━━━━━━━━━\u001b[0m\u001b[37m\u001b[0m \u001b[1m0s\u001b[0m 9ms/step - loss: 0.0078 - val_loss: 0.0076\nEpoch 50/100\n\u001b[1m10/10\u001b[0m \u001b[32m━━━━━━━━━━━━━━━━━━━━\u001b[0m\u001b[37m\u001b[0m \u001b[1m0s\u001b[0m 9ms/step - loss: 0.0097 - val_loss: 0.0075\nEpoch 51/100\n\u001b[1m10/10\u001b[0m \u001b[32m━━━━━━━━━━━━━━━━━━━━\u001b[0m\u001b[37m\u001b[0m \u001b[1m0s\u001b[0m 10ms/step - loss: 0.0087 - val_loss: 0.0074\nEpoch 52/100\n\u001b[1m10/10\u001b[0m \u001b[32m━━━━━━━━━━━━━━━━━━━━\u001b[0m\u001b[37m\u001b[0m \u001b[1m0s\u001b[0m 10ms/step - loss: 0.0067 - val_loss: 0.0072\nEpoch 53/100\n\u001b[1m10/10\u001b[0m \u001b[32m━━━━━━━━━━━━━━━━━━━━\u001b[0m\u001b[37m\u001b[0m \u001b[1m0s\u001b[0m 10ms/step - loss: 0.0082 - val_loss: 0.0071\nEpoch 54/100\n\u001b[1m10/10\u001b[0m \u001b[32m━━━━━━━━━━━━━━━━━━━━\u001b[0m\u001b[37m\u001b[0m \u001b[1m0s\u001b[0m 9ms/step - loss: 0.0093 - val_loss: 0.0070\nEpoch 55/100\n\u001b[1m10/10\u001b[0m \u001b[32m━━━━━━━━━━━━━━━━━━━━\u001b[0m\u001b[37m\u001b[0m \u001b[1m0s\u001b[0m 10ms/step - loss: 0.0077 - val_loss: 0.0068\nEpoch 56/100\n\u001b[1m10/10\u001b[0m \u001b[32m━━━━━━━━━━━━━━━━━━━━\u001b[0m\u001b[37m\u001b[0m \u001b[1m0s\u001b[0m 10ms/step - loss: 0.0085 - val_loss: 0.0067\nEpoch 57/100\n\u001b[1m10/10\u001b[0m \u001b[32m━━━━━━━━━━━━━━━━━━━━\u001b[0m\u001b[37m\u001b[0m \u001b[1m0s\u001b[0m 10ms/step - loss: 0.0087 - val_loss: 0.0066\nEpoch 58/100\n\u001b[1m10/10\u001b[0m \u001b[32m━━━━━━━━━━━━━━━━━━━━\u001b[0m\u001b[37m\u001b[0m \u001b[1m0s\u001b[0m 9ms/step - loss: 0.0080 - val_loss: 0.0065\nEpoch 59/100\n\u001b[1m10/10\u001b[0m \u001b[32m━━━━━━━━━━━━━━━━━━━━\u001b[0m\u001b[37m\u001b[0m \u001b[1m0s\u001b[0m 8ms/step - loss: 0.0079 - val_loss: 0.0064\nEpoch 60/100\n\u001b[1m10/10\u001b[0m \u001b[32m━━━━━━━━━━━━━━━━━━━━\u001b[0m\u001b[37m\u001b[0m \u001b[1m0s\u001b[0m 9ms/step - loss: 0.0090 - val_loss: 0.0063\nEpoch 61/100\n\u001b[1m10/10\u001b[0m \u001b[32m━━━━━━━━━━━━━━━━━━━━\u001b[0m\u001b[37m\u001b[0m \u001b[1m0s\u001b[0m 9ms/step - loss: 0.0071 - val_loss: 0.0062\nEpoch 62/100\n\u001b[1m10/10\u001b[0m \u001b[32m━━━━━━━━━━━━━━━━━━━━\u001b[0m\u001b[37m\u001b[0m \u001b[1m0s\u001b[0m 9ms/step - loss: 0.0080 - val_loss: 0.0061\nEpoch 63/100\n\u001b[1m10/10\u001b[0m \u001b[32m━━━━━━━━━━━━━━━━━━━━\u001b[0m\u001b[37m\u001b[0m \u001b[1m0s\u001b[0m 9ms/step - loss: 0.0076 - val_loss: 0.0061\nEpoch 64/100\n\u001b[1m10/10\u001b[0m \u001b[32m━━━━━━━━━━━━━━━━━━━━\u001b[0m\u001b[37m\u001b[0m \u001b[1m0s\u001b[0m 9ms/step - loss: 0.0068 - val_loss: 0.0059\nEpoch 65/100\n\u001b[1m10/10\u001b[0m \u001b[32m━━━━━━━━━━━━━━━━━━━━\u001b[0m\u001b[37m\u001b[0m \u001b[1m0s\u001b[0m 9ms/step - loss: 0.0067 - val_loss: 0.0059\nEpoch 66/100\n\u001b[1m10/10\u001b[0m \u001b[32m━━━━━━━━━━━━━━━━━━━━\u001b[0m\u001b[37m\u001b[0m \u001b[1m0s\u001b[0m 8ms/step - loss: 0.0068 - val_loss: 0.0058\nEpoch 67/100\n\u001b[1m10/10\u001b[0m \u001b[32m━━━━━━━━━━━━━━━━━━━━\u001b[0m\u001b[37m\u001b[0m \u001b[1m0s\u001b[0m 9ms/step - loss: 0.0061 - val_loss: 0.0057\nEpoch 68/100\n\u001b[1m10/10\u001b[0m \u001b[32m━━━━━━━━━━━━━━━━━━━━\u001b[0m\u001b[37m\u001b[0m \u001b[1m0s\u001b[0m 9ms/step - loss: 0.0080 - val_loss: 0.0057\nEpoch 69/100\n\u001b[1m10/10\u001b[0m \u001b[32m━━━━━━━━━━━━━━━━━━━━\u001b[0m\u001b[37m\u001b[0m \u001b[1m0s\u001b[0m 9ms/step - loss: 0.0070 - val_loss: 0.0056\nEpoch 70/100\n\u001b[1m10/10\u001b[0m \u001b[32m━━━━━━━━━━━━━━━━━━━━\u001b[0m\u001b[37m\u001b[0m \u001b[1m0s\u001b[0m 9ms/step - loss: 0.0063 - val_loss: 0.0055\nEpoch 71/100\n\u001b[1m10/10\u001b[0m \u001b[32m━━━━━━━━━━━━━━━━━━━━\u001b[0m\u001b[37m\u001b[0m \u001b[1m0s\u001b[0m 9ms/step - loss: 0.0059 - val_loss: 0.0055\nEpoch 72/100\n\u001b[1m10/10\u001b[0m \u001b[32m━━━━━━━━━━━━━━━━━━━━\u001b[0m\u001b[37m\u001b[0m \u001b[1m0s\u001b[0m 8ms/step - loss: 0.0063 - val_loss: 0.0055\nEpoch 73/100\n\u001b[1m10/10\u001b[0m \u001b[32m━━━━━━━━━━━━━━━━━━━━\u001b[0m\u001b[37m\u001b[0m \u001b[1m0s\u001b[0m 9ms/step - loss: 0.0072 - val_loss: 0.0054\nEpoch 74/100\n\u001b[1m10/10\u001b[0m \u001b[32m━━━━━━━━━━━━━━━━━━━━\u001b[0m\u001b[37m\u001b[0m \u001b[1m0s\u001b[0m 9ms/step - loss: 0.0063 - val_loss: 0.0054\nEpoch 75/100\n\u001b[1m10/10\u001b[0m \u001b[32m━━━━━━━━━━━━━━━━━━━━\u001b[0m\u001b[37m\u001b[0m \u001b[1m0s\u001b[0m 8ms/step - loss: 0.0072 - val_loss: 0.0053\nEpoch 76/100\n\u001b[1m10/10\u001b[0m \u001b[32m━━━━━━━━━━━━━━━━━━━━\u001b[0m\u001b[37m\u001b[0m \u001b[1m0s\u001b[0m 9ms/step - loss: 0.0071 - val_loss: 0.0053\nEpoch 77/100\n\u001b[1m10/10\u001b[0m \u001b[32m━━━━━━━━━━━━━━━━━━━━\u001b[0m\u001b[37m\u001b[0m \u001b[1m0s\u001b[0m 8ms/step - loss: 0.0062 - val_loss: 0.0052\nEpoch 78/100\n\u001b[1m10/10\u001b[0m \u001b[32m━━━━━━━━━━━━━━━━━━━━\u001b[0m\u001b[37m\u001b[0m \u001b[1m0s\u001b[0m 9ms/step - loss: 0.0059 - val_loss: 0.0052\nEpoch 79/100\n\u001b[1m10/10\u001b[0m \u001b[32m━━━━━━━━━━━━━━━━━━━━\u001b[0m\u001b[37m\u001b[0m \u001b[1m0s\u001b[0m 9ms/step - loss: 0.0053 - val_loss: 0.0052\nEpoch 80/100\n\u001b[1m10/10\u001b[0m \u001b[32m━━━━━━━━━━━━━━━━━━━━\u001b[0m\u001b[37m\u001b[0m \u001b[1m0s\u001b[0m 9ms/step - loss: 0.0063 - val_loss: 0.0052\nEpoch 81/100\n\u001b[1m10/10\u001b[0m \u001b[32m━━━━━━━━━━━━━━━━━━━━\u001b[0m\u001b[37m\u001b[0m \u001b[1m0s\u001b[0m 8ms/step - loss: 0.0064 - val_loss: 0.0052\nEpoch 82/100\n\u001b[1m10/10\u001b[0m \u001b[32m━━━━━━━━━━━━━━━━━━━━\u001b[0m\u001b[37m\u001b[0m \u001b[1m0s\u001b[0m 9ms/step - loss: 0.0053 - val_loss: 0.0051\nEpoch 83/100\n\u001b[1m10/10\u001b[0m \u001b[32m━━━━━━━━━━━━━━━━━━━━\u001b[0m\u001b[37m\u001b[0m \u001b[1m0s\u001b[0m 8ms/step - loss: 0.0065 - val_loss: 0.0051\nEpoch 84/100\n\u001b[1m10/10\u001b[0m \u001b[32m━━━━━━━━━━━━━━━━━━━━\u001b[0m\u001b[37m\u001b[0m \u001b[1m0s\u001b[0m 8ms/step - loss: 0.0057 - val_loss: 0.0051\nEpoch 85/100\n\u001b[1m10/10\u001b[0m \u001b[32m━━━━━━━━━━━━━━━━━━━━\u001b[0m\u001b[37m\u001b[0m \u001b[1m0s\u001b[0m 9ms/step - loss: 0.0050 - val_loss: 0.0050\nEpoch 86/100\n\u001b[1m10/10\u001b[0m \u001b[32m━━━━━━━━━━━━━━━━━━━━\u001b[0m\u001b[37m\u001b[0m \u001b[1m0s\u001b[0m 9ms/step - loss: 0.0052 - val_loss: 0.0050\nEpoch 87/100\n\u001b[1m10/10\u001b[0m \u001b[32m━━━━━━━━━━━━━━━━━━━━\u001b[0m\u001b[37m\u001b[0m \u001b[1m0s\u001b[0m 9ms/step - loss: 0.0071 - val_loss: 0.0051\nEpoch 88/100\n\u001b[1m10/10\u001b[0m \u001b[32m━━━━━━━━━━━━━━━━━━━━\u001b[0m\u001b[37m\u001b[0m \u001b[1m0s\u001b[0m 8ms/step - loss: 0.0057 - val_loss: 0.0050\nEpoch 89/100\n\u001b[1m10/10\u001b[0m \u001b[32m━━━━━━━━━━━━━━━━━━━━\u001b[0m\u001b[37m\u001b[0m \u001b[1m0s\u001b[0m 8ms/step - loss: 0.0054 - val_loss: 0.0050\nEpoch 90/100\n\u001b[1m10/10\u001b[0m \u001b[32m━━━━━━━━━━━━━━━━━━━━\u001b[0m\u001b[37m\u001b[0m \u001b[1m0s\u001b[0m 9ms/step - loss: 0.0065 - val_loss: 0.0050\nEpoch 91/100\n\u001b[1m10/10\u001b[0m \u001b[32m━━━━━━━━━━━━━━━━━━━━\u001b[0m\u001b[37m\u001b[0m \u001b[1m0s\u001b[0m 9ms/step - loss: 0.0054 - val_loss: 0.0050\nEpoch 92/100\n\u001b[1m10/10\u001b[0m \u001b[32m━━━━━━━━━━━━━━━━━━━━\u001b[0m\u001b[37m\u001b[0m \u001b[1m0s\u001b[0m 9ms/step - loss: 0.0061 - val_loss: 0.0050\nEpoch 93/100\n\u001b[1m10/10\u001b[0m \u001b[32m━━━━━━━━━━━━━━━━━━━━\u001b[0m\u001b[37m\u001b[0m \u001b[1m0s\u001b[0m 9ms/step - loss: 0.0057 - val_loss: 0.0050\nEpoch 94/100\n\u001b[1m10/10\u001b[0m \u001b[32m━━━━━━━━━━━━━━━━━━━━\u001b[0m\u001b[37m\u001b[0m \u001b[1m0s\u001b[0m 9ms/step - loss: 0.0060 - val_loss: 0.0050\nEpoch 95/100\n\u001b[1m10/10\u001b[0m \u001b[32m━━━━━━━━━━━━━━━━━━━━\u001b[0m\u001b[37m\u001b[0m \u001b[1m0s\u001b[0m 8ms/step - loss: 0.0060 - val_loss: 0.0049\nEpoch 96/100\n\u001b[1m10/10\u001b[0m \u001b[32m━━━━━━━━━━━━━━━━━━━━\u001b[0m\u001b[37m\u001b[0m \u001b[1m0s\u001b[0m 9ms/step - loss: 0.0054 - val_loss: 0.0049\nEpoch 97/100\n\u001b[1m10/10\u001b[0m \u001b[32m━━━━━━━━━━━━━━━━━━━━\u001b[0m\u001b[37m\u001b[0m \u001b[1m0s\u001b[0m 9ms/step - loss: 0.0053 - val_loss: 0.0049\nEpoch 98/100\n\u001b[1m10/10\u001b[0m \u001b[32m━━━━━━━━━━━━━━━━━━━━\u001b[0m\u001b[37m\u001b[0m \u001b[1m0s\u001b[0m 9ms/step - loss: 0.0061 - val_loss: 0.0049\nEpoch 99/100\n\u001b[1m10/10\u001b[0m \u001b[32m━━━━━━━━━━━━━━━━━━━━\u001b[0m\u001b[37m\u001b[0m \u001b[1m0s\u001b[0m 9ms/step - loss: 0.0058 - val_loss: 0.0049\nEpoch 100/100\n\u001b[1m10/10\u001b[0m \u001b[32m━━━━━━━━━━━━━━━━━━━━\u001b[0m\u001b[37m\u001b[0m \u001b[1m0s\u001b[0m 9ms/step - loss: 0.0049 - val_loss: 0.0048\n",
          "output_type": "stream"
        }
      ],
      "execution_count": null
    },
    {
      "cell_type": "code",
      "source": [
        "y_pred = model.predict(X_test_scaled)"
      ],
      "metadata": {
        "trusted": true,
        "execution": {
          "iopub.status.busy": "2025-08-10T16:28:23.631857Z",
          "iopub.execute_input": "2025-08-10T16:28:23.632104Z",
          "iopub.status.idle": "2025-08-10T16:28:23.819427Z",
          "shell.execute_reply.started": "2025-08-10T16:28:23.632085Z",
          "shell.execute_reply": "2025-08-10T16:28:23.818646Z"
        },
        "id": "fdkJiORY0Lcn",
        "outputId": "086a4aba-850c-497a-ee27-e435da042cc2"
      },
      "outputs": [
        {
          "name": "stdout",
          "text": "\u001b[1m4/4\u001b[0m \u001b[32m━━━━━━━━━━━━━━━━━━━━\u001b[0m\u001b[37m\u001b[0m \u001b[1m0s\u001b[0m 20ms/step\n",
          "output_type": "stream"
        }
      ],
      "execution_count": null
    },
    {
      "cell_type": "code",
      "source": [
        "from sklearn.metrics import r2_score\n",
        "r2_score(y_test, y_pred)"
      ],
      "metadata": {
        "trusted": true,
        "execution": {
          "iopub.status.busy": "2025-08-10T16:28:23.820607Z",
          "iopub.execute_input": "2025-08-10T16:28:23.820856Z",
          "iopub.status.idle": "2025-08-10T16:28:23.827575Z",
          "shell.execute_reply.started": "2025-08-10T16:28:23.820837Z",
          "shell.execute_reply": "2025-08-10T16:28:23.826777Z"
        },
        "id": "_wiBwHi-0Lcn",
        "outputId": "98f47f14-32f1-4abe-d871-17113ee24acc"
      },
      "outputs": [
        {
          "execution_count": 42,
          "output_type": "execute_result",
          "data": {
            "text/plain": "0.6701012378053812"
          },
          "metadata": {}
        }
      ],
      "execution_count": null
    },
    {
      "cell_type": "code",
      "source": [
        "import matplotlib.pyplot as plt"
      ],
      "metadata": {
        "trusted": true,
        "execution": {
          "iopub.status.busy": "2025-08-10T16:28:23.829176Z",
          "iopub.execute_input": "2025-08-10T16:28:23.829508Z",
          "iopub.status.idle": "2025-08-10T16:28:23.843333Z",
          "shell.execute_reply.started": "2025-08-10T16:28:23.829452Z",
          "shell.execute_reply": "2025-08-10T16:28:23.84255Z"
        },
        "id": "IwRAoTPm0Lcn"
      },
      "outputs": [],
      "execution_count": null
    },
    {
      "cell_type": "code",
      "source": [
        "plt.plot(history.history['loss'])\n",
        "plt.plot(history.history['val_loss'])"
      ],
      "metadata": {
        "trusted": true,
        "execution": {
          "iopub.status.busy": "2025-08-10T16:28:29.668855Z",
          "iopub.execute_input": "2025-08-10T16:28:29.669787Z",
          "iopub.status.idle": "2025-08-10T16:28:29.838732Z",
          "shell.execute_reply.started": "2025-08-10T16:28:29.669748Z",
          "shell.execute_reply": "2025-08-10T16:28:29.837628Z"
        },
        "id": "it9-BHFq0Lcn",
        "outputId": "226d5b56-8222-4440-c408-903419e23c4a"
      },
      "outputs": [
        {
          "execution_count": 44,
          "output_type": "execute_result",
          "data": {
            "text/plain": "[<matplotlib.lines.Line2D at 0x7849b93a4210>]"
          },
          "metadata": {}
        },
        {
          "output_type": "display_data",
          "data": {
            "text/plain": "<Figure size 640x480 with 1 Axes>",
            "image/png": "[encoded data removed]"
          },
          "metadata": {}
        }
      ],
      "execution_count": null
    },
    {
      "cell_type": "code",
      "source": [],
      "metadata": {
        "trusted": true,
        "id": "bW7ro0T_0Lcn"
      },
      "outputs": [],
      "execution_count": null
    }
  ]
}