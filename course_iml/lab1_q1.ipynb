{
  "nbformat": 4,
  "nbformat_minor": 0,
  "metadata": {
    "colab": {
      "provenance": [],
      "authorship_tag": "ABX9TyMGNVW419f6zY1n8/j8gei6",
      "include_colab_link": true
    },
    "kernelspec": {
      "name": "python3",
      "display_name": "Python 3"
    },
    "language_info": {
      "name": "python"
    }
  },
  "cells": [
    {
      "cell_type": "markdown",
      "metadata": {
        "id": "view-in-github",
        "colab_type": "text"
      },
      "source": [
        "<a href=\"https://colab.research.google.com/github/mohIITech/learning_machine_learning/blob/main/course_iml/lab1_q1.ipynb\" target=\"_parent\"><img src=\"https://colab.research.google.com/assets/colab-badge.svg\" alt=\"Open In Colab\"/></a>"
      ]
    },
    {
      "cell_type": "code",
      "execution_count": 1,
      "metadata": {
        "id": "fltqUaKwuRhi"
      },
      "outputs": [],
      "source": [
        "import numpy as np"
      ]
    },
    {
      "cell_type": "code",
      "source": [
        "def forb_norm(matrix):\n",
        "  sum = 0\n",
        "  rows = matrix.shape[0]\n",
        "  cols = matrix.shape[1]\n",
        "  for i in range(rows):\n",
        "    for j in range(cols):\n",
        "      sum += (matrix[i][j])**2\n",
        "  sum = (sum)**0.5\n",
        "  return sum"
      ],
      "metadata": {
        "id": "cuaBab6-vyci"
      },
      "execution_count": 2,
      "outputs": []
    },
    {
      "cell_type": "code",
      "source": [
        "def matrix(rows, cols):\n",
        "  matrix = np.random.normal(loc=0, scale=1, size=(rows, cols)) # loc sets the mean 0 and scale sets std dev =1\n",
        "  print(matrix)\n",
        "  return matrix"
      ],
      "metadata": {
        "id": "0EvwflI4witp"
      },
      "execution_count": 6,
      "outputs": []
    },
    {
      "cell_type": "code",
      "source": [
        "forb_norm(matrix(3, 4))"
      ],
      "metadata": {
        "colab": {
          "base_uri": "https://localhost:8080/"
        },
        "id": "yaiBuNwlzrwf",
        "outputId": "a01b8ae3-c361-4df4-b8c8-732d7be5b496"
      },
      "execution_count": 7,
      "outputs": [
        {
          "output_type": "stream",
          "name": "stdout",
          "text": [
            "[[-0.25689198 -1.42522326 -0.42060405 -1.0521962 ]\n",
            " [ 0.41017547  1.31460607  1.10136022  1.23540826]\n",
            " [-1.19536525  0.58923416  0.69383259 -2.34702644]]\n"
          ]
        },
        {
          "output_type": "execute_result",
          "data": {
            "text/plain": [
              "np.float64(3.9727788997102365)"
            ]
          },
          "metadata": {},
          "execution_count": 7
        }
      ]
    },
    {
      "cell_type": "code",
      "source": [],
      "metadata": {
        "id": "7mouUAnVyY70"
      },
      "execution_count": null,
      "outputs": []
    }
  ]
}