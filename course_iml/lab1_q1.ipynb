{
 "cells": [
  {
   "cell_type": "markdown",
   "metadata": {
    "colab_type": "text",
    "id": "view-in-github"
   },
   "source": [
    "<a href=\"https://colab.research.google.com/github/mohIITech/learning_machine_learning/blob/main/course_iml/lab1_q1.ipynb\" target=\"_parent\"><img src=\"https://colab.research.google.com/assets/colab-badge.svg\" alt=\"Open In Colab\"/></a>"
   ]
  },
  {
   "cell_type": "code",
   "execution_count": 1,
   "metadata": {
    "id": "fltqUaKwuRhi"
   },
   "outputs": [],
   "source": [
    "import numpy as np"
   ]
  },
  {
   "cell_type": "code",
   "execution_count": 2,
   "metadata": {
    "id": "cuaBab6-vyci"
   },
   "outputs": [],
   "source": [
    "def forb_norm(matrix):\n",
    "  sum = 0\n",
    "  rows = matrix.shape[0]\n",
    "  cols = matrix.shape[1]\n",
    "  for i in range(rows):\n",
    "    for j in range(cols):\n",
    "      sum += (matrix[i][j])**2\n",
    "  sum = (sum)**0.5\n",
    "  return sum"
   ]
  },
  {
   "cell_type": "code",
   "execution_count": 6,
   "metadata": {
    "id": "0EvwflI4witp"
   },
   "outputs": [],
   "source": [
    "def matrix(rows, cols):\n",
    "  matrix = np.random.normal(loc=0, scale=1, size=(rows, cols)) # loc sets the mean 0 and scale sets std dev =1\n",
    "  print(matrix)\n",
    "  return matrix"
   ]
  },
  {
   "cell_type": "code",
   "execution_count": 7,
   "metadata": {
    "colab": {
     "base_uri": "https://localhost:8080/"
    },
    "id": "yaiBuNwlzrwf",
    "outputId": "a01b8ae3-c361-4df4-b8c8-732d7be5b496"
   },
   "outputs": [
    {
     "name": "stdout",
     "output_type": "stream",
     "text": [
      "[[-0.25689198 -1.42522326 -0.42060405 -1.0521962 ]\n",
      " [ 0.41017547  1.31460607  1.10136022  1.23540826]\n",
      " [-1.19536525  0.58923416  0.69383259 -2.34702644]]\n"
     ]
    },
    {
     "data": {
      "text/plain": [
       "np.float64(3.9727788997102365)"
      ]
     },
     "execution_count": 7,
     "metadata": {},
     "output_type": "execute_result"
    }
   ],
   "source": [
    "forb_norm(matrix(3, 4))"
   ]
  },
  {
   "cell_type": "code",
   "execution_count": null,
   "metadata": {
    "id": "7mouUAnVyY70"
   },
   "outputs": [],
   "source": []
  }
 ],
 "metadata": {
  "colab": {
   "authorship_tag": "ABX9TyMGNVW419f6zY1n8/j8gei6",
   "include_colab_link": true,
   "provenance": []
  },
  "kernelspec": {
   "display_name": "Python 3 (ipykernel)",
   "language": "python",
   "name": "python3"
  },
  "language_info": {
   "codemirror_mode": {
    "name": "ipython",
    "version": 3
   },
   "file_extension": ".py",
   "mimetype": "text/x-python",
   "name": "python",
   "nbconvert_exporter": "python",
   "pygments_lexer": "ipython3",
   "version": "3.12.9"
  }
 },
 "nbformat": 4,
 "nbformat_minor": 4
}
