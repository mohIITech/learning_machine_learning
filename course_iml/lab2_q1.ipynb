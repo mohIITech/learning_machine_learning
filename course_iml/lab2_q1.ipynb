{
 "cells": [
  {
   "cell_type": "code",
   "execution_count": 1,
   "id": "95c7f8b0-e309-417e-86a9-efb68011c804",
   "metadata": {},
   "outputs": [],
   "source": [
    "import numpy as np\n",
    "import pandas as pd "
   ]
  },
  {
   "cell_type": "code",
   "execution_count": 2,
   "id": "4b5fe219-8fa8-4e75-89e1-f22ba58e8afe",
   "metadata": {},
   "outputs": [
    {
     "data": {
      "text/html": [
       "<div>\n",
       "<style scoped>\n",
       "    .dataframe tbody tr th:only-of-type {\n",
       "        vertical-align: middle;\n",
       "    }\n",
       "\n",
       "    .dataframe tbody tr th {\n",
       "        vertical-align: top;\n",
       "    }\n",
       "\n",
       "    .dataframe thead th {\n",
       "        text-align: right;\n",
       "    }\n",
       "</style>\n",
       "<table border=\"1\" class=\"dataframe\">\n",
       "  <thead>\n",
       "    <tr style=\"text-align: right;\">\n",
       "      <th></th>\n",
       "      <th>X1</th>\n",
       "      <th>X2</th>\n",
       "      <th>X3</th>\n",
       "      <th>X4</th>\n",
       "      <th>X5</th>\n",
       "      <th>X6</th>\n",
       "      <th>X7</th>\n",
       "      <th>X8</th>\n",
       "      <th>Y</th>\n",
       "    </tr>\n",
       "  </thead>\n",
       "  <tbody>\n",
       "    <tr>\n",
       "      <th>0</th>\n",
       "      <td>0.98</td>\n",
       "      <td>514.5</td>\n",
       "      <td>294.0</td>\n",
       "      <td>110.25</td>\n",
       "      <td>7.0</td>\n",
       "      <td>2</td>\n",
       "      <td>0.0</td>\n",
       "      <td>0</td>\n",
       "      <td>15.55</td>\n",
       "    </tr>\n",
       "    <tr>\n",
       "      <th>1</th>\n",
       "      <td>0.98</td>\n",
       "      <td>514.5</td>\n",
       "      <td>294.0</td>\n",
       "      <td>110.25</td>\n",
       "      <td>7.0</td>\n",
       "      <td>3</td>\n",
       "      <td>0.0</td>\n",
       "      <td>0</td>\n",
       "      <td>15.55</td>\n",
       "    </tr>\n",
       "    <tr>\n",
       "      <th>2</th>\n",
       "      <td>0.98</td>\n",
       "      <td>514.5</td>\n",
       "      <td>294.0</td>\n",
       "      <td>110.25</td>\n",
       "      <td>7.0</td>\n",
       "      <td>4</td>\n",
       "      <td>0.0</td>\n",
       "      <td>0</td>\n",
       "      <td>15.55</td>\n",
       "    </tr>\n",
       "    <tr>\n",
       "      <th>3</th>\n",
       "      <td>0.98</td>\n",
       "      <td>514.5</td>\n",
       "      <td>294.0</td>\n",
       "      <td>110.25</td>\n",
       "      <td>7.0</td>\n",
       "      <td>5</td>\n",
       "      <td>0.0</td>\n",
       "      <td>0</td>\n",
       "      <td>15.55</td>\n",
       "    </tr>\n",
       "    <tr>\n",
       "      <th>4</th>\n",
       "      <td>0.90</td>\n",
       "      <td>563.5</td>\n",
       "      <td>318.5</td>\n",
       "      <td>122.50</td>\n",
       "      <td>7.0</td>\n",
       "      <td>2</td>\n",
       "      <td>0.0</td>\n",
       "      <td>0</td>\n",
       "      <td>20.84</td>\n",
       "    </tr>\n",
       "  </tbody>\n",
       "</table>\n",
       "</div>"
      ],
      "text/plain": [
       "     X1     X2     X3      X4   X5  X6   X7  X8      Y\n",
       "0  0.98  514.5  294.0  110.25  7.0   2  0.0   0  15.55\n",
       "1  0.98  514.5  294.0  110.25  7.0   3  0.0   0  15.55\n",
       "2  0.98  514.5  294.0  110.25  7.0   4  0.0   0  15.55\n",
       "3  0.98  514.5  294.0  110.25  7.0   5  0.0   0  15.55\n",
       "4  0.90  563.5  318.5  122.50  7.0   2  0.0   0  20.84"
      ]
     },
     "execution_count": 2,
     "metadata": {},
     "output_type": "execute_result"
    }
   ],
   "source": [
    "# importing dataset\n",
    "df = pd.read_csv('datasets/lab2_q1.csv')\n",
    "df.head()"
   ]
  },
  {
   "cell_type": "code",
   "execution_count": 3,
   "id": "d3716455-8990-4b03-8d10-b3c7a00fb22f",
   "metadata": {},
   "outputs": [
    {
     "data": {
      "text/plain": [
       "(768, 9)"
      ]
     },
     "execution_count": 3,
     "metadata": {},
     "output_type": "execute_result"
    }
   ],
   "source": [
    "# getting the dimension\n",
    "df.shape"
   ]
  },
  {
   "cell_type": "code",
   "execution_count": 4,
   "id": "6c4cc56d-7b3e-4242-b81a-c79bdd2e0ac6",
   "metadata": {},
   "outputs": [
    {
     "data": {
      "text/plain": [
       "(((537, 8), (537, 1)), ((115, 8), (115, 1)), ((115, 8), (115, 1)))"
      ]
     },
     "execution_count": 4,
     "metadata": {},
     "output_type": "execute_result"
    }
   ],
   "source": [
    "# splitting the data\n",
    "X_train, y_train = (df.iloc[0 : 537]).drop(columns=['Y']), ((df.iloc[0 : 537])[['Y']]).values\n",
    "X_test, y_test = (df.iloc[537 : 652]).drop(columns=['Y']), (df.iloc[537 : 652])[['Y']].values\n",
    "X_val, y_val = (df.iloc[652 : 767]).drop(columns=['Y']), (df.iloc[652 : 767])[['Y']].values\n",
    "\n",
    "# getting shapes\n",
    "(X_train.shape, y_train.shape), (X_test.shape, y_test.shape), (X_val.shape, y_val.shape) "
   ]
  },
  {
   "cell_type": "code",
   "execution_count": 5,
   "id": "e217c9a3-c4e0-482d-a714-aa51de7297d7",
   "metadata": {},
   "outputs": [
    {
     "data": {
      "text/plain": [
       "(537, 9)"
      ]
     },
     "execution_count": 5,
     "metadata": {},
     "output_type": "execute_result"
    }
   ],
   "source": [
    "def add_ones_to_matrix(matrix):\n",
    "    X = np.hstack((np.ones((matrix.shape[0], 1)), matrix))   # adding row with 1s in X for theta_0\n",
    "    return X\n",
    "\n",
    "X_train = add_ones_to_matrix(X_train)\n",
    "X_test = add_ones_to_matrix(X_test)\n",
    "X_val = add_ones_to_matrix(X_val)\n",
    "X_train.shape  ## should be (537, 9)"
   ]
  },
  {
   "cell_type": "code",
   "execution_count": 6,
   "id": "acd3dfac-0868-488c-a740-8695b0dca5ef",
   "metadata": {},
   "outputs": [
    {
     "data": {
      "text/plain": [
       "array([[ 5.62708714e+01],\n",
       "       [-5.14164985e+01],\n",
       "       [-9.19059027e+09],\n",
       "       [ 9.19059027e+09],\n",
       "       [ 1.83811805e+10],\n",
       "       [ 4.57221092e+00],\n",
       "       [-2.47757831e-02],\n",
       "       [ 2.39218378e+01],\n",
       "       [ 2.45127128e-01]])"
      ]
     },
     "execution_count": 6,
     "metadata": {},
     "output_type": "execute_result"
    }
   ],
   "source": [
    "# these are the optimal parameters (theta_1)\n",
    "def thetas_for(X, y):\n",
    "    theta_1 = np.linalg.solve(X.T@X, X.T@y)\n",
    "    return theta_1\n",
    "thetas_for(X_train, y_train)"
   ]
  },
  {
   "cell_type": "code",
   "execution_count": 7,
   "id": "f279c9dd-00ae-4cd0-ab9c-019c71392ae0",
   "metadata": {},
   "outputs": [],
   "source": [
    "# ml_model\n",
    "def predictions(X, y):\n",
    "    y_hat = X @ thetas_for(X, y)\n",
    "    return y_hat\n",
    "\n",
    "# loss_function\n",
    "def loss_fnc(y_hat, y):\n",
    "    sum = np.mean((y_hat - y)**2)\n",
    "    return sum "
   ]
  },
  {
   "cell_type": "code",
   "execution_count": 8,
   "id": "7eddf508-3a4c-4607-b7f0-4c2925749379",
   "metadata": {},
   "outputs": [
    {
     "data": {
      "text/plain": [
       "(np.float64(8.514044787435981),\n",
       " np.float64(5.587613742681957),\n",
       " np.float64(8.11277013519749))"
      ]
     },
     "execution_count": 8,
     "metadata": {},
     "output_type": "execute_result"
    }
   ],
   "source": [
    "# finding errors\n",
    "train_error = loss_fnc(predictions(X_train, y_train), y_train)\n",
    "val_error = loss_fnc(predictions(X_val, y_val), y_val)\n",
    "test_error = loss_fnc(predictions(X_test, y_test), y_test)\n",
    "train_error, val_error, test_error"
   ]
  },
  {
   "cell_type": "code",
   "execution_count": 17,
   "id": "0d96504d-636c-4328-bd84-a5950be95a2a",
   "metadata": {},
   "outputs": [],
   "source": [
    "# gradient descent for optimal parameters theta_2\n",
    "def gradient_descent(X_train, y_train, X_val, y_val, lr):\n",
    "    epochs = 50\n",
    "    n_samples, n_features = X_train.shape\n",
    "    train_errors =[]\n",
    "    val_errors = []\n",
    "    grad_magnitudes = []\n",
    "    thetas_2 = np.zeros((n_features, 1))\n",
    "    for i in range(epochs):\n",
    "        y_hat = (X_train @ thetas_2).reshape(-1, 1)\n",
    "        #gradient\n",
    "        grad = (2/n_samples) * X_train.T @ (y_hat - y_train)\n",
    "        thetas_2 -= lr * grad\n",
    "        #train and val loss for each epoch\n",
    "        train_errors.append(loss_fnc(X_train@thetas_2, y_train))\n",
    "        val_errors.append(loss_fnc(X_val@thetas_2, y_val))\n",
    "        grad_magnitudes.append(np.linalg.norm(grad))\n",
    "    return thetas_2, train_errors, val_errors, grad_magnitudes"
   ]
  },
  {
   "cell_type": "code",
   "execution_count": 18,
   "id": "043f8195-84de-4eb8-9a0d-804d4bed1784",
   "metadata": {},
   "outputs": [],
   "source": [
    "thetas_2, train_errors, val_errors, grad_magnitudes = gradient_descent(X_train, y_train, X_val, y_val, lr=0.000001)"
   ]
  },
  {
   "cell_type": "code",
   "execution_count": 11,
   "id": "16cc1622-c33f-4fbb-b1c0-ef6ae5b0bda5",
   "metadata": {},
   "outputs": [],
   "source": [
    "import matplotlib.pyplot as plt"
   ]
  },
  {
   "cell_type": "code",
   "execution_count": 19,
   "id": "dcdda2f2-c7ae-4356-8d47-40fd2379e576",
   "metadata": {},
   "outputs": [
    {
     "data": {
      "text/plain": [
       "<matplotlib.legend.Legend at 0x71beb59b1dc0>"
      ]
     },
     "execution_count": 19,
     "metadata": {},
     "output_type": "execute_result"
    },
    {
     "data": {
      "image/png": "[encoded data removed]",
      "text/plain": [
       "<Figure size 640x480 with 1 Axes>"
      ]
     },
     "metadata": {},
     "output_type": "display_data"
    }
   ],
   "source": [
    "# plotting\n",
    "plt.plot(range(50), train_errors, label='Training Error')\n",
    "plt.plot(range(50), val_errors, label='Validation Error')\n",
    "plt.xlabel('epochs')\n",
    "plt.ylabel('error')\n",
    "plt.axhline(train_error, c='r', linestyle='--', label='Train Error (Normal Eq)')\n",
    "plt.axhline(val_error, c='g', linestyle='--', label='Val Error (Normal Eq)')\n",
    "plt.axhline(test_error, c='b', linestyle='--', label='Test Error (Normal Eq)')\n",
    "plt.legend()"
   ]
  },
  {
   "cell_type": "code",
   "execution_count": 20,
   "id": "4220f3a1-b345-4a2e-b540-6906e090f2d7",
   "metadata": {},
   "outputs": [
    {
     "data": {
      "text/plain": [
       "Text(0, 0.5, 'grad_magnitude')"
      ]
     },
     "execution_count": 20,
     "metadata": {},
     "output_type": "execute_result"
    },
    {
     "data": {
      "image/png": "[encoded data removed]",
      "text/plain": [
       "<Figure size 640x480 with 1 Axes>"
      ]
     },
     "metadata": {},
     "output_type": "display_data"
    }
   ],
   "source": [
    "plt.plot(range(50), grad_magnitudes, label='Gradient Magnitude')\n",
    "plt.xlabel('epochs')\n",
    "plt.ylabel('grad_magnitude')"
   ]
  },
  {
   "cell_type": "code",
   "execution_count": 22,
   "id": "27fbbfe8-0cae-4fd6-9b66-710d920f4a95",
   "metadata": {},
   "outputs": [
    {
     "name": "stdout",
     "output_type": "stream",
     "text": [
      "Best learning rate: 1e-06\n"
     ]
    }
   ],
   "source": [
    "# fine tuning the learning rate\n",
    "learning_rates = [0.000001, 0.000005, 0.00001, 0.00005, 0.0001]\n",
    "best_val_error = None\n",
    "for lr in learning_rates:\n",
    "    theta, train_err, val_err, grad_mag = gradient_descent(X_train, y_train, X_val, y_val, lr)\n",
    "    current_val_error = min(val_err)\n",
    "    # for the first iteration to get something instead of none\n",
    "    if best_val_error is None: \n",
    "        best_val_error = current_val_error\n",
    "        best_lr = lr\n",
    "        best_results = (theta, train_err, val_err, grad_mag)\n",
    "    else:\n",
    "        if current_val_error < best_val_error:\n",
    "            best_val_error = current_val_error\n",
    "            best_lr = lr\n",
    "            best_results = (theta, train_err, val_err, grad_mag)\n",
    "\n",
    "print(\"Best learning rate:\", best_lr)"
   ]
  },
  {
   "cell_type": "code",
   "execution_count": null,
   "id": "6aa9cee1-500d-4b09-8bcc-82c479c90a25",
   "metadata": {},
   "outputs": [],
   "source": []
  }
 ],
 "metadata": {
  "kernelspec": {
   "display_name": "Python 3 (ipykernel)",
   "language": "python",
   "name": "python3"
  },
  "language_info": {
   "codemirror_mode": {
    "name": "ipython",
    "version": 3
   },
   "file_extension": ".py",
   "mimetype": "text/x-python",
   "name": "python",
   "nbconvert_exporter": "python",
   "pygments_lexer": "ipython3",
   "version": "3.12.9"
  }
 },
 "nbformat": 4,
 "nbformat_minor": 5
}
